{
 "cells": [
  {
   "cell_type": "code",
   "execution_count": 1,
   "source": [
    "import Pkg; Pkg.activate(joinpath(@__DIR__, \"..\")); Pkg.instantiate();\n",
    "import Pkg; Pkg.add(\"RobotZoo\")\n",
    "using RobotZoo: YakPlane\n",
    "import RobotDynamics\n",
    "using RobotDynamics: state_dim, control_dim\n",
    "using ForwardDiff\n",
    "using StaticArrays\n",
    "using LinearAlgebra\n",
    "using Rotations\n",
    "using Printf\n",
    "using Test\n",
    "using TrajOptPlots\n",
    "using JLD2\n",
    "const RD = RobotDynamics\n",
    "include(\"utils.jl\")\n",
    "include(\"airplane.jl\")\n",
    "const isautograder = @isdefined autograder;\n",
    "const resfile = joinpath(@__DIR__,\"q1.jld2\")"
   ],
   "outputs": [
    {
     "output_type": "stream",
     "name": "stderr",
     "text": [
      "\u001b[32m\u001b[1m  Activating\u001b[22m\u001b[39m environment at `~/Desktop/OptimalC/Project/Code/Project.toml`\n"
     ]
    },
    {
     "output_type": "stream",
     "name": "stderr",
     "text": [
      "\u001b[32m\u001b[1m    Updating\u001b[22m\u001b[39m registry at `~/.julia/registries/General`\n"
     ]
    },
    {
     "output_type": "stream",
     "name": "stderr",
     "text": [
      "\u001b[32m\u001b[1m   Resolving\u001b[22m\u001b[39m package versions...\n"
     ]
    },
    {
     "output_type": "stream",
     "name": "stderr",
     "text": [
      "\u001b[32m\u001b[1m  No Changes\u001b[22m\u001b[39m to `~/Desktop/OptimalC/Project/Code/Project.toml`\n",
      "\u001b[32m\u001b[1m  No Changes\u001b[22m\u001b[39m to `~/Desktop/OptimalC/Project/Code/Manifest.toml`\n"
     ]
    },
    {
     "output_type": "display_data",
     "data": {
      "text/plain": [
       "\"/Users/Augusto/Desktop/OptimalC/Project/Code/src/q1.jld2\""
      ]
     },
     "metadata": {}
    }
   ],
   "metadata": {}
  },
  {
   "cell_type": "code",
   "execution_count": 2,
   "source": [
    "function l(x,μ,point)\n",
    "    if point == 1\n",
    "        return x^5 - (3-μ)*x^4 + (3-2*μ)*x^3 - μ*x^2 + 2*μ*x - μ\n",
    "    end\n",
    "    if point == 2 \n",
    "        return x^5 + (3-μ)*x^4 + (3-2*μ)*x^3 - μ*x^2 - 2*μ*x - μ\n",
    "    end\n",
    "end "
   ],
   "outputs": [
    {
     "output_type": "display_data",
     "data": {
      "text/plain": [
       "l (generic function with 1 method)"
      ]
     },
     "metadata": {}
    }
   ],
   "metadata": {}
  },
  {
   "cell_type": "code",
   "execution_count": 3,
   "source": [
    "function dl(x,μ,point)\n",
    "    if point == 1\n",
    "        return 5*x^4 - 4*(3-μ)*x^3 + 3*(3-2*μ)*x^2 - 2*μ*x^1 + 2*μ\n",
    "    end\n",
    "    if point == 2 \n",
    "        return 5*x^4 + 4*(3-μ)*x^3 + 3*(3-2*μ)*x^2 - 2*μ*x^1 + 2*μ\n",
    "    end\n",
    "end \n"
   ],
   "outputs": [
    {
     "output_type": "display_data",
     "data": {
      "text/plain": [
       "dl (generic function with 1 method)"
      ]
     },
     "metadata": {}
    }
   ],
   "metadata": {}
  },
  {
   "cell_type": "code",
   "execution_count": 4,
   "source": [
    "function l_approx(μ,point)\n",
    "    rh = (μ/3)^(1/3)\n",
    "    if point == 1\n",
    "        return rh*(1-(1/3)*rh-(1/9)*rh^2-(1/27)*rh^3)\n",
    "    end\n",
    "    if point == 2 \n",
    "        return rh*(1+(1/3)*rh-(1/9)*rh^2-(1/27)*rh^3)\n",
    "    end\n",
    "end\n"
   ],
   "outputs": [
    {
     "output_type": "display_data",
     "data": {
      "text/plain": [
       "l_approx (generic function with 1 method)"
      ]
     },
     "metadata": {}
    }
   ],
   "metadata": {}
  },
  {
   "cell_type": "code",
   "execution_count": 5,
   "source": [
    "# TASK: Complete the following function\n",
    "using ForwardDiff\n",
    "\n",
    "function lagrange_points_solve!(x,μ,point; ϵ=1e-6)\n",
    "    f = l(x,μ,point)\n",
    "    e = [norm(f)]\n",
    "    count = 0\n",
    "    while e[end] > ϵ\n",
    "        ∂f = ForwardDiff.derivative(x_ ->l(x_,μ,point), x)\n",
    "        ∂f2 = ForwardDiff.derivative(x_ ->l(x_,μ,point), x)\n",
    "        x = x - ∂f\\f\n",
    "        f = l(x,μ,point)\n",
    "        append!(e,norm(f))\n",
    "    end\n",
    "    # TODO: Implement this function. Feel free to add optional input arguments as needed\n",
    "    # residuals = Float64[]\n",
    "    # residuals = implicit_midpoint(f,x1,x2)\n",
    "    return e,x\n",
    "end "
   ],
   "outputs": [
    {
     "output_type": "display_data",
     "data": {
      "text/plain": [
       "lagrange_points_solve! (generic function with 1 method)"
      ]
     },
     "metadata": {}
    }
   ],
   "metadata": {}
  },
  {
   "cell_type": "code",
   "execution_count": 6,
   "source": [
    "#Sun Jupiter System \n",
    "mu = 9.537e-4\n",
    "L = 1\n",
    "x0_l1 = l_approx(mu,1)\n",
    "x0_l2 = l_approx(mu,2)\n",
    "err,γ1 = lagrange_points_solve!(x0_l1,mu,1);\n",
    "err2,γ2 = lagrange_points_solve!(x0_l2,mu,2);\n",
    "@show γ1\n",
    "#L1 \n",
    "@show 1-mu-γ1 \n",
    "@show γ2\n",
    "#L2\n",
    "@show 1-mu+γ2\n",
    "#L4\n",
    "@show (L^2-(L/2)^2)^0.5 \n",
    "#How do we normalize L? We just treat it as one? "
   ],
   "outputs": [
    {
     "output_type": "stream",
     "name": "stdout",
     "text": [
      "γ1 = 0.06666031474629562\n",
      "(1 - mu) - γ1 = 0.9323859852537044\n",
      "γ2 = 0.06976560661590613\n",
      "(1 - mu) + γ2 = 1.068811906615906\n",
      "(L ^ 2 - (L / 2) ^ 2) ^ 0.5 = 0.8660254037844386\n"
     ]
    },
    {
     "output_type": "display_data",
     "data": {
      "text/plain": [
       "0.8660254037844386"
      ]
     },
     "metadata": {}
    }
   ],
   "metadata": {}
  }
 ],
 "metadata": {
  "@webio": {
   "lastCommId": null,
   "lastKernelId": null
  },
  "kernelspec": {
   "display_name": "Julia 1.6.5",
   "language": "julia",
   "name": "julia-1.6"
  },
  "language_info": {
   "name": "julia",
   "version": "1.6.5",
   "mimetype": "application/julia",
   "file_extension": ".jl"
  }
 },
 "nbformat": 4,
 "nbformat_minor": 4
}