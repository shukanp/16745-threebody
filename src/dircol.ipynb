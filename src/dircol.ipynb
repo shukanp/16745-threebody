{
 "cells": [
  {
   "cell_type": "code",
   "execution_count": 1,
   "source": [
    "import Pkg; Pkg.activate(@__DIR__); Pkg.instantiate()"
   ],
   "outputs": [
    {
     "output_type": "stream",
     "name": "stderr",
     "text": [
      "\u001b[32m\u001b[1m  Activating\u001b[22m\u001b[39m environment at `~/Desktop/OptimalC/Project/16745-threebody/src/Project.toml`\n"
     ]
    }
   ],
   "metadata": {
    "tags": []
   }
  },
  {
   "cell_type": "code",
   "execution_count": 2,
   "source": [
    "using LinearAlgebra\n",
    "# using PyPlot\n",
    "using Plots\n",
    "using ForwardDiff\n",
    "using RobotZoo\n",
    "using RobotDynamics\n",
    "using Ipopt\n",
    "using MathOptInterface\n",
    "using StaticArrays\n",
    "using SparseArrays\n",
    "# Pkg.add(\"MATLAB\")\n",
    "using MATLAB \n",
    "# Pkg.add(\"DataStructures\")\n",
    "include(\"Non_lin_exp.jl\")\n",
    "include(\"CR3BP_Dynamics.jl\")\n",
    "include(\"sparseblocks.jl\")\n",
    "const MOI = MathOptInterface;"
   ],
   "outputs": [],
   "metadata": {}
  },
  {
   "cell_type": "code",
   "execution_count": 3,
   "source": [
    "Nx = 6     # number of state\n",
    "Nu = 1     # number of controls\n",
    "Tfinal = pi # final time-50 knot points or something similar \n",
    "Nt = 50   # number of time steps-52\n",
    "h = Tfinal/(Nt-1) \n",
    "thist = Array(range(0,Tfinal, step=h));#0:pi,step: 0.06 \n",
    "n_nlp = (Nx+Nu)*Nt # number of decision variables-350\n",
    "m_nlp = Nx*(Nt+1) #306\n",
    "u_idx = [(Nx+Nu)*(i-1) .+ (Nx+1:Nx+Nu) for i = 1:Nt];\n",
    "x_idx = [(Nx+Nu)*(i-1) .+ (1:Nx) for i = 1:Nt];\n",
    "@show h"
   ],
   "outputs": [
    {
     "output_type": "stream",
     "name": "stdout",
     "text": [
      "h = 0.0641141357875468\n"
     ]
    },
    {
     "output_type": "display_data",
     "data": {
      "text/plain": [
       "0.0641141357875468"
      ]
     },
     "metadata": {}
    }
   ],
   "metadata": {}
  },
  {
   "cell_type": "code",
   "execution_count": 4,
   "source": [
    "include(\"Non_lin_exp.jl\")\n",
    "#Calc of Reference Trajectory \n",
    "Xref =[zeros(Nx) for i=1:Nt];\n",
    "for k = 1:Nt\n",
    "    Pos = Non_lin_exp(thist[k]);\n",
    "    # Pos = lin_approx(thist[k]);\n",
    "    Xref[k][1] = Pos[1];\n",
    "    Xref[k][2] = Pos[2];\n",
    "    Xref[k][3] = Pos[3];\n",
    "    Vels = ForwardDiff.derivative(Non_lin_exp,thist[k]);\n",
    "    # Vels = ForwardDiff.derivative(lin_approx,thist[k]);\n",
    "    Xref[k][4] = Vels[1];\n",
    "    Xref[k][5] = Vels[2];\n",
    "    Xref[k][6] = Vels[3];\n",
    "end\n",
    "Uref = h*ones(Nt);"
   ],
   "outputs": [],
   "metadata": {}
  },
  {
   "cell_type": "code",
   "execution_count": 5,
   "source": [
    "xRef = zeros(Nt)\n",
    "yRef = zeros(Nt)\n",
    "zRef = zeros(Nt)\n",
    "\n",
    "for k = 1:Nt\n",
    "    xRef[k] = Xref[k][1]\n",
    "    yRef[k] = Xref[k][2]\n",
    "    zRef[k] = Xref[k][3]\n",
    "end\n",
    "\n",
    "# Plots.plot(xRef,yRef)"
   ],
   "outputs": [],
   "metadata": {}
  },
  {
   "cell_type": "code",
   "execution_count": 6,
   "source": [
    "function dircol_dynamics(x1,x2,h)\n",
    "    #Hermite-Simpson integration with first-order hold on u\n",
    "    f1 = CR3BPdynamics(x1) #Timestep k\n",
    "    f2 = CR3BPdynamics(x2) #Timestep k+1\n",
    "    xm = 0.5.*(x1 + x2) .+ (h/8.0).*(f1 - f2) #\n",
    "    ẋm = (-3.0/(2.0*h)).*(x1 - x2) .- 0.25.*(f1 + f2)\n",
    "    fm = CR3BPdynamics(xm)\n",
    "    return fm - ẋm\n",
    "end"
   ],
   "outputs": [
    {
     "output_type": "display_data",
     "data": {
      "text/plain": [
       "dircol_dynamics (generic function with 1 method)"
      ]
     },
     "metadata": {}
    }
   ],
   "metadata": {}
  },
  {
   "cell_type": "code",
   "execution_count": 7,
   "source": [
    "# Cost weights\n",
    "Q = Diagonal([0.95*10e1*ones(3); 0.95*10e1*ones(3)]);\n",
    "R = 0.001;"
   ],
   "outputs": [],
   "metadata": {}
  },
  {
   "cell_type": "code",
   "execution_count": 8,
   "source": [
    "function stage_cost(x,u,Xref,Uref)\n",
    "    return 0.5*((x.-Xref)'*Q*(x.-Xref)) + 0.5*(u.-Uref)'*R*(u.-Uref)\n",
    "end"
   ],
   "outputs": [
    {
     "output_type": "display_data",
     "data": {
      "text/plain": [
       "stage_cost (generic function with 1 method)"
      ]
     },
     "metadata": {}
    }
   ],
   "metadata": {}
  },
  {
   "cell_type": "code",
   "execution_count": 9,
   "source": [
    "function cost(ztraj)\n",
    "    z = reshape(ztraj,Nx+Nu,Nt)\n",
    "    J = 0.0\n",
    "    for k = 1:Nt\n",
    "        J += stage_cost(z[1:Nx,k],z[(Nx+1):(Nx+Nu),k],Xref[k],Uref[k])\n",
    "    end\n",
    "    return J\n",
    "end"
   ],
   "outputs": [
    {
     "output_type": "display_data",
     "data": {
      "text/plain": [
       "cost (generic function with 1 method)"
      ]
     },
     "metadata": {}
    }
   ],
   "metadata": {}
  },
  {
   "cell_type": "code",
   "execution_count": 10,
   "source": [
    "function dynamics_constraint!(c,ztraj)\n",
    "    d = reshape(c,Nx,Nt) # c[6,50] = 300\n",
    "    z = reshape(ztraj,Nx+Nu,Nt) #ztraj[7,50]\n",
    "    for k = 1:(Nt-1)\n",
    "        x1 = z[1:Nx,k]\n",
    "        u1 = z[(Nx+1):(Nx+Nu),k]\n",
    "        x2 = z[1:Nx,k+1]\n",
    "        d[:,k] = dircol_dynamics(x1,x2,u1)\n",
    "    end\n",
    "    return nothing\n",
    "end"
   ],
   "outputs": [
    {
     "output_type": "display_data",
     "data": {
      "text/plain": [
       "dynamics_constraint! (generic function with 1 method)"
      ]
     },
     "metadata": {}
    }
   ],
   "metadata": {}
  },
  {
   "cell_type": "code",
   "execution_count": 11,
   "source": [
    "function con!(c,ztraj)\n",
    "    z = reshape(ztraj,Nx+Nu,Nt)#7 x 50\n",
    "    @views dynamics_constraint!(c[1:(end-Nx)],ztraj) #6 x 50 \n",
    "    #Periodicity Constraint \n",
    "    c[(end-Nx+1):end] .= z[1:Nx,end] - z[1:Nx,1]\n",
    "end"
   ],
   "outputs": [
    {
     "output_type": "display_data",
     "data": {
      "text/plain": [
       "con! (generic function with 1 method)"
      ]
     },
     "metadata": {}
    }
   ],
   "metadata": {}
  },
  {
   "cell_type": "code",
   "execution_count": 12,
   "source": [
    "struct ProblemMOI <: MOI.AbstractNLPEvaluator\n",
    "    n_nlp::Int\n",
    "    m_nlp::Int\n",
    "    idx_ineq\n",
    "    obj_grad::Bool\n",
    "    con_jac::Bool\n",
    "    sparsity_jac\n",
    "    sparsity_hess\n",
    "    primal_bounds\n",
    "    constraint_bounds\n",
    "    hessian_lagrangian::Bool\n",
    "end \n",
    "\n",
    "function ProblemMOI(n_nlp,m_nlp;\n",
    "    idx_ineq=(1:0),\n",
    "    obj_grad=true,\n",
    "    con_jac=true,\n",
    "    sparsity_jac=sparsity_jacobian(n_nlp,m_nlp),\n",
    "    sparsity_hess=sparsity_hessian(n_nlp,m_nlp),\n",
    "    primal_bounds=primal_bounds(n_nlp),\n",
    "    constraint_bounds=constraint_bounds(m_nlp,idx_ineq=idx_ineq),\n",
    "    hessian_lagrangian=false)\n",
    "    ProblemMOI(n_nlp,m_nlp,\n",
    "            idx_ineq,\n",
    "            obj_grad,\n",
    "            con_jac,\n",
    "            sparsity_jac,\n",
    "            sparsity_hess,\n",
    "            primal_bounds,\n",
    "            constraint_bounds,\n",
    "            hessian_lagrangian)\n",
    "end\n",
    "\n",
    "\n",
    "#Our code \n",
    "function primal_bounds(n)\n",
    "    x_l = -Inf*ones(n)\n",
    "    x_u = Inf*ones(n) #+_ 20% dt_ref\n",
    "    for k = 1:Nt\n",
    "        x_l[u_idx[k]] .= h*0.01 #Something reasonable based on dt_ref 0.8*dt\n",
    "        x_u[u_idx[k]] .= h*1.5\n",
    "    end \n",
    "\n",
    "    return x_l, x_u\n",
    "end\n",
    "\n",
    "#Our code \n",
    "function constraint_bounds(m; idx_ineq=(1:0))\n",
    "    c_l = zeros(m)\n",
    "    c_u = zeros(m)\n",
    "    return c_l, c_u\n",
    "end\n",
    "#Our code \n",
    "\n",
    "function row_col!(row,col,r,c)\n",
    "    for cc in c\n",
    "        for rr in r\n",
    "            push!(row,convert(Int,rr))\n",
    "            push!(col,convert(Int,cc))\n",
    "        end\n",
    "    end\n",
    "    return row, col\n",
    "end\n",
    "####################-SPARSITY-####################\n",
    "function initialize_test_sparsity!(prob)\n",
    "    # n,m = Nx, Nu\n",
    "    n = 0 \n",
    "    blocks = prob.blocks\n",
    "    idx = x_idx[1]\n",
    "    for k = 1:Nt-1\n",
    "        idx = idx .+ n\n",
    "        setblock!(blocks, idx, x_idx[k])\n",
    "        setblock!(blocks, idx, u_idx[k])\n",
    "        setblock!(blocks, idx, x_idx[k+1])\n",
    "        n = Nx\n",
    "    end\n",
    "#Periodicity Constraint\n",
    "    idx = idx .+ n \n",
    "    for i = 1:n\n",
    "        setblock!(blocks, idx[i], x_idx[1][i])\n",
    "        setblock!(blocks, idx[i], x_idx[end][i])\n",
    "    end\n",
    "end\n",
    "####################-SPARSITY-####################\n",
    "\n",
    "function sparsity_jacobian(n,m)\n",
    "#######-Dense Jac-###############\n",
    "    row = []\n",
    "    col = []\n",
    "    r = 1:m\n",
    "    c = 1:n\n",
    "    row_col!(row,col,r,c)\n",
    "    return collect(zip(row,col))\n",
    "#######-Sparse Jac-###############\n",
    "    # rc = Tuple{Int,Int}[]\n",
    "    # # SOLUTION\n",
    "    # initialize_teste_sparsity!(prob)\n",
    "    # rc = getrc(prob.blocks)\n",
    "    # return rc \n",
    "end \n",
    "\n",
    "function sparsity_hessian(n,m)\n",
    "\n",
    "    row = []\n",
    "    col = []\n",
    "\n",
    "    r = 1:m\n",
    "    c = 1:n\n",
    "\n",
    "    row_col!(row,col,r,c)\n",
    "\n",
    "    return collect(zip(row,col))\n",
    "end\n",
    "\n",
    "function MOI.eval_objective(prob::MOI.AbstractNLPEvaluator, x)\n",
    "    cost(x)\n",
    "end\n",
    "\n",
    "function MOI.eval_objective_gradient(prob::MOI.AbstractNLPEvaluator, grad_f, x)\n",
    "    ForwardDiff.gradient!(grad_f,cost,x)\n",
    "    return nothing\n",
    "end\n",
    "\n",
    "function MOI.eval_constraint(prob::MOI.AbstractNLPEvaluator,g,x)\n",
    "    con!(g,x)\n",
    "    return nothing\n",
    "end\n",
    "\n",
    "function MOI.eval_constraint_jacobian(prob::MOI.AbstractNLPEvaluator, jac, x)\n",
    "    ForwardDiff.jacobian!(reshape(jac,prob.m_nlp,prob.n_nlp), con!, zeros(prob.m_nlp), x)\n",
    "    return nothing\n",
    "end\n",
    "\n",
    "function MOI.features_available(prob::MOI.AbstractNLPEvaluator)\n",
    "    return [:Grad, :Jac]\n",
    "end\n",
    "\n",
    "MOI.initialize(prob::MOI.AbstractNLPEvaluator, features) = nothing\n",
    "MOI.jacobian_structure(prob::MOI.AbstractNLPEvaluator) = prob.sparsity_jac\n",
    "\n",
    "function solve(x0,prob::MOI.AbstractNLPEvaluator;\n",
    "        tol=1.0e-9,c_tol=1.0e-9,max_iter=10000)\n",
    "    x_l, x_u = prob.primal_bounds\n",
    "    c_l, c_u = prob.constraint_bounds\n",
    "\n",
    "    nlp_bounds = MOI.NLPBoundsPair.(c_l,c_u)\n",
    "    block_data = MOI.NLPBlockData(nlp_bounds,prob,true)\n",
    "\n",
    "    solver = Ipopt.Optimizer()\n",
    "    solver.options[\"max_iter\"] = max_iter\n",
    "    solver.options[\"tol\"] = tol\n",
    "    solver.options[\"constr_viol_tol\"] = c_tol\n",
    "\n",
    "    x = MOI.add_variables(solver,prob.n_nlp)\n",
    "\n",
    "    for i = 1:prob.n_nlp\n",
    "        x_idx = MOI.SingleVariable(x[i])\n",
    "        MOI.add_constraint(solver, x_idx, MOI.LessThan(x_u[i]))\n",
    "        MOI.add_constraint(solver, x_idx, MOI.GreaterThan(x_l[i]))\n",
    "        MOI.set(solver, MOI.VariablePrimalStart(), x[i], x0[i])\n",
    "    end\n",
    "\n",
    "    # Solve the problem\n",
    "    MOI.set(solver, MOI.NLPBlock(), block_data)\n",
    "    MOI.set(solver, MOI.ObjectiveSense(), MOI.MIN_SENSE)\n",
    "    MOI.optimize!(solver)\n",
    "\n",
    "    # Get the solution\n",
    "    res = MOI.get(solver, MOI.VariablePrimal(), x)\n",
    "\n",
    "    return res\n",
    "end"
   ],
   "outputs": [
    {
     "output_type": "display_data",
     "data": {
      "text/plain": [
       "solve (generic function with 1 method)"
      ]
     },
     "metadata": {}
    }
   ],
   "metadata": {}
  },
  {
   "cell_type": "code",
   "execution_count": 13,
   "source": [
    "#Guess\n",
    "z0 = zeros((Nx+Nu)*(Nt))\n",
    "z0[x_idx[1]] = Xref[1]\n",
    "for k=1:Nt\n",
    "    z0[x_idx[k]] = Xref[k]\n",
    "    z0[u_idx[k]] .= Uref[k]\n",
    "end"
   ],
   "outputs": [],
   "metadata": {}
  },
  {
   "cell_type": "code",
   "execution_count": 14,
   "source": [
    "prob = ProblemMOI(n_nlp,m_nlp)\n",
    "z_sol = solve(z0,prob) # solve"
   ],
   "outputs": [],
   "metadata": {}
  },
  {
   "cell_type": "code",
   "execution_count": null,
   "source": [
    "ztraj = reshape(z_sol,Nx+Nu,Nt);\n",
    "xtraj = ztraj[1:Nx,:];#6 x 91\n",
    "utraj = ztraj[(Nx+1):(Nx+Nu),:]; # 1 x 91\n",
    "@show utraj"
   ],
   "outputs": [],
   "metadata": {}
  },
  {
   "cell_type": "code",
   "execution_count": null,
   "source": [
    "xtraj\n",
    "# p = Plots.plot(xRef,yRef)\n",
    "# Plots.plot!(p,xtraj[1,:],xtraj[2,:])\n",
    "# Plots.plot(xtraj[1,:],xtraj[2,:])\n",
    "# Plot(thist,xtraj[2,:])\n",
    "# Plot(thist,xguess[1,:])\n",
    "# PyPlot.show()"
   ],
   "outputs": [],
   "metadata": {}
  },
  {
   "cell_type": "code",
   "execution_count": null,
   "source": [
    "Plots.plot(xtraj[1,:],xtraj[2,:])\n",
    "# Plots.plot(thist,xtraj[3,:])\n",
    "# PyPlot.show()"
   ],
   "outputs": [],
   "metadata": {}
  },
  {
   "cell_type": "code",
   "execution_count": null,
   "source": [
    "Plots.plot(thist,utraj[1,:])"
   ],
   "outputs": [],
   "metadata": {}
  },
  {
   "cell_type": "code",
   "execution_count": null,
   "source": [
    "xTraj = zeros(Nt)\n",
    "yTraj = zeros(Nt)\n",
    "ztraj = zeros(Nt)\n",
    "\n",
    "for k = 1:Nt\n",
    "    xTraj[k] = xtraj[1,k]\n",
    "    yTraj[k] = xtraj[2,k]\n",
    "    ztraj[k] = xtraj[3,k]\n",
    "end\n"
   ],
   "outputs": [],
   "metadata": {}
  },
  {
   "cell_type": "code",
   "execution_count": null,
   "source": [
    "mat\"\"\"\n",
    "plot3($xTraj,$yTraj,$ztraj,'DisplayName','IPOPT')\n",
    "hold on \n",
    "plot3($xRef,$yRef,$zRef,'DisplayName','Reference')\n",
    "\n",
    "legend('IPOPT','Reference')\n",
    "\"\"\" "
   ],
   "outputs": [],
   "metadata": {}
  },
  {
   "cell_type": "code",
   "execution_count": null,
   "source": [
    "mat\"\"\"\n",
    "plot($xTraj,$yTraj,'DisplayName','IPOPT')\n",
    "hold on \n",
    "plot($xRef,$yRef,'DisplayName','Reference')\n",
    "\n",
    "legend('IPOPT','Reference')\n",
    "\"\"\" "
   ],
   "outputs": [],
   "metadata": {}
  },
  {
   "cell_type": "code",
   "execution_count": null,
   "source": [
    "let\n",
    "    z = randn(n_nlp)\n",
    "    c = randn(m_nlp)\n",
    "    # jac = randn(m_nlp,n_nlp)\n",
    "    jac = ForwardDiff.jacobian(con!,c,z)\n",
    "    # con!(c,z)\n",
    "    @show jac[x_idx[1],u_idx[1]]\n",
    "    X_ = [zeros(Nx) for k = 1:Nt]\n",
    "\n",
    "    X_[1] = Xref[1]\n",
    "\n",
    "    for i = 1:Nt-1\n",
    "        X_[i+1] = rk4(CR3BPdynamics,X_[i],h)\n",
    "    end \n",
    "\n",
    "    A = [zeros(Nx,Nx) for k = 1:Nt]\n",
    "\n",
    "    for i = 1:Nt \n",
    "        A[i] = ForwardDiff.jacobian(x->rk4(CR3BPdynamics,x,h),X_[i])\n",
    "    end\n",
    "    \n",
    "    n = 0 \n",
    "    for k = 1:Nt-1\n",
    "        idx = idx .+ n\n",
    "        x1,x2 = z[x_idx[k]], z[x_idx[k+1]]\n",
    "        u1,u2 = z[u_idx[k]], z[u_idx[k+1]]\n",
    "        t = thist[k]\n",
    "\n",
    "        h = thist[k+1] - thist[k]\n",
    "        jac_x1 = view(jac, idx, x_idx[k])\n",
    "        jac_u1 = view(jac, idx, u_idx[k])\n",
    "        jac_x2 = view(jac, idx, x_idx[k+1])\n",
    "        jac_u2 = view(jac, idx, u_idx[k+1])\n",
    "        \n",
    "        A1,B1 = A[k], h\n",
    "        A2,B2 = A[k+1], h\n",
    "        f1,f2 = nlp.f[k], nlp.f[k+1]\n",
    "        xm,um = nlp.xm[k], nlp.um[k]\n",
    "        Am,Bm = nlp.Am[k], nlp.Bm[k]\n",
    "        Am1, Am2 = nlp.Am[k,2], nlp.Am[k,3]\n",
    "        Bm1, Bm2 = nlp.Bm[k,2], nlp.Bm[k,3]\n",
    "        dx1 = h/6 * (A1 + 4*Am*Am1) + I\n",
    "        du1 = h/6 * (B1 + 4*(Am*Bm1 + Bm/2))\n",
    "        dx2 = h/6 * (A2 + 4*Am*Am2) - I\n",
    "        du2 = h/6 * (B2 + 4*(Am*Bm2 + Bm/2))\n",
    "        jac_x1 .= dx1\n",
    "        jac_u1 .= du1\n",
    "        jac_x2 .= dx2\n",
    "        jac_u2 .= du2\n",
    "\n",
    "        n = Nx\n",
    "    end\n",
    "end"
   ],
   "outputs": [],
   "metadata": {}
  },
  {
   "cell_type": "code",
   "execution_count": null,
   "source": [],
   "outputs": [],
   "metadata": {}
  }
 ],
 "metadata": {
  "kernelspec": {
   "display_name": "Julia 1.6.5",
   "language": "julia",
   "name": "julia-1.6"
  },
  "language_info": {
   "name": "julia",
   "version": "1.6.5",
   "mimetype": "application/julia",
   "file_extension": ".jl"
  }
 },
 "nbformat": 4,
 "nbformat_minor": 4
}