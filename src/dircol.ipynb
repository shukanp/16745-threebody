{
 "cells": [
  {
   "cell_type": "code",
   "execution_count": null,
   "source": [
    "import Pkg; Pkg.activate(@__DIR__); Pkg.instantiate()"
   ],
   "outputs": [],
   "metadata": {
    "tags": []
   }
  },
  {
   "cell_type": "code",
   "execution_count": null,
   "source": [
    "using LinearAlgebra\n",
    "using Plots\n",
    "using ForwardDiff\n",
    "using RobotZoo\n",
    "using RobotDynamics\n",
    "using Ipopt\n",
    "using MathOptInterface\n",
    "using StaticArrays\n",
    "using SparseArrays\n",
    "using MATLAB \n",
    "using CSV\n",
    "using DataFrames\n",
    "# Pkg.add(\"Statistics\")\n",
    "using Statistics \n",
    "include(\"Dimensions.jl\")\n",
    "include(\"Calculate_LPoints.jl\")\n",
    "include(\"Non_lin_exp.jl\")\n",
    "include(\"CR3BP_Dynamics.jl\")\n",
    "include(\"sparseblocks.jl\")\n",
    "include(\"MOI.jl\")\n",
    "include(\"NLP.jl\")\n",
    "const MOI = MathOptInterface;"
   ],
   "outputs": [],
   "metadata": {}
  },
  {
   "cell_type": "code",
   "execution_count": null,
   "source": [
    "# Define states and controls\n",
    "Nx = 6     # Number of states\n",
    "Nu = 1     # Number of controls\n",
    "\n",
    "# Specify System, Lagrange point, and if we want dimensional or dimensionless system\n",
    "LagrangePoint = 1\n",
    "Dimensionless = true\n",
    "System = \"Sun-Earth\"\n",
    "\n",
    "# Calculate Lagrange points for specified system\n",
    "L1, L2, L3, L4, L5 = get_LPoints(System)\n",
    "\n",
    "# Get period of orbit, define number of knot points and generate thist vector\n",
    "Tfinal, Tfinal_days = get_Period(LagrangePoint, System)\n",
    "Nt = 50              # Number of knot points --> generates number of time steps-52\n",
    "h = Tfinal/(Nt - 1)  # Timestep\n",
    "\n",
    "thist = Array(range(0, Tfinal, step = h)); \n",
    "n_nlp = (Nx + Nu)*Nt # Number of decision variables-350\n",
    "m_nlp = Nx*(Nt)  # 306\n",
    "u_idx = [(Nx + Nu)*(i - 1) .+ (Nx + 1:Nx + Nu) for i = 1:Nt];\n",
    "x_idx = [(Nx + Nu)*(i - 1) .+ (1:Nx) for i = 1:Nt];\n",
    "\n",
    "println(\"Timestep h: \", h)\n",
    "println(\"Period (dimensionless): \", Tfinal)\n",
    "println(\"Period (in days): \", Tfinal_days)\n"
   ],
   "outputs": [],
   "metadata": {}
  },
  {
   "cell_type": "code",
   "execution_count": null,
   "source": [
    "# Generate Reference Trajectory \n",
    "Xref,Uref = get_reference()\n",
    "print(\"Step size in x: \", Xref[2][1] - Xref[1][1])\n"
   ],
   "outputs": [],
   "metadata": {}
  },
  {
   "cell_type": "code",
   "execution_count": null,
   "source": [
    "xRef = zeros(Nt)\n",
    "yRef = zeros(Nt)\n",
    "zRef = zeros(Nt)\n",
    "\n",
    "for k = 1:Nt\n",
    "    xRef[k] = Xref[k][1]\n",
    "    yRef[k] = Xref[k][2]\n",
    "    zRef[k] = Xref[k][3]\n",
    "end\n",
    "\n",
    "# Plots.plot(xRef,yRef)"
   ],
   "outputs": [],
   "metadata": {}
  },
  {
   "cell_type": "code",
   "execution_count": null,
   "source": [
    "# Cost weights\n",
    "Q = Diagonal([0.95*ones(3); 0.95*ones(3)]);\n",
    "R = 0.001;"
   ],
   "outputs": [],
   "metadata": {}
  },
  {
   "cell_type": "code",
   "execution_count": null,
   "source": [
    "function stage_cost(x,u,Xref,Uref)\n",
    "    return 0.5*((x.-Xref)'*Q*(x.-Xref)) + 0.5*(u.-Uref)'*R*(u.-Uref)\n",
    "end"
   ],
   "outputs": [],
   "metadata": {}
  },
  {
   "cell_type": "code",
   "execution_count": null,
   "source": [
    "function cost(ztraj)\n",
    "    z = reshape(ztraj,Nx+Nu,Nt)\n",
    "    J = 0.0\n",
    "    for k = 1:Nt\n",
    "        J += stage_cost(z[1:Nx,k],z[(Nx+1):(Nx+Nu),k],Xref[k],Uref[k])\n",
    "    end\n",
    "    return J\n",
    "end"
   ],
   "outputs": [],
   "metadata": {}
  },
  {
   "cell_type": "code",
   "execution_count": null,
   "source": [
    "struct ProblemMOI <: MOI.AbstractNLPEvaluator\n",
    "    n_nlp::Int\n",
    "    m_nlp::Int\n",
    "    idx_ineq\n",
    "    obj_grad::Bool\n",
    "    con_jac::Bool\n",
    "    sparsity_jac\n",
    "    sparsity_hess\n",
    "    primal_bounds\n",
    "    constraint_bounds\n",
    "    hessian_lagrangian::Bool\n",
    "    blocks::BlockViews\n",
    "end \n",
    "\n",
    "function ProblemMOI(n_nlp,m_nlp;\n",
    "    idx_ineq=(1:0),\n",
    "    obj_grad=true,\n",
    "    con_jac=true,\n",
    "    sparsity_jac=sparsity_jacobian(n_nlp,m_nlp),\n",
    "    sparsity_hess=sparsity_hessian(n_nlp,m_nlp),\n",
    "    primal_bounds=primal_bounds(n_nlp),\n",
    "    constraint_bounds=constraint_bounds(m_nlp,idx_ineq=idx_ineq),\n",
    "    hessian_lagrangian=false,\n",
    "    blocks = BlockViews(m_nlp,n_nlp))\n",
    "    ProblemMOI(n_nlp,m_nlp,\n",
    "            idx_ineq,\n",
    "            obj_grad,\n",
    "            con_jac,\n",
    "            sparsity_jac,\n",
    "            sparsity_hess,\n",
    "            primal_bounds,\n",
    "            constraint_bounds,\n",
    "            hessian_lagrangian,\n",
    "            blocks)\n",
    "end"
   ],
   "outputs": [],
   "metadata": {}
  },
  {
   "cell_type": "code",
   "execution_count": null,
   "source": [
    "#Guess\n",
    "z0 = zeros((Nx+Nu)*(Nt))\n",
    "z0[x_idx[1]] = Xref[1]\n",
    "for k=1:Nt\n",
    "    z0[x_idx[k]] = Xref[k]\n",
    "    z0[u_idx[k]] .= Uref[k]\n",
    "end"
   ],
   "outputs": [],
   "metadata": {}
  },
  {
   "cell_type": "code",
   "execution_count": null,
   "source": [
    "prob = ProblemMOI(n_nlp,m_nlp)\n",
    "z_sol = solve(z0,prob) # solve"
   ],
   "outputs": [],
   "metadata": {}
  },
  {
   "cell_type": "code",
   "execution_count": null,
   "source": [
    "ztraj = reshape(z_sol,Nx+Nu,Nt);\n",
    "xtraj = ztraj[1:Nx,:];#6 x 50\n",
    "utraj = ztraj[(Nx+1):(Nx+Nu),:]; # 1 x 91"
   ],
   "outputs": [],
   "metadata": {}
  },
  {
   "cell_type": "code",
   "execution_count": null,
   "source": [
    "# Plot reference vs IPOPT orbit\n",
    "p = Plots.plot(xRef, yRef, label = \"Reference\")\n",
    "Plots.plot!(p, xtraj[1,:], xtraj[2,:], label = \"IPOPT\")"
   ],
   "outputs": [],
   "metadata": {}
  },
  {
   "cell_type": "code",
   "execution_count": null,
   "source": [
    "# Plot X, Y, and Z individually\n",
    "reduceBy = findmax(xtraj[1,:])\n",
    "p = Plots.plot(thist, xtraj[1,:] .- reduceBy[1], label = \"X\")\n",
    "Plots.plot!(p, thist, xtraj[2,:], label = \"Y\")\n",
    "Plots.plot!(p, thist, xtraj[3,:], label = \"Z\")"
   ],
   "outputs": [],
   "metadata": {}
  },
  {
   "cell_type": "code",
   "execution_count": null,
   "source": [
    "# Look at period generated by IPOPT\n",
    "u = 0\n",
    "for i=1:Nt\n",
    "    u += utraj[1, i]\n",
    "end\n",
    "Period_IPOPT = (u/(2*pi))*3.1536e7/(24*60*60)\n",
    "@show Period_IPOPT\n",
    "\n",
    "# Show plot of timesteps\n",
    "mx, mi = findmax(utraj[1,:])\n",
    "# Plots.plot(thist,utraj[1,:], label = \"Timesteps\")\n",
    "Plots.scatter(thist,utraj[1,:], label = \"Timesteps\")"
   ],
   "outputs": [],
   "metadata": {}
  },
  {
   "cell_type": "code",
   "execution_count": null,
   "source": [
    "xTraj = zeros(Nt)\n",
    "yTraj = zeros(Nt)\n",
    "ztraj = zeros(Nt)\n",
    "\n",
    "for k = 1:Nt\n",
    "    xTraj[k] = xtraj[1,k]\n",
    "    yTraj[k] = xtraj[2,k]\n",
    "    ztraj[k] = xtraj[3,k]\n",
    "end\n"
   ],
   "outputs": [],
   "metadata": {}
  },
  {
   "cell_type": "code",
   "execution_count": null,
   "source": [
    "# mat\"\"\"\n",
    "# plot3($xTraj,$yTraj,$ztraj,'DisplayName','IPOPT')\n",
    "# hold on\n",
    "# plot3($xRef,$yRef,$zRef,'DisplayName','Reference')\n",
    "# plot3($xTraj($mi),$yTraj($mi),$ztraj($mi),'ro')\n",
    "# grid on\n",
    "# hold off\n",
    "# legend('IPOPT','Reference')\n",
    "# \"\"\" "
   ],
   "outputs": [],
   "metadata": {}
  },
  {
   "cell_type": "code",
   "execution_count": null,
   "source": [
    "# mat\"\"\"\n",
    "# plot($xTraj,$yTraj,'DisplayName','IPOPT')\n",
    "# hold on\n",
    "# plot($xRef,$yRef,'DisplayName','Reference')\n",
    "# grid on\n",
    "# hold off\n",
    "# legend('IPOPT','Reference')\n",
    "# \"\"\""
   ],
   "outputs": [],
   "metadata": {}
  },
  {
   "cell_type": "code",
   "execution_count": null,
   "source": [
    "### Implement Continuation of Libration point Orbits\n",
    "include(\"Families.jl\")\n",
    "numIters = 10\n",
    "scaleValue = 0.05\n",
    "Up = true\n",
    "x_fam = Generating_Orbit_Families(z0, numIters, scaleValue, Up)\n",
    "\n"
   ],
   "outputs": [],
   "metadata": {}
  },
  {
   "cell_type": "code",
   "execution_count": null,
   "source": [
    "L = size(x_fam)[3]\n",
    "mat\"\"\"\n",
    "plot3($xRef,$yRef,$zRef,'k-','DisplayName','Reference')\n",
    "hold on\n",
    "grid on\n",
    "plot3($x_fam(1,:,1),$x_fam(2,:,1),$x_fam(3,:,1),'r-','DisplayName','IPOPT Results')\n",
    "for i = 2:$L\n",
    "    plot3($x_fam(1,:,i),$x_fam(2,:,i),$x_fam(3,:,i),'r-')\n",
    "end\n",
    "hold off\n",
    "title('Family of Orbits around L1 (200 iterations, scaling by 5%)', 'FontSize', 24)\n",
    "xlabel('X', 'FontSize', 20)\n",
    "ylabel('Y', 'FontSize', 20)\n",
    "zlabel('Z', 'FontSize', 20)\n",
    "legend('Reference','IPOPT Results', 'FontSize', 16)\n",
    "\"\"\" \n",
    "\n"
   ],
   "outputs": [],
   "metadata": {}
  },
  {
   "cell_type": "code",
   "execution_count": null,
   "source": [
    "# #make sure you use dimensionless\n",
    "# Nu = 3\n",
    "# #Establish Variables\n",
    "# Q = Diagonal([10,10,10,10,10,10])\n",
    "# R = Diagonal([1,1,1]) #we want to conserve fuel so penalizing the controls takes priority\n",
    "# Qf = Diagonal([100,100,100,100,100,100]) #this can be the same as Q since its a periodic orbit so the end isnt special\n",
    "# K = [zeros(Nu,Nx)*NaN for k = 1:Nt-1]\n",
    "# P = [zeros(Nx,Nx)*NaN for k = 1:Nt]\n",
    "\n",
    "# #Initialize jacobians\n",
    "# A = [zeros(Nx,Nx) for k = 1:Nt]\n",
    "# B = [zeros(Nu,Nu) for k = 1:Nt-1]\n",
    "\n",
    "# #Initialize control\n",
    "# U = [zeros(Nu) for k = 1:Nt-1] #under ideal circumstances, no controls need to be expended. (does this mean B will stay zeros?)\n",
    "\n",
    "# ###############################\n",
    "# #ACTUALLY RUN THE TVLQR\n",
    "\n",
    "# #xtraj is our halo orbit trajectory we are trying to stick to\n",
    "# #Xsat is the satellite\n",
    "# @show size(xtraj), size(A[1]), size(B[1]),size(U),size(utraj)\n",
    "# # linearize!(A,B,xtraj, U)\n",
    "\n",
    "# # calc_gains!(xtraj, A, B, P, K, Qf, Q)\n",
    "\n",
    "# # Xsat = [zeros(Nx) for k = 1:Nt] \n",
    "\n",
    "# # #i still need to add some minor purturbation to this or the controller should jst do nothing\n",
    "# # #I'll either do it at the beginning or at some random timestep(s)\n",
    "# # Xsat[1] = copy(xtraj[1])*1.0001\n",
    "# # # Xsat[1] = Xsat[1] + [.0001, .0001, .0001, 0, 0, 0]\n",
    "\n",
    "# # for k = 1:Nt-1\n",
    "# #     U[k] = U[k] - K[k]*(Xsat[k]-xtraj[k]) #in hw this was often the get_control function\n",
    "# #     Xsat[k+1] = rk4WithU(CR3BPdynamicsWithUforA, Xsat[k], U[k], utraj[k])  #discrete_dynamics(RK4, model, X[k], U[k], times[k], dt) \n",
    "# # end\n",
    "\n",
    "# # ###############################\n",
    "\n",
    "\n",
    "\n",
    "# # #plot error\n",
    "# # sse = zeros(length(Xsat))\n",
    "# # for k = 1:Nt\n",
    "# #     sse[k] = norm(Xsat[k]-xtraj[k])\n",
    "# # end\n",
    "# # t = Array(range(1, Nt, step = 1));\n",
    "\n",
    "# # xtrajX = zeros(length(xtraj))\n",
    "# # xtrajY = zeros(length(xtraj))\n",
    "# # xtrajZ = zeros(length(xtraj))\n",
    "\n",
    "# # XsatX = zeros(length(xtraj))\n",
    "# # XsatY = zeros(length(xtraj))\n",
    "# # XsatZ = zeros(length(xtraj))\n",
    "\n",
    "# # for k in 1:Nt\n",
    "# #     xtrajX[k] = xtraj[k][1]\n",
    "# #     xtrajY[k] = xtraj[k][2]\n",
    "# #     xtrajZ[k] = xtraj[k][3]\n",
    "    \n",
    "# #     XsatX[k] = Xsat[k][1]\n",
    "# #     XsatY[k] = Xsat[k][2]\n",
    "# #     XsatZ[k] = Xsat[k][3]\n",
    "# # end\n",
    "\n",
    "\n",
    "# # Ux = zeros(length(U))\n",
    "# # Uy = zeros(length(U))\n",
    "# # Uz = zeros(length(U))\n",
    "# # for k in 1:Nt-1\n",
    "# #     Ux[k] = U[k][1]\n",
    "# #     Uy[k] = U[k][2]\n",
    "# #     Uz[k] = U[k][3]\n",
    "# # end\n",
    "\n",
    "# # print(sse[49])\n",
    "# # plot(t, sse)\n",
    "# # # plot(t[1:end-1], Uz)\n",
    "# # # plot(xtraj, Xsat)\n",
    "# # # print(U)\n",
    "\n",
    "# # ##############################################\n",
    "\n",
    "# # p = Plots.plot(xtrajX, xtrajY, label = \"IPOPT\")\n",
    "# # Plots.plot!(p, XsatX, XsatY, label = \"TVLQR\")\n",
    "\n",
    "# # ###############################################\n",
    "# # p = Plots.plot(t[1:end-1], Ux, label = \"Ux\")\n",
    "# # Plots.plot!(p, t[1:end-1], Uy, label = \"Uy\")\n",
    "# # Plots.plot!(p, t[1:end-1], Uz, label = \"Uz\")\n",
    "\n",
    "# # ###############################################\n",
    "\n",
    "# # p = Plots.plot3d(XsatX,XsatY,XsatZ, label = \"Xsat\")\n",
    "# # Plots.plot3d!(p, xtrajX,xtrajY,xtrajZ, label = \"xtraj\")\n",
    "# # # plot3d(XsatX,XsatY,XsatZ)\n",
    "\n",
    "# #############################################"
   ],
   "outputs": [],
   "metadata": {}
  },
  {
   "cell_type": "code",
   "execution_count": null,
   "source": [],
   "outputs": [],
   "metadata": {}
  }
 ],
 "metadata": {
  "kernelspec": {
   "display_name": "Julia 1.6.5",
   "language": "julia",
   "name": "julia-1.6"
  },
  "language_info": {
   "name": "julia",
   "version": "1.6.5",
   "mimetype": "application/julia",
   "file_extension": ".jl"
  }
 },
 "nbformat": 4,
 "nbformat_minor": 4
}