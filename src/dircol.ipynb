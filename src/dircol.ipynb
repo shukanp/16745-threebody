{
 "cells": [
  {
   "cell_type": "code",
   "execution_count": 736,
   "source": [
    "import Pkg; Pkg.activate(@__DIR__); Pkg.instantiate()"
   ],
   "outputs": [
    {
     "output_type": "stream",
     "name": "stderr",
     "text": [
      "\u001b[32m\u001b[1m  Activating\u001b[22m\u001b[39m environment at `~/Desktop/OptimalC/Project/16745-threebody/src/Project.toml`\n"
     ]
    }
   ],
   "metadata": {
    "tags": []
   }
  },
  {
   "cell_type": "code",
   "execution_count": 737,
   "source": [
    "using LinearAlgebra\n",
    "using PyPlot\n",
    "using Plots\n",
    "using ForwardDiff\n",
    "using RobotZoo\n",
    "using RobotDynamics\n",
    "using Ipopt\n",
    "using MathOptInterface\n",
    "const MOI = MathOptInterface;"
   ],
   "outputs": [],
   "metadata": {}
  },
  {
   "cell_type": "code",
   "execution_count": 738,
   "source": [
    "function CR3BPdynamics(rv) #Three body dynamics in Sun-Earth System\n",
    "\n",
    "    μ = 9.537e-4\n",
    "    \n",
    "    r₁³= ((rv[1] + μ)^2     + rv[2]^2 + rv[3]^2)^1.5; # distance to m1, LARGER MASS\n",
    "    r₂³= ((rv[1] - 1 + μ)^2 + rv[2]^2 + rv[3]^2)^1.5; # distance to m2, smaller mass\n",
    "    # r₁³= ((x + μ)^2     + y^2 + z^2)^1.5; # distance to m1, LARGER MASS\n",
    "    # r₂³= ((x - 1 + μ)^2 + y^2 + z^2)^1.5; # distance to m2, smaller mass\n",
    "\n",
    "    rvdot = zeros(eltype(rv),6)\n",
    "    rvdot[1:3] = [rv[4];rv[5];rv[6]]\n",
    "    rvdot[4] = -((1 - μ)*(rv[1] + μ)/r₁³) - (μ*(rv[1] - 1 + μ)/r₂³) + 2*rv[5] + rv[1];\n",
    "    rvdot[5] = -((1 - μ)*rv[2]      /r₁³) - (μ*rv[2]          /r₂³) - 2*rv[4] + rv[2];\n",
    "    rvdot[6] = -((1 - μ)*rv[3]      /r₁³) - (μ*rv[3]          /r₂³);\n",
    "    return rvdot\n",
    "    # return [rv[4];rv[5];rv[6];-((1 - μ)*(rv[1] + μ)/r₁³) - (μ*(rv[1] - 1 + μ)/r₂³) + 2*rv[5] + rv[1];-((1 - μ)*rv[2]      /r₁³) - (μ*rv[2]          /r₂³) - 2*rv[4] + rv[2];-((1 - μ)*rv[3]      /r₁³) - (μ*rv[3]          /r₂³)]\n",
    "end"
   ],
   "outputs": [
    {
     "data": {
      "text/plain": [
       "CR3BPdynamics (generic function with 4 methods)"
      ]
     },
     "metadata": {},
     "output_type": "display_data"
    }
   ],
   "metadata": {}
  },
  {
   "cell_type": "code",
   "execution_count": 739,
   "source": [
    "function CR3BPdynamics(rv) #Three body dynamics in Sun-Earth System\n",
    "\n",
    "    μ = 9.537e-4\n",
    "    \n",
    "    r₁³= ((rv[1] + μ)^2.0     + rv[2]^2.0 + rv[3]^2.0)^1.5; # distance to m1, LARGER MASS\n",
    "    r₂³= ((rv[1] - 1 + μ)^2.0 + rv[2]^2.0 + rv[3]^2.0)^1.5; # distance to m2, smaller mass\n",
    "    # r₁³= ((x + μ)^2     + y^2 + z^2)^1.5; # distance to m1, LARGER MASS\n",
    "    # r₂³= ((x - 1 + μ)^2 + y^2 + z^2)^1.5; # distance to m2, smaller mass\n",
    "\n",
    "#     rvdot = zeros(6)\n",
    "    rvdot = zeros(eltype(rv),6)\n",
    "    rvdot[1:3] = [rv[4];rv[5];rv[6]]\n",
    "    rvdot[4] = -((1.0 - μ)*(rv[1] + μ)/r₁³) - (μ*(rv[1] - 1.0 + μ)/r₂³) + 2.0*rv[5] + rv[1];\n",
    "    rvdot[5] = -((1.0 - μ)*rv[2]      /r₁³) - (μ*rv[2]          /r₂³) - 2.0*rv[4] + rv[2];\n",
    "    rvdot[6] = -((1.0 - μ)*rv[3]      /r₁³) - (μ*rv[3]          /r₂³);\n",
    "    # return rvdot\n",
    "    return T[rv[4];rv[5];rv[6];-((1.0 - μ)*(rv[1] + μ)/r₁³) - (μ*(rv[1] - 1.0 + μ)/r₂³) + 2.0*rv[5] + rv[1];-((1.0 - μ)*rv[2]      /r₁³) - (μ*rv[2]          /r₂³) - 2.0*rv[4] + rv[2];-((1.0 - μ)*rv[3]      /r₁³) - (μ*rv[3]          /r₂³)]\n",
    "end\n",
    "function dircol_dynamics(x1,x2,h)\n",
    "    #Hermite-Simpson integration with first-order hold on u\n",
    "    f1 = CR3BPdynamics(x1) #Timestep k\n",
    "    f2 = CR3BPdynamics(x2) #Timestep k+1\n",
    "    xm = 0.5*(x1 + x2) + (h/8.0)*(f1 - f2) #\n",
    "    ẋm = (-3.0/(2.0*h))*(x1 - x2) - 0.25*(f1 + f2)\n",
    "    fm = CR3BPdynamics(xm)\n",
    "    return fm - ẋm\n",
    "end\n",
    "let\n",
    "    rv0 = randn(6)\n",
    "    xd = CR3BPdynamics(rv0)\n",
    "    # # first jacobian \n",
    "    dynamics_jacobian = ForwardDiff.jacobian(CR3BPdynamics,rv0)\n",
    "    rv1 = randn(6)\n",
    "    h = 0.4\n",
    "    # # forward diff working on all inputs of the dircoldynamics function\n",
    "    A1 = ForwardDiff.jacobian(_x->dircol_dynamics(_x,rv1,h),rv0)\n",
    "    A2 = ForwardDiff.jacobian(_x->dircol_dynamics(rv0,_x,h),rv1)\n",
    "    A3 = ForwardDiff.derivative(_h->dircol_dynamics(rv0,rv1,_h),h)\n",
    "end"
   ],
   "outputs": [
    {
     "output_type": "error",
     "ename": "MethodError",
     "evalue": "MethodError: no method matching Float64(::ForwardDiff.Dual{ForwardDiff.Tag{typeof(CR3BPdynamics), Float64}, Float64, 6})\nClosest candidates are:\n  (::Type{T})(::Real, !Matched::RoundingMode) where T<:AbstractFloat at rounding.jl:200\n  (::Type{T})(::T) where T<:Number at boot.jl:760\n  (::Type{T})(!Matched::AbstractChar) where T<:Union{AbstractChar, Number} at char.jl:50\n  ...",
     "traceback": [
      "MethodError: no method matching Float64(::ForwardDiff.Dual{ForwardDiff.Tag{typeof(CR3BPdynamics), Float64}, Float64, 6})\n",
      "Closest candidates are:\n",
      "  (::Type{T})(::Real, !Matched::RoundingMode) where T<:AbstractFloat at rounding.jl:200\n",
      "  (::Type{T})(::T) where T<:Number at boot.jl:760\n",
      "  (::Type{T})(!Matched::AbstractChar) where T<:Union{AbstractChar, Number} at char.jl:50\n",
      "  ...\n",
      "\n",
      "Stacktrace:\n",
      "  [1] convert(#unused#::Type{Float64}, x::ForwardDiff.Dual{ForwardDiff.Tag{typeof(CR3BPdynamics), Float64}, Float64, 6})\n",
      "    @ Base ./number.jl:7\n",
      "  [2] setindex!(A::Vector{Float64}, x::ForwardDiff.Dual{ForwardDiff.Tag{typeof(CR3BPdynamics), Float64}, Float64, 6}, i1::Int64)\n",
      "    @ Base ./array.jl:843\n",
      "  [3] setindex!\n",
      "    @ ./array.jl:857 [inlined]\n",
      "  [4] CR3BPdynamics(rv::Vector{ForwardDiff.Dual{ForwardDiff.Tag{typeof(CR3BPdynamics), Float64}, Float64, 6}})\n",
      "    @ Main ~/Desktop/OptimalC/Project/16745-threebody/src/dircol.ipynb:11\n",
      "  [5] vector_mode_dual_eval!(f::typeof(CR3BPdynamics), cfg::ForwardDiff.JacobianConfig{ForwardDiff.Tag{typeof(CR3BPdynamics), Float64}, Float64, 6, Vector{ForwardDiff.Dual{ForwardDiff.Tag{typeof(CR3BPdynamics), Float64}, Float64, 6}}}, x::Vector{Float64})\n",
      "    @ ForwardDiff ~/.julia/packages/ForwardDiff/pKmp4/src/apiutils.jl:37\n",
      "  [6] vector_mode_jacobian(f::typeof(CR3BPdynamics), x::Vector{Float64}, cfg::ForwardDiff.JacobianConfig{ForwardDiff.Tag{typeof(CR3BPdynamics), Float64}, Float64, 6, Vector{ForwardDiff.Dual{ForwardDiff.Tag{typeof(CR3BPdynamics), Float64}, Float64, 6}}})\n",
      "    @ ForwardDiff ~/.julia/packages/ForwardDiff/pKmp4/src/jacobian.jl:148\n",
      "  [7] jacobian(f::Function, x::Vector{Float64}, cfg::ForwardDiff.JacobianConfig{ForwardDiff.Tag{typeof(CR3BPdynamics), Float64}, Float64, 6, Vector{ForwardDiff.Dual{ForwardDiff.Tag{typeof(CR3BPdynamics), Float64}, Float64, 6}}}, ::Val{true})\n",
      "    @ ForwardDiff ~/.julia/packages/ForwardDiff/pKmp4/src/jacobian.jl:21\n",
      "  [8] jacobian(f::Function, x::Vector{Float64}, cfg::ForwardDiff.JacobianConfig{ForwardDiff.Tag{typeof(CR3BPdynamics), Float64}, Float64, 6, Vector{ForwardDiff.Dual{ForwardDiff.Tag{typeof(CR3BPdynamics), Float64}, Float64, 6}}}) (repeats 2 times)\n",
      "    @ ForwardDiff ~/.julia/packages/ForwardDiff/pKmp4/src/jacobian.jl:19\n",
      "  [9] top-level scope\n",
      "    @ ~/Desktop/OptimalC/Project/16745-threebody/src/dircol.ipynb:32\n",
      " [10] eval\n",
      "    @ ./boot.jl:360 [inlined]\n",
      " [11] include_string(mapexpr::typeof(REPL.softscope), mod::Module, code::String, filename::String)\n",
      "    @ Base ./loading.jl:1116\n",
      " [12] #invokelatest#2\n",
      "    @ ./essentials.jl:708 [inlined]\n",
      " [13] invokelatest\n",
      "    @ ./essentials.jl:706 [inlined]\n",
      " [14] (::VSCodeServer.var\"#146#147\"{VSCodeServer.NotebookRunCellArguments, String})()\n",
      "    @ VSCodeServer ~/.vscode/extensions/julialang.language-julia-1.5.11/scripts/packages/VSCodeServer/src/serve_notebook.jl:18\n",
      " [15] withpath(f::VSCodeServer.var\"#146#147\"{VSCodeServer.NotebookRunCellArguments, String}, path::String)\n",
      "    @ VSCodeServer ~/.vscode/extensions/julialang.language-julia-1.5.11/scripts/packages/VSCodeServer/src/repl.jl:185\n",
      " [16] notebook_runcell_request(conn::VSCodeServer.JSONRPC.JSONRPCEndpoint{Base.PipeEndpoint, Base.PipeEndpoint}, params::VSCodeServer.NotebookRunCellArguments)\n",
      "    @ VSCodeServer ~/.vscode/extensions/julialang.language-julia-1.5.11/scripts/packages/VSCodeServer/src/serve_notebook.jl:14\n",
      " [17] dispatch_msg(x::VSCodeServer.JSONRPC.JSONRPCEndpoint{Base.PipeEndpoint, Base.PipeEndpoint}, dispatcher::VSCodeServer.JSONRPC.MsgDispatcher, msg::Dict{String, Any})\n",
      "    @ VSCodeServer.JSONRPC ~/.vscode/extensions/julialang.language-julia-1.5.11/scripts/packages/JSONRPC/src/typed.jl:67\n",
      " [18] serve_notebook(pipename::String; crashreporting_pipename::String)\n",
      "    @ VSCodeServer ~/.vscode/extensions/julialang.language-julia-1.5.11/scripts/packages/VSCodeServer/src/serve_notebook.jl:94\n",
      " [19] top-level scope\n",
      "    @ ~/.vscode/extensions/julialang.language-julia-1.5.11/scripts/notebook/notebook.jl:12\n",
      " [20] include(mod::Module, _path::String)\n",
      "    @ Base ./Base.jl:384\n",
      " [21] exec_options(opts::Base.JLOptions)\n",
      "    @ Base ./client.jl:285\n",
      " [22] _start()\n",
      "    @ Base ./client.jl:485"
     ]
    }
   ],
   "metadata": {}
  },
  {
   "cell_type": "code",
   "execution_count": 740,
   "source": [
    "h = 0.1 #10 Hz\n",
    "Nx = 6     # number of state\n",
    "Nu = 1     # number of controls\n",
    "Tfinal = 10.0 # final time\n",
    "Nt = Int(Tfinal/h)+1   # number of time steps-101\n",
    "thist = Array(range(0,h*(Nt-1), step=h));#0:1,step:0.1\n",
    "n_nlp = (Nx+Nu)*Nt # number of decision variables-707\n",
    "m_nlp = Nx*(Nt+1) #612\n",
    "u_idx = [(Nx+Nu)*(i-1) .+ (Nx+1:Nx+Nu) for i = 1:Nt-1];\n",
    "x_idx = [(Nx+Nu)*(i-1) .+ (1:Nx) for i = 1:Nt];"
   ],
   "outputs": [],
   "metadata": {}
  },
  {
   "cell_type": "code",
   "execution_count": 741,
   "source": [
    "#Non linear Approximation to third order expansion\n",
    "function Non_lin_exp(tau)\n",
    "\n",
    "    k = 3.2292680962;\n",
    "    c2 = 4.0610735668;\n",
    "    c3 = 3.0200105081;\n",
    "    c4 = 3.0305378797;\n",
    "\n",
    "    lam = sqrt((c2 + sqrt(9*c2^2 - 8*c2))/2);\n",
    "    d1 = ((3*lam^2)/k)*(k*(6*lam^2 - 1) - 2*lam); \n",
    "    d2 = ((8*lam^2)/k)*(k*(11*lam^2 - 1) - 2*lam);\n",
    "    a21 = 3*c3*(k^2 - 2)/(4*(1 + 2*c2)); \n",
    "    a22 = 3*c3/(4*(1 + 2*c2));\n",
    "    a23 = -((3*c3*lam)/(4*k*d1))*(3*(k^3)*lam - 6*k*(k-lam) + 4); \n",
    "    a24 = -((3*c3*lam)/(4*k*d1))*(3*k*lam + 2);\n",
    "    b21 = -3*c3*lam*(3*k*lam - 4)/(2*d1);\n",
    "    b22 = -3*c3*lam/d1;\n",
    "    a31 = (-9*lam/(4*d2))*(4*c3*(k*a23 - b21) + k*c4*(4 + k^2))  + ((9*lam^2 + 1 - c2)/(2*d2))*(3*c3*(2*a23 - k*b21) + c4*(2 + 3*k^2));\n",
    "    d21 = -c3/(2*lam^2);\n",
    "    d31 = (3/(64*lam^2))*(4*c3*a24 + c4);\n",
    "    d32 = (3/(64*lam^2))*(4*c3*(a23 - d21) + c4*(4 + k^2));\n",
    "    a32 = (-9*lam/(4*d2))*(4*c3*(3*k*a24 - b22) + k*c4) - 3*((9*lam^2 + 1 - c2)/(2*d2))*(c3*(k*b22 - d21 - 2*a24) - c4);\n",
    "    b31 = (3/(8*d2))*8*lam*(3*c3*(k*b21 - 2*a23) - c4*(2 + 3*k^2)) + (3/(8*d2))*((9*lam^2 + 1 + 2*c2)*(4*c3*(k*a23 - b21)) + k*c4*(4 + k^2));\n",
    "    b32 = ((9*lam)/d2)*(c3*(k*b22 + d21 + -2*a24) - c4)  + 3*((9*lam^2 + 1 + 2*c2)/(8*d2))*(4*c3*(k*a24 - b22) + k*c4);\n",
    "\n",
    "    xpoint = 0.932385;\n",
    "    ypoint = 0;\n",
    "    zpoint = 0;\n",
    "\n",
    "    phi = 0;\n",
    "    w_p = 2.086453455;\n",
    "    # tau = range(0,Tfinal,length = Nt)\n",
    "    # tau_1 = w_p.*tau .+ phi;\n",
    "\n",
    "    # tau = range(0,Tfinal,length = Nt)\n",
    "    tau_1 = w_p*tau + phi;\n",
    "\n",
    "    scaling_factor = 1.495978714e8;\n",
    "    Ax = 206000/scaling_factor;\n",
    "    Ay = 665000/scaling_factor;\n",
    "    Az = 110000/scaling_factor;\n",
    "\n",
    "    dm = 2 - m;\n",
    "    x1 =    -Ax*cos(tau_1) + (a23*Ax^2 - a24*Az^2)*cos(2*tau_1) + (a31*Ax^3 - a32*Ax*Az^2)*cos(3*tau_1) + a21*Ax^2 + a22*Az^2 + xpoint;\n",
    "    y1 =     Ay*sin(tau_1) + (b21*Ax^2 - b22*Az^2)*sin(2*tau_1) + (b31*Ax^3 - b32*Ax*Az^2)*sin(3*tau_1) + ypoint;\n",
    "    z1 =  dm*Az*cos(tau_1) + dm*d21*Ax*Az*cos(2*tau_1 - 3) + dm*(d32*Az*Ax^2 - d31*Az^3)*cos(3*tau_1) + zpoint;\n",
    "    # x1 =    -Ax.*cos.(tau_1) .+ (a23*Ax^2 - a24*Az^2).*cos.(2 .* tau_1) .+ (a31*Ax^3 - a32*Ax*Az^2).*cos.(3 .* tau_1) .+ a21*Ax^2 .+ a22*Az^2 .+ xpoint;\n",
    "    # y1 =     Ay.*sin.(tau_1) .+ (b21*Ax^2 - b22*Az^2).*sin.(2 .* tau_1) .+ (b31*Ax^3 - b32*Ax*Az^2).*sin.(3 .* tau_1) .+ ypoint;\n",
    "    # z1 =  dm*Az.*cos.(tau_1) .+ dm*d21*Ax*Az.*cos.(2 .* tau_1 .- 3) .+ dm*(d32*Az*Ax^2 - d31*Az^3).*cos.(3 .* tau_1) .+ zpoint;\n",
    "    return [x1, y1, z1]\n",
    "end \n"
   ],
   "outputs": [
    {
     "data": {
      "text/plain": [
       "Non_lin_exp (generic function with 1 method)"
      ]
     },
     "metadata": {},
     "output_type": "display_data"
    }
   ],
   "metadata": {}
  },
  {
   "cell_type": "code",
   "execution_count": 742,
   "source": [
    "#Calc of Reference Trajectory \n",
    "tau = range(0,Tfinal,length = Nt);\n",
    "Xref_ =[zeros(Nx) for i=1:Nt];\n",
    "for k = 1:Nt\n",
    "    Pos = Non_lin_exp(tau[k]);\n",
    "    Xref_[k][1] = Pos[1];\n",
    "    Xref_[k][2] = Pos[2];\n",
    "    Xref_[k][3] = Pos[3];\n",
    "    Vels = ForwardDiff.derivative(Non_lin_exp,tau[k]);\n",
    "    Xref_[k][4] = Vels[1];\n",
    "    Xref_[k][5] = Vels[2];\n",
    "    Xref_[k][6] = Vels[3];\n",
    "end\n",
    "@show Xref_[1]\n",
    "@show ForwardDiff.jacobian(CR3BPdynamics, Xref_[5])"
   ],
   "outputs": [
    {
     "output_type": "error",
     "ename": "MethodError",
     "evalue": "MethodError: no method matching Float64(::ForwardDiff.Dual{ForwardDiff.Tag{typeof(CR3BPdynamics), Float64}, Float64, 6})\nClosest candidates are:\n  (::Type{T})(::Real, !Matched::RoundingMode) where T<:AbstractFloat at rounding.jl:200\n  (::Type{T})(::T) where T<:Number at boot.jl:760\n  (::Type{T})(!Matched::AbstractChar) where T<:Union{AbstractChar, Number} at char.jl:50\n  ...",
     "traceback": [
      "MethodError: no method matching Float64(::ForwardDiff.Dual{ForwardDiff.Tag{typeof(CR3BPdynamics), Float64}, Float64, 6})\n",
      "Closest candidates are:\n",
      "  (::Type{T})(::Real, !Matched::RoundingMode) where T<:AbstractFloat at rounding.jl:200\n",
      "  (::Type{T})(::T) where T<:Number at boot.jl:760\n",
      "  (::Type{T})(!Matched::AbstractChar) where T<:Union{AbstractChar, Number} at char.jl:50\n",
      "  ...\n",
      "\n",
      "Stacktrace:\n",
      "  [1] convert(#unused#::Type{Float64}, x::ForwardDiff.Dual{ForwardDiff.Tag{typeof(CR3BPdynamics), Float64}, Float64, 6})\n",
      "    @ Base ./number.jl:7\n",
      "  [2] setindex!(A::Vector{Float64}, x::ForwardDiff.Dual{ForwardDiff.Tag{typeof(CR3BPdynamics), Float64}, Float64, 6}, i1::Int64)\n",
      "    @ Base ./array.jl:843\n",
      "  [3] setindex!\n",
      "    @ ./array.jl:857 [inlined]\n",
      "  [4] CR3BPdynamics(rv::Vector{ForwardDiff.Dual{ForwardDiff.Tag{typeof(CR3BPdynamics), Float64}, Float64, 6}})\n",
      "    @ Main ~/Desktop/OptimalC/Project/16745-threebody/src/dircol.ipynb:11\n",
      "  [5] vector_mode_dual_eval!(f::typeof(CR3BPdynamics), cfg::ForwardDiff.JacobianConfig{ForwardDiff.Tag{typeof(CR3BPdynamics), Float64}, Float64, 6, Vector{ForwardDiff.Dual{ForwardDiff.Tag{typeof(CR3BPdynamics), Float64}, Float64, 6}}}, x::Vector{Float64})\n",
      "    @ ForwardDiff ~/.julia/packages/ForwardDiff/pKmp4/src/apiutils.jl:37\n",
      "  [6] vector_mode_jacobian(f::typeof(CR3BPdynamics), x::Vector{Float64}, cfg::ForwardDiff.JacobianConfig{ForwardDiff.Tag{typeof(CR3BPdynamics), Float64}, Float64, 6, Vector{ForwardDiff.Dual{ForwardDiff.Tag{typeof(CR3BPdynamics), Float64}, Float64, 6}}})\n",
      "    @ ForwardDiff ~/.julia/packages/ForwardDiff/pKmp4/src/jacobian.jl:148\n",
      "  [7] jacobian(f::Function, x::Vector{Float64}, cfg::ForwardDiff.JacobianConfig{ForwardDiff.Tag{typeof(CR3BPdynamics), Float64}, Float64, 6, Vector{ForwardDiff.Dual{ForwardDiff.Tag{typeof(CR3BPdynamics), Float64}, Float64, 6}}}, ::Val{true})\n",
      "    @ ForwardDiff ~/.julia/packages/ForwardDiff/pKmp4/src/jacobian.jl:21\n",
      "  [8] jacobian(f::Function, x::Vector{Float64}, cfg::ForwardDiff.JacobianConfig{ForwardDiff.Tag{typeof(CR3BPdynamics), Float64}, Float64, 6, Vector{ForwardDiff.Dual{ForwardDiff.Tag{typeof(CR3BPdynamics), Float64}, Float64, 6}}}) (repeats 2 times)\n",
      "    @ ForwardDiff ~/.julia/packages/ForwardDiff/pKmp4/src/jacobian.jl:19\n",
      "  [9] top-level scope\n",
      "    @ show.jl:955\n",
      " [10] eval\n",
      "    @ ./boot.jl:360 [inlined]\n",
      " [11] include_string(mapexpr::typeof(REPL.softscope), mod::Module, code::String, filename::String)\n",
      "    @ Base ./loading.jl:1116\n",
      " [12] #invokelatest#2\n",
      "    @ ./essentials.jl:708 [inlined]\n",
      " [13] invokelatest\n",
      "    @ ./essentials.jl:706 [inlined]\n",
      " [14] (::VSCodeServer.var\"#146#147\"{VSCodeServer.NotebookRunCellArguments, String})()\n",
      "    @ VSCodeServer ~/.vscode/extensions/julialang.language-julia-1.5.11/scripts/packages/VSCodeServer/src/serve_notebook.jl:18\n",
      " [15] withpath(f::VSCodeServer.var\"#146#147\"{VSCodeServer.NotebookRunCellArguments, String}, path::String)\n",
      "    @ VSCodeServer ~/.vscode/extensions/julialang.language-julia-1.5.11/scripts/packages/VSCodeServer/src/repl.jl:185\n",
      " [16] notebook_runcell_request(conn::VSCodeServer.JSONRPC.JSONRPCEndpoint{Base.PipeEndpoint, Base.PipeEndpoint}, params::VSCodeServer.NotebookRunCellArguments)\n",
      "    @ VSCodeServer ~/.vscode/extensions/julialang.language-julia-1.5.11/scripts/packages/VSCodeServer/src/serve_notebook.jl:14\n",
      " [17] dispatch_msg(x::VSCodeServer.JSONRPC.JSONRPCEndpoint{Base.PipeEndpoint, Base.PipeEndpoint}, dispatcher::VSCodeServer.JSONRPC.MsgDispatcher, msg::Dict{String, Any})\n",
      "    @ VSCodeServer.JSONRPC ~/.vscode/extensions/julialang.language-julia-1.5.11/scripts/packages/JSONRPC/src/typed.jl:67\n",
      " [18] serve_notebook(pipename::String; crashreporting_pipename::String)\n",
      "    @ VSCodeServer ~/.vscode/extensions/julialang.language-julia-1.5.11/scripts/packages/VSCodeServer/src/serve_notebook.jl:94\n",
      " [19] top-level scope\n",
      "    @ ~/.vscode/extensions/julialang.language-julia-1.5.11/scripts/notebook/notebook.jl:12\n",
      " [20] include(mod::Module, _path::String)\n",
      "    @ Base ./Base.jl:384\n",
      " [21] exec_options(opts::Base.JLOptions)\n",
      "    @ Base ./client.jl:285\n",
      " [22] _start()\n",
      "    @ Base ./client.jl:485"
     ]
    }
   ],
   "metadata": {}
  },
  {
   "cell_type": "code",
   "execution_count": 743,
   "source": [
    "function dircol_dynamics(x1,x2,h)\n",
    "    #Hermite-Simpson integration with first-order hold on u\n",
    "    f1 = CR3BPdynamics(x1) #Timestep k\n",
    "    f2 = CR3BPdynamics(x2) #Timestep k+1\n",
    "    xm = 0.5*(x1 + x2) + (h/8.0)*(f1 - f2) #\n",
    "    ẋm = (-3/(2.0*h))*(x1 - x2) - 0.25*(f1 + f2)\n",
    "    fm = CR3BPdynamics(xm)\n",
    "    return fm - ẋm\n",
    "end"
   ],
   "outputs": [
    {
     "output_type": "stream",
     "name": "stdout",
     "text": [
      "Xref_[1] = [0.9310110614490166, 0.0, 0.0007355090706384986, 0.0, 0.009272514090721919, -1.214342130539199e-7]\n"
     ]
    },
    {
     "data": {
      "text/plain": [
       "dircol_dynamics (generic function with 1 method)"
      ]
     },
     "metadata": {},
     "output_type": "display_data"
    }
   ],
   "metadata": {}
  },
  {
   "cell_type": "code",
   "execution_count": 744,
   "source": [
    "# Cost weights\n",
    "Q = Diagonal([1.0*ones(3); 1.0*ones(3)]);\n",
    "R = 0.1;"
   ],
   "outputs": [],
   "metadata": {}
  },
  {
   "cell_type": "code",
   "execution_count": 745,
   "source": [
    "function stage_cost(x,u)\n",
    "    return 0.5*((x-xgoal)'*Q*(x-xgoal)) + 0.5*u'*R*u\n",
    "end"
   ],
   "outputs": [
    {
     "data": {
      "text/plain": [
       "stage_cost (generic function with 2 methods)"
      ]
     },
     "metadata": {},
     "output_type": "display_data"
    }
   ],
   "metadata": {}
  },
  {
   "cell_type": "code",
   "execution_count": 746,
   "source": [
    "function cost(ztraj)\n",
    "    z = reshape(ztraj,Nx+Nu,Nt)\n",
    "    J = 0.0\n",
    "    for k = 1:Nt\n",
    "        J += stage_cost(z[1:Nx,k],z[(Nx+1):(Nx+Nu),k])\n",
    "    end\n",
    "    return J\n",
    "end"
   ],
   "outputs": [
    {
     "data": {
      "text/plain": [
       "cost (generic function with 2 methods)"
      ]
     },
     "metadata": {},
     "output_type": "display_data"
    }
   ],
   "metadata": {}
  },
  {
   "cell_type": "code",
   "execution_count": 747,
   "source": [
    "function dynamics_constraint!(c,ztraj)\n",
    "    d = reshape(c,Nx,Nt-1)\n",
    "    z = reshape(ztraj,Nx+Nu,Nt)\n",
    "    for k = 1:(Nt-1)\n",
    "        x1 = z[1:Nx,k]\n",
    "        u1 = z[(Nx+1):(Nx+Nu),k]\n",
    "        x2 = z[1:Nx,k+1]\n",
    "        d[:,k] = dircol_dynamics(x1,x2,u1)\n",
    "    end\n",
    "    return nothing\n",
    "end"
   ],
   "outputs": [
    {
     "data": {
      "text/plain": [
       "dynamics_constraint! (generic function with 1 method)"
      ]
     },
     "metadata": {},
     "output_type": "display_data"
    }
   ],
   "metadata": {}
  },
  {
   "cell_type": "code",
   "execution_count": 748,
   "source": [
    "function con!(c,ztraj)\n",
    "    z = reshape(ztraj,Nx+Nu,Nt)#7 x 101\n",
    "    #Periodicity Constraint \n",
    "    #Xf - X0 = 0 \n",
    "    c[1:Nx] .= z[1:Nx,end] - z[1:Nx,1]\n",
    "    @views dynamics_constraint!(c[(Nx+1):(end-Nx)],ztraj)\n",
    "end"
   ],
   "outputs": [
    {
     "data": {
      "text/plain": [
       "con! (generic function with 1 method)"
      ]
     },
     "metadata": {},
     "output_type": "display_data"
    }
   ],
   "metadata": {}
  },
  {
   "cell_type": "code",
   "execution_count": 749,
   "source": [
    "struct ProblemMOI <: MOI.AbstractNLPEvaluator\n",
    "    n_nlp::Int\n",
    "    m_nlp::Int\n",
    "    idx_ineq\n",
    "    obj_grad::Bool\n",
    "    con_jac::Bool\n",
    "    sparsity_jac\n",
    "    sparsity_hess\n",
    "    primal_bounds\n",
    "    constraint_bounds\n",
    "    hessian_lagrangian::Bool\n",
    "end\n",
    "\n",
    "function ProblemMOI(n_nlp,m_nlp;\n",
    "        idx_ineq=(1:0),\n",
    "        obj_grad=true,\n",
    "        con_jac=true,\n",
    "        sparsity_jac=sparsity_jacobian(n_nlp,m_nlp),\n",
    "        sparsity_hess=sparsity_hessian(n_nlp,m_nlp),\n",
    "        primal_bounds=primal_bounds(n_nlp),\n",
    "        constraint_bounds=constraint_bounds(m_nlp,idx_ineq=idx_ineq),\n",
    "        hessian_lagrangian=false)\n",
    "\n",
    "    ProblemMOI(n_nlp,m_nlp,\n",
    "        idx_ineq,\n",
    "        obj_grad,\n",
    "        con_jac,\n",
    "        sparsity_jac,\n",
    "        sparsity_hess,\n",
    "        primal_bounds,\n",
    "        constraint_bounds,\n",
    "        hessian_lagrangian)\n",
    "end\n",
    "\n",
    "#Our code \n",
    "function primal_bounds(n)\n",
    "    x_l = -Inf*ones(n)\n",
    "    x_u = Inf*ones(n)\n",
    "    for k = 1:Nt-1\n",
    "        x_l[u_idx[k]] .= 0\n",
    "    end \n",
    "\n",
    "    return x_l, x_u\n",
    "end\n",
    "\n",
    "#Our code \n",
    "function constraint_bounds(m; idx_ineq=(1:0))\n",
    "    c_l = zeros(m)\n",
    "    c_u = zeros(m)\n",
    "    return c_l, c_u\n",
    "end\n",
    "#Our code \n",
    "\n",
    "function row_col!(row,col,r,c)\n",
    "    for cc in c\n",
    "        for rr in r\n",
    "            push!(row,convert(Int,rr))\n",
    "            push!(col,convert(Int,cc))\n",
    "        end\n",
    "    end\n",
    "    return row, col\n",
    "end\n",
    "\n",
    "function sparsity_jacobian(n,m)\n",
    "\n",
    "    row = []\n",
    "    col = []\n",
    "\n",
    "    r = 1:m\n",
    "    c = 1:n\n",
    "\n",
    "    row_col!(row,col,r,c)\n",
    "\n",
    "    return collect(zip(row,col))\n",
    "end\n",
    "\n",
    "function sparsity_hessian(n,m)\n",
    "\n",
    "    row = []\n",
    "    col = []\n",
    "\n",
    "    r = 1:m\n",
    "    c = 1:n\n",
    "\n",
    "    row_col!(row,col,r,c)\n",
    "\n",
    "    return collect(zip(row,col))\n",
    "end\n",
    "\n",
    "function MOI.eval_objective(prob::MOI.AbstractNLPEvaluator, x)\n",
    "    cost(x)\n",
    "end\n",
    "\n",
    "function MOI.eval_objective_gradient(prob::MOI.AbstractNLPEvaluator, grad_f, x)\n",
    "    ForwardDiff.gradient!(grad_f,cost,x)\n",
    "    return nothing\n",
    "end\n",
    "\n",
    "function MOI.eval_constraint(prob::MOI.AbstractNLPEvaluator,g,x)\n",
    "    con!(g,x)\n",
    "    return nothing\n",
    "end\n",
    "\n",
    "function MOI.eval_constraint_jacobian(prob::MOI.AbstractNLPEvaluator, jac, x)\n",
    "    ForwardDiff.jacobian!(reshape(jac,prob.m_nlp,prob.n_nlp), con!, zeros(prob.m_nlp), x)\n",
    "    return nothing\n",
    "end\n",
    "\n",
    "function MOI.features_available(prob::MOI.AbstractNLPEvaluator)\n",
    "    return [:Grad, :Jac]\n",
    "end\n",
    "\n",
    "MOI.initialize(prob::MOI.AbstractNLPEvaluator, features) = nothing\n",
    "MOI.jacobian_structure(prob::MOI.AbstractNLPEvaluator) = prob.sparsity_jac\n",
    "\n",
    "function solve(x0,prob::MOI.AbstractNLPEvaluator;\n",
    "        tol=1.0e-6,c_tol=1.0e-6,max_iter=10000)\n",
    "    x_l, x_u = prob.primal_bounds\n",
    "    c_l, c_u = prob.constraint_bounds\n",
    "\n",
    "    nlp_bounds = MOI.NLPBoundsPair.(c_l,c_u)\n",
    "    block_data = MOI.NLPBlockData(nlp_bounds,prob,true)\n",
    "\n",
    "    solver = Ipopt.Optimizer()\n",
    "    solver.options[\"max_iter\"] = max_iter\n",
    "    solver.options[\"tol\"] = tol\n",
    "    solver.options[\"constr_viol_tol\"] = c_tol\n",
    "\n",
    "    x = MOI.add_variables(solver,prob.n_nlp)\n",
    "\n",
    "    for i = 1:prob.n_nlp\n",
    "        xi = MOI.SingleVariable(x[i])\n",
    "        MOI.add_constraint(solver, xi, MOI.LessThan(x_u[i]))\n",
    "        MOI.add_constraint(solver, xi, MOI.GreaterThan(x_l[i]))\n",
    "        MOI.set(solver, MOI.VariablePrimalStart(), x[i], x0[i])\n",
    "    end\n",
    "\n",
    "    # Solve the problem\n",
    "    MOI.set(solver, MOI.NLPBlock(), block_data)\n",
    "    MOI.set(solver, MOI.ObjectiveSense(), MOI.MIN_SENSE)\n",
    "    MOI.optimize!(solver)\n",
    "\n",
    "    # Get the solution\n",
    "    res = MOI.get(solver, MOI.VariablePrimal(), x)\n",
    "\n",
    "    return res\n",
    "end"
   ],
   "outputs": [
    {
     "data": {
      "text/plain": [
       "solve (generic function with 1 method)"
      ]
     },
     "metadata": {},
     "output_type": "display_data"
    }
   ],
   "metadata": {}
  },
  {
   "cell_type": "code",
   "execution_count": 750,
   "source": [
    "#Initial and goal states\n",
    "x0 = Xref_[1]\n",
    "xgoal = Xref_[end]"
   ],
   "outputs": [
    {
     "data": {
      "text/plain": [
       "6-element Vector{Float64}:\n",
       "  0.9329814800143956\n",
       "  0.004014319692937127\n",
       " -0.00031608068049073705\n",
       "  0.002591007167900545\n",
       " -0.003984128055045039\n",
       " -0.0013845674798716708"
      ]
     },
     "metadata": {},
     "output_type": "display_data"
    }
   ],
   "metadata": {}
  },
  {
   "cell_type": "code",
   "execution_count": 751,
   "source": [
    "#Guess\n",
    "z0 = ones((Nx+Nu)*Nt)\n",
    "for k=1:Nt\n",
    "    z0[x_idx[k]] = Xref_[k]\n",
    "end\n",
    "@show size(z0)"
   ],
   "outputs": [
    {
     "output_type": "stream",
     "name": "stdout",
     "text": [
      "size(z0) = (707,)\n"
     ]
    },
    {
     "data": {
      "text/plain": [
       "(707,)"
      ]
     },
     "metadata": {},
     "output_type": "display_data"
    }
   ],
   "metadata": {}
  },
  {
   "cell_type": "code",
   "execution_count": 728,
   "source": [
    "prob = ProblemMOI(n_nlp,m_nlp)\n",
    "z_sol = solve(z0,prob) # solve\n",
    "# ztraj = reshape(z_sol,Nx+Nu,Nt)\n",
    "# xtraj = ztraj[1:Nx,:]\n",
    "# utraj = ztraj[(Nx+1):(Nx+Nu),:]"
   ],
   "outputs": [
    {
     "output_type": "error",
     "ename": "MethodError",
     "evalue": "MethodError: no method matching Float64(::ForwardDiff.Dual{ForwardDiff.Tag{typeof(con!), Float64}, Float64, 12})\nClosest candidates are:\n  (::Type{T})(::Real, !Matched::RoundingMode) where T<:AbstractFloat at rounding.jl:200\n  (::Type{T})(::T) where T<:Number at boot.jl:760\n  (::Type{T})(!Matched::AbstractChar) where T<:Union{AbstractChar, Number} at char.jl:50\n  ...",
     "traceback": [
      "MethodError: no method matching Float64(::ForwardDiff.Dual{ForwardDiff.Tag{typeof(con!), Float64}, Float64, 12})\n",
      "Closest candidates are:\n",
      "  (::Type{T})(::Real, !Matched::RoundingMode) where T<:AbstractFloat at rounding.jl:200\n",
      "  (::Type{T})(::T) where T<:Number at boot.jl:760\n",
      "  (::Type{T})(!Matched::AbstractChar) where T<:Union{AbstractChar, Number} at char.jl:50\n",
      "  ...\n",
      "\n",
      "Stacktrace:\n",
      "  [1] convert(#unused#::Type{Float64}, x::ForwardDiff.Dual{ForwardDiff.Tag{typeof(con!), Float64}, Float64, 12})\n",
      "    @ Base ./number.jl:7\n",
      "  [2] setindex!(A::Vector{Float64}, x::ForwardDiff.Dual{ForwardDiff.Tag{typeof(con!), Float64}, Float64, 12}, i1::Int64)\n",
      "    @ Base ./array.jl:843\n",
      "  [3] setindex!\n",
      "    @ ./array.jl:857 [inlined]\n",
      "  [4] CR3BPdynamics(rv::Vector{ForwardDiff.Dual{ForwardDiff.Tag{typeof(con!), Float64}, Float64, 12}})\n",
      "    @ Main ~/Desktop/OptimalC/Project/16745-threebody/src/dircol.ipynb:11\n",
      "  [5] dircol_dynamics(x1::Vector{ForwardDiff.Dual{ForwardDiff.Tag{typeof(con!), Float64}, Float64, 12}}, x2::Vector{ForwardDiff.Dual{ForwardDiff.Tag{typeof(con!), Float64}, Float64, 12}}, h::Vector{ForwardDiff.Dual{ForwardDiff.Tag{typeof(con!), Float64}, Float64, 12}})\n",
      "    @ Main ~/Desktop/OptimalC/Project/16745-threebody/src/dircol.ipynb:3\n",
      "  [6] dynamics_constraint!(c::SubArray{ForwardDiff.Dual{ForwardDiff.Tag{typeof(con!), Float64}, Float64, 12}, 1, Vector{ForwardDiff.Dual{ForwardDiff.Tag{typeof(con!), Float64}, Float64, 12}}, Tuple{UnitRange{Int64}}, true}, ztraj::Vector{ForwardDiff.Dual{ForwardDiff.Tag{typeof(con!), Float64}, Float64, 12}})\n",
      "    @ Main ~/Desktop/OptimalC/Project/16745-threebody/src/dircol.ipynb:8\n",
      "  [7] con!(c::Vector{ForwardDiff.Dual{ForwardDiff.Tag{typeof(con!), Float64}, Float64, 12}}, ztraj::Vector{ForwardDiff.Dual{ForwardDiff.Tag{typeof(con!), Float64}, Float64, 12}})\n",
      "    @ Main ~/Desktop/OptimalC/Project/16745-threebody/src/dircol.ipynb:6\n",
      "  [8] chunk_mode_jacobian!(result::Base.ReshapedArray{Float64, 2, SubArray{Float64, 1, Vector{Float64}, Tuple{UnitRange{Int64}}, true}, Tuple{}}, f!::typeof(con!), y::Vector{Float64}, x::Vector{Float64}, cfg::ForwardDiff.JacobianConfig{ForwardDiff.Tag{typeof(con!), Float64}, Float64, 12, Tuple{Vector{ForwardDiff.Dual{ForwardDiff.Tag{typeof(con!), Float64}, Float64, 12}}, Vector{ForwardDiff.Dual{ForwardDiff.Tag{typeof(con!), Float64}, Float64, 12}}}})\n",
      "    @ ForwardDiff ~/.julia/packages/ForwardDiff/pKmp4/src/jacobian.jl:227\n",
      "  [9] jacobian!(result::Base.ReshapedArray{Float64, 2, SubArray{Float64, 1, Vector{Float64}, Tuple{UnitRange{Int64}}, true}, Tuple{}}, f!::Function, y::Vector{Float64}, x::Vector{Float64}, cfg::ForwardDiff.JacobianConfig{ForwardDiff.Tag{typeof(con!), Float64}, Float64, 12, Tuple{Vector{ForwardDiff.Dual{ForwardDiff.Tag{typeof(con!), Float64}, Float64, 12}}, Vector{ForwardDiff.Dual{ForwardDiff.Tag{typeof(con!), Float64}, Float64, 12}}}}, ::Val{true})\n",
      "    @ ForwardDiff ~/.julia/packages/ForwardDiff/pKmp4/src/jacobian.jl:80\n",
      " [10] jacobian!(result::Base.ReshapedArray{Float64, 2, SubArray{Float64, 1, Vector{Float64}, Tuple{UnitRange{Int64}}, true}, Tuple{}}, f!::Function, y::Vector{Float64}, x::Vector{Float64}, cfg::ForwardDiff.JacobianConfig{ForwardDiff.Tag{typeof(con!), Float64}, Float64, 12, Tuple{Vector{ForwardDiff.Dual{ForwardDiff.Tag{typeof(con!), Float64}, Float64, 12}}, Vector{ForwardDiff.Dual{ForwardDiff.Tag{typeof(con!), Float64}, Float64, 12}}}}) (repeats 2 times)\n",
      "    @ ForwardDiff ~/.julia/packages/ForwardDiff/pKmp4/src/jacobian.jl:76\n",
      " [11] eval_constraint_jacobian(prob::ProblemMOI, jac::SubArray{Float64, 1, Vector{Float64}, Tuple{UnitRange{Int64}}, true}, x::Vector{Float64})\n",
      "    @ Main ~/Desktop/OptimalC/Project/16745-threebody/src/dircol.ipynb:105\n",
      " [12] eval_constraint_jacobian(model::Ipopt.Optimizer, values::Vector{Float64}, x::Vector{Float64})\n",
      "    @ Ipopt ~/.julia/packages/Ipopt/vtrOr/src/MOI_wrapper.jl:1423\n",
      " [13] (::Ipopt.var\"#eval_jac_g_cb#45\"{Ipopt.Optimizer, Vector{Tuple{Int64, Int64}}})(x::Vector{Float64}, mode::Symbol, rows::Vector{Int32}, cols::Vector{Int32}, values::Vector{Float64})\n",
      "    @ Ipopt ~/.julia/packages/Ipopt/vtrOr/src/MOI_wrapper.jl:1587\n",
      " [14] eval_jac_g_wrapper(n::Int32, x_ptr::Ptr{Float64}, new_x::Int32, m::Int32, nele_jac::Int32, iRow::Ptr{Int32}, jCol::Ptr{Int32}, values_ptr::Ptr{Float64}, user_data::Ptr{Nothing})\n",
      "    @ Ipopt ~/.julia/packages/Ipopt/vtrOr/src/Ipopt.jl:185\n",
      " [15] solveProblem(prob::IpoptProblem)\n",
      "    @ Ipopt ~/.julia/packages/Ipopt/vtrOr/src/Ipopt.jl:532\n",
      " [16] optimize!(model::Ipopt.Optimizer)\n",
      "    @ Ipopt ~/.julia/packages/Ipopt/vtrOr/src/MOI_wrapper.jl:1713\n",
      " [17] solve(x0::Vector{Float64}, prob::ProblemMOI; tol::Float64, c_tol::Float64, max_iter::Int64)\n",
      "    @ Main ~/Desktop/OptimalC/Project/16745-threebody/src/dircol.ipynb:141\n",
      " [18] solve(x0::Vector{Float64}, prob::ProblemMOI)\n",
      "    @ Main ~/Desktop/OptimalC/Project/16745-threebody/src/dircol.ipynb:118\n",
      " [19] top-level scope\n",
      "    @ ~/Desktop/OptimalC/Project/16745-threebody/src/dircol.ipynb:2\n",
      " [20] eval\n",
      "    @ ./boot.jl:360 [inlined]\n",
      " [21] include_string(mapexpr::typeof(REPL.softscope), mod::Module, code::String, filename::String)\n",
      "    @ Base ./loading.jl:1116\n",
      " [22] #invokelatest#2\n",
      "    @ ./essentials.jl:708 [inlined]\n",
      " [23] invokelatest\n",
      "    @ ./essentials.jl:706 [inlined]\n",
      " [24] (::VSCodeServer.var\"#146#147\"{VSCodeServer.NotebookRunCellArguments, String})()\n",
      "    @ VSCodeServer ~/.vscode/extensions/julialang.language-julia-1.5.11/scripts/packages/VSCodeServer/src/serve_notebook.jl:18\n",
      " [25] withpath(f::VSCodeServer.var\"#146#147\"{VSCodeServer.NotebookRunCellArguments, String}, path::String)\n",
      "    @ VSCodeServer ~/.vscode/extensions/julialang.language-julia-1.5.11/scripts/packages/VSCodeServer/src/repl.jl:185\n",
      " [26] notebook_runcell_request(conn::VSCodeServer.JSONRPC.JSONRPCEndpoint{Base.PipeEndpoint, Base.PipeEndpoint}, params::VSCodeServer.NotebookRunCellArguments)\n",
      "    @ VSCodeServer ~/.vscode/extensions/julialang.language-julia-1.5.11/scripts/packages/VSCodeServer/src/serve_notebook.jl:14\n",
      " [27] dispatch_msg(x::VSCodeServer.JSONRPC.JSONRPCEndpoint{Base.PipeEndpoint, Base.PipeEndpoint}, dispatcher::VSCodeServer.JSONRPC.MsgDispatcher, msg::Dict{String, Any})\n",
      "    @ VSCodeServer.JSONRPC ~/.vscode/extensions/julialang.language-julia-1.5.11/scripts/packages/JSONRPC/src/typed.jl:67\n",
      " [28] serve_notebook(pipename::String; crashreporting_pipename::String)\n",
      "    @ VSCodeServer ~/.vscode/extensions/julialang.language-julia-1.5.11/scripts/packages/VSCodeServer/src/serve_notebook.jl:94\n",
      " [29] top-level scope\n",
      "    @ ~/.vscode/extensions/julialang.language-julia-1.5.11/scripts/notebook/notebook.jl:12\n",
      " [30] include(mod::Module, _path::String)\n",
      "    @ Base ./Base.jl:384\n",
      " [31] exec_options(opts::Base.JLOptions)\n",
      "    @ Base ./client.jl:285\n",
      " [32] _start()\n",
      "    @ Base ./client.jl:485"
     ]
    }
   ],
   "metadata": {}
  },
  {
   "cell_type": "code",
   "execution_count": 752,
   "source": [
    "plot(thist,xtraj[1,:])\n",
    "plot(thist,xtraj[2,:])\n",
    "plot(thist,xguess[1,:])\n",
    "PyPlot.show()"
   ],
   "outputs": [
    {
     "output_type": "error",
     "ename": "UndefVarError",
     "evalue": "UndefVarError: xtraj not defined",
     "traceback": [
      "UndefVarError: xtraj not defined\n",
      "\n",
      "Stacktrace:\n",
      "  [1] top-level scope\n",
      "    @ ~/Desktop/OptimalC/Project/16745-threebody/src/dircol.ipynb:1\n",
      "  [2] eval\n",
      "    @ ./boot.jl:360 [inlined]\n",
      "  [3] include_string(mapexpr::typeof(REPL.softscope), mod::Module, code::String, filename::String)\n",
      "    @ Base ./loading.jl:1116\n",
      "  [4] #invokelatest#2\n",
      "    @ ./essentials.jl:708 [inlined]\n",
      "  [5] invokelatest\n",
      "    @ ./essentials.jl:706 [inlined]\n",
      "  [6] (::VSCodeServer.var\"#146#147\"{VSCodeServer.NotebookRunCellArguments, String})()\n",
      "    @ VSCodeServer ~/.vscode/extensions/julialang.language-julia-1.5.11/scripts/packages/VSCodeServer/src/serve_notebook.jl:18\n",
      "  [7] withpath(f::VSCodeServer.var\"#146#147\"{VSCodeServer.NotebookRunCellArguments, String}, path::String)\n",
      "    @ VSCodeServer ~/.vscode/extensions/julialang.language-julia-1.5.11/scripts/packages/VSCodeServer/src/repl.jl:185\n",
      "  [8] notebook_runcell_request(conn::VSCodeServer.JSONRPC.JSONRPCEndpoint{Base.PipeEndpoint, Base.PipeEndpoint}, params::VSCodeServer.NotebookRunCellArguments)\n",
      "    @ VSCodeServer ~/.vscode/extensions/julialang.language-julia-1.5.11/scripts/packages/VSCodeServer/src/serve_notebook.jl:14\n",
      "  [9] dispatch_msg(x::VSCodeServer.JSONRPC.JSONRPCEndpoint{Base.PipeEndpoint, Base.PipeEndpoint}, dispatcher::VSCodeServer.JSONRPC.MsgDispatcher, msg::Dict{String, Any})\n",
      "    @ VSCodeServer.JSONRPC ~/.vscode/extensions/julialang.language-julia-1.5.11/scripts/packages/JSONRPC/src/typed.jl:67\n",
      " [10] serve_notebook(pipename::String; crashreporting_pipename::String)\n",
      "    @ VSCodeServer ~/.vscode/extensions/julialang.language-julia-1.5.11/scripts/packages/VSCodeServer/src/serve_notebook.jl:94\n",
      " [11] top-level scope\n",
      "    @ ~/.vscode/extensions/julialang.language-julia-1.5.11/scripts/notebook/notebook.jl:12\n",
      " [12] include(mod::Module, _path::String)\n",
      "    @ Base ./Base.jl:384\n",
      " [13] exec_options(opts::Base.JLOptions)\n",
      "    @ Base ./client.jl:285\n",
      " [14] _start()\n",
      "    @ Base ./client.jl:485"
     ]
    }
   ],
   "metadata": {}
  },
  {
   "cell_type": "code",
   "execution_count": 730,
   "source": [
    "plot(thist,xtraj[3,:])\n",
    "plot(thist,xtraj[4,:])\n",
    "PyPlot.show()"
   ],
   "outputs": [
    {
     "output_type": "error",
     "ename": "UndefVarError",
     "evalue": "UndefVarError: xtraj not defined",
     "traceback": [
      "UndefVarError: xtraj not defined\n",
      "\n",
      "Stacktrace:\n",
      "  [1] top-level scope\n",
      "    @ ~/Desktop/OptimalC/Project/16745-threebody/src/dircol.ipynb:1\n",
      "  [2] eval\n",
      "    @ ./boot.jl:360 [inlined]\n",
      "  [3] include_string(mapexpr::typeof(REPL.softscope), mod::Module, code::String, filename::String)\n",
      "    @ Base ./loading.jl:1116\n",
      "  [4] #invokelatest#2\n",
      "    @ ./essentials.jl:708 [inlined]\n",
      "  [5] invokelatest\n",
      "    @ ./essentials.jl:706 [inlined]\n",
      "  [6] (::VSCodeServer.var\"#146#147\"{VSCodeServer.NotebookRunCellArguments, String})()\n",
      "    @ VSCodeServer ~/.vscode/extensions/julialang.language-julia-1.5.11/scripts/packages/VSCodeServer/src/serve_notebook.jl:18\n",
      "  [7] withpath(f::VSCodeServer.var\"#146#147\"{VSCodeServer.NotebookRunCellArguments, String}, path::String)\n",
      "    @ VSCodeServer ~/.vscode/extensions/julialang.language-julia-1.5.11/scripts/packages/VSCodeServer/src/repl.jl:185\n",
      "  [8] notebook_runcell_request(conn::VSCodeServer.JSONRPC.JSONRPCEndpoint{Base.PipeEndpoint, Base.PipeEndpoint}, params::VSCodeServer.NotebookRunCellArguments)\n",
      "    @ VSCodeServer ~/.vscode/extensions/julialang.language-julia-1.5.11/scripts/packages/VSCodeServer/src/serve_notebook.jl:14\n",
      "  [9] dispatch_msg(x::VSCodeServer.JSONRPC.JSONRPCEndpoint{Base.PipeEndpoint, Base.PipeEndpoint}, dispatcher::VSCodeServer.JSONRPC.MsgDispatcher, msg::Dict{String, Any})\n",
      "    @ VSCodeServer.JSONRPC ~/.vscode/extensions/julialang.language-julia-1.5.11/scripts/packages/JSONRPC/src/typed.jl:67\n",
      " [10] serve_notebook(pipename::String; crashreporting_pipename::String)\n",
      "    @ VSCodeServer ~/.vscode/extensions/julialang.language-julia-1.5.11/scripts/packages/VSCodeServer/src/serve_notebook.jl:94\n",
      " [11] top-level scope\n",
      "    @ ~/.vscode/extensions/julialang.language-julia-1.5.11/scripts/notebook/notebook.jl:12\n",
      " [12] include(mod::Module, _path::String)\n",
      "    @ Base ./Base.jl:384\n",
      " [13] exec_options(opts::Base.JLOptions)\n",
      "    @ Base ./client.jl:285\n",
      " [14] _start()\n",
      "    @ Base ./client.jl:485"
     ]
    }
   ],
   "metadata": {}
  },
  {
   "cell_type": "code",
   "execution_count": 731,
   "source": [
    "plot(thist,utraj[1,:])\n",
    "PyPlot.show()"
   ],
   "outputs": [
    {
     "output_type": "error",
     "ename": "UndefVarError",
     "evalue": "UndefVarError: utraj not defined",
     "traceback": [
      "UndefVarError: utraj not defined\n",
      "\n",
      "Stacktrace:\n",
      "  [1] top-level scope\n",
      "    @ ~/Desktop/OptimalC/Project/16745-threebody/src/dircol.ipynb:1\n",
      "  [2] eval\n",
      "    @ ./boot.jl:360 [inlined]\n",
      "  [3] include_string(mapexpr::typeof(REPL.softscope), mod::Module, code::String, filename::String)\n",
      "    @ Base ./loading.jl:1116\n",
      "  [4] #invokelatest#2\n",
      "    @ ./essentials.jl:708 [inlined]\n",
      "  [5] invokelatest\n",
      "    @ ./essentials.jl:706 [inlined]\n",
      "  [6] (::VSCodeServer.var\"#146#147\"{VSCodeServer.NotebookRunCellArguments, String})()\n",
      "    @ VSCodeServer ~/.vscode/extensions/julialang.language-julia-1.5.11/scripts/packages/VSCodeServer/src/serve_notebook.jl:18\n",
      "  [7] withpath(f::VSCodeServer.var\"#146#147\"{VSCodeServer.NotebookRunCellArguments, String}, path::String)\n",
      "    @ VSCodeServer ~/.vscode/extensions/julialang.language-julia-1.5.11/scripts/packages/VSCodeServer/src/repl.jl:185\n",
      "  [8] notebook_runcell_request(conn::VSCodeServer.JSONRPC.JSONRPCEndpoint{Base.PipeEndpoint, Base.PipeEndpoint}, params::VSCodeServer.NotebookRunCellArguments)\n",
      "    @ VSCodeServer ~/.vscode/extensions/julialang.language-julia-1.5.11/scripts/packages/VSCodeServer/src/serve_notebook.jl:14\n",
      "  [9] dispatch_msg(x::VSCodeServer.JSONRPC.JSONRPCEndpoint{Base.PipeEndpoint, Base.PipeEndpoint}, dispatcher::VSCodeServer.JSONRPC.MsgDispatcher, msg::Dict{String, Any})\n",
      "    @ VSCodeServer.JSONRPC ~/.vscode/extensions/julialang.language-julia-1.5.11/scripts/packages/JSONRPC/src/typed.jl:67\n",
      " [10] serve_notebook(pipename::String; crashreporting_pipename::String)\n",
      "    @ VSCodeServer ~/.vscode/extensions/julialang.language-julia-1.5.11/scripts/packages/VSCodeServer/src/serve_notebook.jl:94\n",
      " [11] top-level scope\n",
      "    @ ~/.vscode/extensions/julialang.language-julia-1.5.11/scripts/notebook/notebook.jl:12\n",
      " [12] include(mod::Module, _path::String)\n",
      "    @ Base ./Base.jl:384\n",
      " [13] exec_options(opts::Base.JLOptions)\n",
      "    @ Base ./client.jl:285\n",
      " [14] _start()\n",
      "    @ Base ./client.jl:485"
     ]
    }
   ],
   "metadata": {}
  },
  {
   "cell_type": "code",
   "execution_count": 732,
   "source": [
    "using TrajOptPlots\n",
    "using MeshCat\n",
    "using StaticArrays\n",
    "\n",
    "vis = Visualizer()\n",
    "render(vis)"
   ],
   "outputs": [
    {
     "output_type": "error",
     "ename": "ArgumentError",
     "evalue": "ArgumentError: Package TrajOptPlots not found in current path:\n- Run `import Pkg; Pkg.add(\"TrajOptPlots\")` to install the TrajOptPlots package.\n",
     "traceback": [
      "ArgumentError: Package TrajOptPlots not found in current path:\n",
      "- Run `import Pkg; Pkg.add(\"TrajOptPlots\")` to install the TrajOptPlots package.\n",
      "\n",
      "\n",
      "Stacktrace:\n",
      "  [1] require(into::Module, mod::Symbol)\n",
      "    @ Base ./loading.jl:893\n",
      "  [2] eval\n",
      "    @ ./boot.jl:360 [inlined]\n",
      "  [3] include_string(mapexpr::typeof(REPL.softscope), mod::Module, code::String, filename::String)\n",
      "    @ Base ./loading.jl:1116\n",
      "  [4] #invokelatest#2\n",
      "    @ ./essentials.jl:708 [inlined]\n",
      "  [5] invokelatest\n",
      "    @ ./essentials.jl:706 [inlined]\n",
      "  [6] (::VSCodeServer.var\"#146#147\"{VSCodeServer.NotebookRunCellArguments, String})()\n",
      "    @ VSCodeServer ~/.vscode/extensions/julialang.language-julia-1.5.11/scripts/packages/VSCodeServer/src/serve_notebook.jl:18\n",
      "  [7] withpath(f::VSCodeServer.var\"#146#147\"{VSCodeServer.NotebookRunCellArguments, String}, path::String)\n",
      "    @ VSCodeServer ~/.vscode/extensions/julialang.language-julia-1.5.11/scripts/packages/VSCodeServer/src/repl.jl:185\n",
      "  [8] notebook_runcell_request(conn::VSCodeServer.JSONRPC.JSONRPCEndpoint{Base.PipeEndpoint, Base.PipeEndpoint}, params::VSCodeServer.NotebookRunCellArguments)\n",
      "    @ VSCodeServer ~/.vscode/extensions/julialang.language-julia-1.5.11/scripts/packages/VSCodeServer/src/serve_notebook.jl:14\n",
      "  [9] dispatch_msg(x::VSCodeServer.JSONRPC.JSONRPCEndpoint{Base.PipeEndpoint, Base.PipeEndpoint}, dispatcher::VSCodeServer.JSONRPC.MsgDispatcher, msg::Dict{String, Any})\n",
      "    @ VSCodeServer.JSONRPC ~/.vscode/extensions/julialang.language-julia-1.5.11/scripts/packages/JSONRPC/src/typed.jl:67\n",
      " [10] serve_notebook(pipename::String; crashreporting_pipename::String)\n",
      "    @ VSCodeServer ~/.vscode/extensions/julialang.language-julia-1.5.11/scripts/packages/VSCodeServer/src/serve_notebook.jl:94\n",
      " [11] top-level scope\n",
      "    @ ~/.vscode/extensions/julialang.language-julia-1.5.11/scripts/notebook/notebook.jl:12\n",
      " [12] include(mod::Module, _path::String)\n",
      "    @ Base ./Base.jl:384\n",
      " [13] exec_options(opts::Base.JLOptions)\n",
      "    @ Base ./client.jl:285\n",
      " [14] _start()\n",
      "    @ Base ./client.jl:485"
     ]
    }
   ],
   "metadata": {}
  },
  {
   "cell_type": "code",
   "execution_count": 733,
   "source": [
    "TrajOptPlots.set_mesh!(vis, a)"
   ],
   "outputs": [
    {
     "output_type": "error",
     "ename": "UndefVarError",
     "evalue": "UndefVarError: TrajOptPlots not defined",
     "traceback": [
      "UndefVarError: TrajOptPlots not defined\n",
      "\n",
      "Stacktrace:\n",
      "  [1] top-level scope\n",
      "    @ ~/Desktop/OptimalC/Project/16745-threebody/src/dircol.ipynb:1\n",
      "  [2] eval\n",
      "    @ ./boot.jl:360 [inlined]\n",
      "  [3] include_string(mapexpr::typeof(REPL.softscope), mod::Module, code::String, filename::String)\n",
      "    @ Base ./loading.jl:1116\n",
      "  [4] #invokelatest#2\n",
      "    @ ./essentials.jl:708 [inlined]\n",
      "  [5] invokelatest\n",
      "    @ ./essentials.jl:706 [inlined]\n",
      "  [6] (::VSCodeServer.var\"#146#147\"{VSCodeServer.NotebookRunCellArguments, String})()\n",
      "    @ VSCodeServer ~/.vscode/extensions/julialang.language-julia-1.5.11/scripts/packages/VSCodeServer/src/serve_notebook.jl:18\n",
      "  [7] withpath(f::VSCodeServer.var\"#146#147\"{VSCodeServer.NotebookRunCellArguments, String}, path::String)\n",
      "    @ VSCodeServer ~/.vscode/extensions/julialang.language-julia-1.5.11/scripts/packages/VSCodeServer/src/repl.jl:185\n",
      "  [8] notebook_runcell_request(conn::VSCodeServer.JSONRPC.JSONRPCEndpoint{Base.PipeEndpoint, Base.PipeEndpoint}, params::VSCodeServer.NotebookRunCellArguments)\n",
      "    @ VSCodeServer ~/.vscode/extensions/julialang.language-julia-1.5.11/scripts/packages/VSCodeServer/src/serve_notebook.jl:14\n",
      "  [9] dispatch_msg(x::VSCodeServer.JSONRPC.JSONRPCEndpoint{Base.PipeEndpoint, Base.PipeEndpoint}, dispatcher::VSCodeServer.JSONRPC.MsgDispatcher, msg::Dict{String, Any})\n",
      "    @ VSCodeServer.JSONRPC ~/.vscode/extensions/julialang.language-julia-1.5.11/scripts/packages/JSONRPC/src/typed.jl:67\n",
      " [10] serve_notebook(pipename::String; crashreporting_pipename::String)\n",
      "    @ VSCodeServer ~/.vscode/extensions/julialang.language-julia-1.5.11/scripts/packages/VSCodeServer/src/serve_notebook.jl:94\n",
      " [11] top-level scope\n",
      "    @ ~/.vscode/extensions/julialang.language-julia-1.5.11/scripts/notebook/notebook.jl:12\n",
      " [12] include(mod::Module, _path::String)\n",
      "    @ Base ./Base.jl:384\n",
      " [13] exec_options(opts::Base.JLOptions)\n",
      "    @ Base ./client.jl:285\n",
      " [14] _start()\n",
      "    @ Base ./client.jl:485"
     ]
    }
   ],
   "metadata": {}
  },
  {
   "cell_type": "code",
   "execution_count": 734,
   "source": [
    "X1 = [SVector{4}(x) for x in eachcol(xtraj)];\n",
    "visualize!(vis, a, thist[end], X1)"
   ],
   "outputs": [
    {
     "output_type": "error",
     "ename": "UndefVarError",
     "evalue": "UndefVarError: SVector not defined",
     "traceback": [
      "UndefVarError: SVector not defined\n",
      "\n",
      "Stacktrace:\n",
      "  [1] top-level scope\n",
      "    @ ~/Desktop/OptimalC/Project/16745-threebody/src/dircol.ipynb:1\n",
      "  [2] eval\n",
      "    @ ./boot.jl:360 [inlined]\n",
      "  [3] include_string(mapexpr::typeof(REPL.softscope), mod::Module, code::String, filename::String)\n",
      "    @ Base ./loading.jl:1116\n",
      "  [4] #invokelatest#2\n",
      "    @ ./essentials.jl:708 [inlined]\n",
      "  [5] invokelatest\n",
      "    @ ./essentials.jl:706 [inlined]\n",
      "  [6] (::VSCodeServer.var\"#146#147\"{VSCodeServer.NotebookRunCellArguments, String})()\n",
      "    @ VSCodeServer ~/.vscode/extensions/julialang.language-julia-1.5.11/scripts/packages/VSCodeServer/src/serve_notebook.jl:18\n",
      "  [7] withpath(f::VSCodeServer.var\"#146#147\"{VSCodeServer.NotebookRunCellArguments, String}, path::String)\n",
      "    @ VSCodeServer ~/.vscode/extensions/julialang.language-julia-1.5.11/scripts/packages/VSCodeServer/src/repl.jl:185\n",
      "  [8] notebook_runcell_request(conn::VSCodeServer.JSONRPC.JSONRPCEndpoint{Base.PipeEndpoint, Base.PipeEndpoint}, params::VSCodeServer.NotebookRunCellArguments)\n",
      "    @ VSCodeServer ~/.vscode/extensions/julialang.language-julia-1.5.11/scripts/packages/VSCodeServer/src/serve_notebook.jl:14\n",
      "  [9] dispatch_msg(x::VSCodeServer.JSONRPC.JSONRPCEndpoint{Base.PipeEndpoint, Base.PipeEndpoint}, dispatcher::VSCodeServer.JSONRPC.MsgDispatcher, msg::Dict{String, Any})\n",
      "    @ VSCodeServer.JSONRPC ~/.vscode/extensions/julialang.language-julia-1.5.11/scripts/packages/JSONRPC/src/typed.jl:67\n",
      " [10] serve_notebook(pipename::String; crashreporting_pipename::String)\n",
      "    @ VSCodeServer ~/.vscode/extensions/julialang.language-julia-1.5.11/scripts/packages/VSCodeServer/src/serve_notebook.jl:94\n",
      " [11] top-level scope\n",
      "    @ ~/.vscode/extensions/julialang.language-julia-1.5.11/scripts/notebook/notebook.jl:12\n",
      " [12] include(mod::Module, _path::String)\n",
      "    @ Base ./Base.jl:384\n",
      " [13] exec_options(opts::Base.JLOptions)\n",
      "    @ Base ./client.jl:285\n",
      " [14] _start()\n",
      "    @ Base ./client.jl:485"
     ]
    }
   ],
   "metadata": {}
  },
  {
   "cell_type": "code",
   "execution_count": 735,
   "source": [],
   "outputs": [
    {
     "output_type": "stream",
     "name": "stdout",
     "text": [
      "This is Ipopt version 3.13.4, running with linear solver mumps.\n",
      "NOTE: Other linear solvers might be more efficient (see Ipopt documentation).\n",
      "\n",
      "Number of nonzeros in equality constraint Jacobian...:   432684\n",
      "Number of nonzeros in inequality constraint Jacobian.:        0\n",
      "Number of nonzeros in Lagrangian Hessian.............:        0\n",
      "\n"
     ]
    }
   ],
   "metadata": {}
  }
 ],
 "metadata": {
  "kernelspec": {
   "display_name": "Julia 1.6.5",
   "language": "julia",
   "name": "julia-1.6"
  },
  "language_info": {
   "name": "julia",
   "version": "1.6.5",
   "mimetype": "application/julia",
   "file_extension": ".jl"
  }
 },
 "nbformat": 4,
 "nbformat_minor": 4
}