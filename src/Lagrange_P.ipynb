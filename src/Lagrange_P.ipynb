{
 "cells": [
  {
   "cell_type": "code",
   "execution_count": 2,
   "metadata": {},
   "outputs": [],
   "source": [
    "# import Pkg; Pkg.activate(joinpath(@__DIR__, \"..\")); Pkg.instantiate();\n",
    "# import Pkg; Pkg.add(\"RobotZoo\")\n",
    "# using RobotZoo: YakPlane\n",
    "# import RobotDynamics\n",
    "# using RobotDynamics: state_dim, control_dim\n",
    "using ForwardDiff\n",
    "# using StaticArrays\n",
    "# using LinearAlgebra\n",
    "# using Rotations\n",
    "# using Printf\n",
    "# using Test\n",
    "# using TrajOptPlots\n",
    "# using JLD2\n",
    "# const RD = RobotDynamics\n",
    "# include(\"utils.jl\")\n",
    "# include(\"airplane.jl\")\n",
    "# const isautograder = @isdefined autograder;\n",
    "# const resfile = joinpath(@__DIR__,\"q1.jld2\")"
   ]
  },
  {
   "cell_type": "code",
   "execution_count": 3,
   "metadata": {},
   "outputs": [
    {
     "data": {
      "text/plain": [
       "l (generic function with 1 method)"
      ]
     },
     "execution_count": 3,
     "metadata": {},
     "output_type": "execute_result"
    }
   ],
   "source": [
    "function l(x,μ,point)\n",
    "    if point == 1\n",
    "        return x^5 - (3-μ)*x^4 + (3-2*μ)*x^3 - μ*x^2 + 2*μ*x - μ\n",
    "    end\n",
    "    if point == 2 \n",
    "        return x^5 + (3-μ)*x^4 + (3-2*μ)*x^3 - μ*x^2 - 2*μ*x - μ\n",
    "    end\n",
    "end "
   ]
  },
  {
   "cell_type": "code",
   "execution_count": 4,
   "metadata": {},
   "outputs": [
    {
     "data": {
      "text/plain": [
       "dl (generic function with 1 method)"
      ]
     },
     "execution_count": 4,
     "metadata": {},
     "output_type": "execute_result"
    }
   ],
   "source": [
    "function dl(x,μ,point)\n",
    "    if point == 1\n",
    "        return 5*x^4 - 4*(3-μ)*x^3 + 3*(3-2*μ)*x^2 - 2*μ*x^1 + 2*μ\n",
    "    end\n",
    "    if point == 2 \n",
    "        return 5*x^4 + 4*(3-μ)*x^3 + 3*(3-2*μ)*x^2 - 2*μ*x^1 + 2*μ\n",
    "    end\n",
    "end \n"
   ]
  },
  {
   "cell_type": "code",
   "execution_count": 5,
   "metadata": {},
   "outputs": [
    {
     "data": {
      "text/plain": [
       "l_approx (generic function with 1 method)"
      ]
     },
     "execution_count": 5,
     "metadata": {},
     "output_type": "execute_result"
    }
   ],
   "source": [
    "function l_approx(μ,point)\n",
    "    rh = (μ/3)^(1/3)\n",
    "    if point == 1\n",
    "        return rh*(1-(1/3)*rh-(1/9)*rh^2-(1/27)*rh^3)\n",
    "    end\n",
    "    if point == 2 \n",
    "        return rh*(1+(1/3)*rh-(1/9)*rh^2-(1/27)*rh^3)\n",
    "    end\n",
    "end\n"
   ]
  },
  {
   "cell_type": "code",
   "execution_count": 6,
   "metadata": {},
   "outputs": [
    {
     "data": {
      "text/plain": [
       "lagrange_points_solve! (generic function with 1 method)"
      ]
     },
     "execution_count": 6,
     "metadata": {},
     "output_type": "execute_result"
    }
   ],
   "source": [
    "# TASK: Complete the following function\n",
    "using ForwardDiff\n",
    "\n",
    "function lagrange_points_solve!(x,μ,point; ϵ=1e-6)\n",
    "    f = l(x,μ,point)\n",
    "    e = [norm(f)]\n",
    "    count = 0\n",
    "    while e[end] > ϵ\n",
    "        ∂f = ForwardDiff.derivative(x_ ->l(x_,μ,point), x)\n",
    "        ∂f2 = ForwardDiff.derivative(x_ ->l(x_,μ,point), x)\n",
    "        x = x - ∂f\\f\n",
    "        f = l(x,μ,point)\n",
    "        append!(e,norm(f))\n",
    "    end\n",
    "    # TODO: Implement this function. Feel free to add optional input arguments as needed\n",
    "    # residuals = Float64[]\n",
    "    # residuals = implicit_midpoint(f,x1,x2)\n",
    "    return e,x\n",
    "end "
   ]
  },
  {
   "cell_type": "code",
   "execution_count": 7,
   "metadata": {},
   "outputs": [
    {
     "ename": "LoadError",
     "evalue": "UndefVarError: norm not defined",
     "output_type": "error",
     "traceback": [
      "UndefVarError: norm not defined",
      "",
      "Stacktrace:",
      " [1] lagrange_points_solve!(x::Float64, μ::Float64, point::Int64; ϵ::Float64)",
      "   @ Main ./In[6]:6",
      " [2] lagrange_points_solve!(x::Float64, μ::Float64, point::Int64)",
      "   @ Main ./In[6]:5",
      " [3] top-level scope",
      "   @ In[7]:7",
      " [4] eval",
      "   @ ./boot.jl:360 [inlined]",
      " [5] include_string(mapexpr::typeof(REPL.softscope), mod::Module, code::String, filename::String)",
      "   @ Base ./loading.jl:1116"
     ]
    }
   ],
   "source": [
    "#Sun Jupiter System \n",
    "mu = 9.537e-4              # Sun-Jupiter system\n",
    "mu = 3.040423398444176e-6  # Sun-Earth system\n",
    "L = 1\n",
    "x0_l1 = l_approx(mu,1)\n",
    "x0_l2 = l_approx(mu,2)\n",
    "err,γ1 = lagrange_points_solve!(x0_l1,mu,1);\n",
    "err2,γ2 = lagrange_points_solve!(x0_l2,mu,2);\n",
    "@show γ1\n",
    "#L1 \n",
    "@show 1-mu-γ1 \n",
    "@show γ2\n",
    "#L2\n",
    "@show 1-mu+γ2\n",
    "#L4\n",
    "@show (L^2-(L/2)^2)^0.5 \n",
    "#How do we normalize L? We just treat it as one? "
   ]
  },
  {
   "cell_type": "code",
   "execution_count": null,
   "metadata": {},
   "outputs": [],
   "source": []
  }
 ],
 "metadata": {
  "@webio": {
   "lastCommId": null,
   "lastKernelId": null
  },
  "kernelspec": {
   "display_name": "Julia 1.6.5",
   "language": "julia",
   "name": "julia-1.6"
  },
  "language_info": {
   "file_extension": ".jl",
   "mimetype": "application/julia",
   "name": "julia",
   "version": "1.6.5"
  }
 },
 "nbformat": 4,
 "nbformat_minor": 4
}
