{
 "cells": [
  {
   "cell_type": "code",
   "execution_count": 1,
   "metadata": {},
   "outputs": [],
   "source": [
    "using MATLAB\n"
   ]
  },
  {
   "cell_type": "code",
   "execution_count": 2,
   "metadata": {},
   "outputs": [
    {
     "name": "stderr",
     "output_type": "stream",
     "text": [
      "2022-05-05 16:54:41.295 MATLAB_maci64[69685:3429997] CoreText note: Client requested name \".SFNS-Regular\", it will get Times-Roman rather than the intended font. All system UI font access should be through proper APIs such as CTFontCreateUIFontForLanguage() or +[NSFont systemFontOfSize:].\n",
      "2022-05-05 16:54:41.295 MATLAB_maci64[69685:3429997] CoreText note: Set a breakpoint on CTFontLogSystemFontNameRequest to debug.\n",
      "2022-05-05 16:54:41.301 MATLAB_maci64[69685:3429997] CoreText note: Client requested name \".SFNS-Bold\", it will get Times-Roman rather than the intended font. All system UI font access should be through proper APIs such as CTFontCreateUIFontForLanguage() or +[NSFont systemFontOfSize:].\n",
      "2022-05-05 16:54:41.489 MATLAB_maci64[69685:3429997] CoreText note: Client requested name \".SFNS-Regular\", it will get Times-Roman rather than the intended font. All system UI font access should be through proper APIs such as CTFontCreateUIFontForLanguage() or +[NSFont systemFontOfSize:].\n",
      "2022-05-05 16:54:41.490 MATLAB_maci64[69685:3429997] CoreText note: Client requested name \".SFNS-Bold\", it will get Times-Roman rather than the intended font. All system UI font access should be through proper APIs such as CTFontCreateUIFontForLanguage() or +[NSFont systemFontOfSize:].\n"
     ]
    }
   ],
   "source": [
    "x = [1, 2, 3, 4, 5]\n",
    "y = [4, 5, 6, 7, 8]\n",
    "z = [1, 5, 2, 7, 8]\n",
    "mat\"\"\"\n",
    "plot3($x, $y, $z)\n",
    "\"\"\"\n",
    "\n",
    "\n",
    "\n"
   ]
  },
  {
   "cell_type": "code",
   "execution_count": 3,
   "metadata": {},
   "outputs": [],
   "source": [
    "using LinearAlgebra\n",
    "# using PyPlot\n",
    "using Plots\n",
    "using ForwardDiff\n",
    "using RobotZoo\n",
    "using RobotDynamics\n",
    "using Ipopt\n",
    "using MathOptInterface\n",
    "const MOI = MathOptInterface;"
   ]
  },
  {
   "cell_type": "code",
   "execution_count": 4,
   "metadata": {},
   "outputs": [],
   "source": [
    "h = 0.1 \n",
    "Nx = 6     # number of state\n",
    "Nu = 1     # number of controls\n",
    "Tfinal = 8 # final time-50 knot points or something similar (Get Tfinal from approximation) \n",
    "Nt = round(Int,Tfinal/h)+1   # number of time steps-52\n",
    "thist = Array(range(0,h*(Nt-1), step=h));#0:180,step:3.5\n",
    "n_nlp = (Nx+Nu)*Nt # number of decision variables-364\n",
    "m_nlp = Nx*(Nt+1) #318\n",
    "u_idx = [(Nx+Nu)*(i-1) .+ (Nx+1:Nx+Nu) for i = 1:Nt];\n",
    "x_idx = [(Nx+Nu)*(i-1) .+ (1:Nx) for i = 1:Nt];\n",
    "Uref = h*ones(Nt);\n"
   ]
  },
  {
   "cell_type": "code",
   "execution_count": 5,
   "metadata": {},
   "outputs": [
    {
     "data": {
      "text/plain": [
       "CR3BPdynamics (generic function with 1 method)"
      ]
     },
     "execution_count": 5,
     "metadata": {},
     "output_type": "execute_result"
    }
   ],
   "source": [
    "function CR3BPdynamics(rv) #Three body dynamics in Sun-Earth System\n",
    "\n",
    "    μ = 9.537e-4\n",
    "    \n",
    "    r₁³= ((rv[1] + μ)^2.0     + rv[2]^2.0 + rv[3]^2.0)^1.5; # distance to m1, LARGER MASS\n",
    "    r₂³= ((rv[1] - 1 + μ)^2.0 + rv[2]^2.0 + rv[3]^2.0)^1.5; # distance to m2, smaller mass\n",
    "    # r₁³= ((x + μ)^2     + y^2 + z^2)^1.5; # distance to m1, LARGER MASS\n",
    "    # r₂³= ((x - 1 + μ)^2 + y^2 + z^2)^1.5; # distance to m2, smaller mass\n",
    "\n",
    "#     rvdot = zeros(6)\n",
    "    rvdot = zeros(eltype(rv),6)\n",
    "    rvdot[1:3] = [rv[4];rv[5];rv[6]]\n",
    "    rvdot[4] = -((1.0 - μ)*(rv[1] + μ)/r₁³) - (μ*(rv[1] - 1.0 + μ)/r₂³) + 2.0*rv[5] + rv[1];\n",
    "    rvdot[5] = -((1.0 - μ)*rv[2]      /r₁³) - (μ*rv[2]          /r₂³) - 2.0*rv[4] + rv[2];\n",
    "    rvdot[6] = -((1.0 - μ)*rv[3]      /r₁³) - (μ*rv[3]          /r₂³);\n",
    "    return rvdot\n",
    "    # return [rv[4];rv[5];rv[6];-((1.0 - μ)*(rv[1] + μ)/r₁³) - (μ*(rv[1] - 1.0 + μ)/r₂³) + 2.0*rv[5] + rv[1];-((1.0 - μ)*rv[2]      /r₁³) - (μ*rv[2]          /r₂³) - 2.0*rv[4] + rv[2];-((1.0 - μ)*rv[3]      /r₁³) - (μ*rv[3]          /r₂³)]\n",
    "end"
   ]
  },
  {
   "cell_type": "code",
   "execution_count": 6,
   "metadata": {},
   "outputs": [
    {
     "data": {
      "text/plain": [
       "lin_approx (generic function with 1 method)"
      ]
     },
     "execution_count": 6,
     "metadata": {},
     "output_type": "execute_result"
    }
   ],
   "source": [
    "# Linear Approximation\n",
    "function lin_approx(tau)\n",
    "    omega = 2.0152105515;\n",
    "    scaling_factor = 1.495978714e8;\n",
    "    w_p = 2.086453455;\n",
    "    w_v = 2.0152105515;\n",
    "    Ax = 206000/scaling_factor;\n",
    "    Ay = 665000/scaling_factor;\n",
    "    Az = 110000/scaling_factor;\n",
    "    xpoint = 0.932385;\n",
    "    ypoint = 0;\n",
    "    zpoint = 0;\n",
    "    mu = -9.537e-4;\n",
    "    phi = 0;\n",
    "    m = 1;\n",
    "    psi = m*(pi/2) + phi;\n",
    "    x1 = -Ax*cos(tau + phi) + xpoint;\n",
    "    y1 = Ay*sin(tau + phi) + ypoint;\n",
    "    z1 = Az*sin(tau + 1*(pi/2) + phi) + zpoint;\n",
    "    return [x1, y1, z1]\n",
    "end \n"
   ]
  },
  {
   "cell_type": "code",
   "execution_count": 193,
   "metadata": {},
   "outputs": [
    {
     "data": {
      "text/plain": [
       "6-element Vector{ComplexF64}:\n",
       " -2.6110295709387605 + 0.0im\n",
       "                 0.0 - 2.135327058654353im\n",
       "                 0.0 - 2.0634567533377552im\n",
       "                 0.0 + 2.0634567533377552im\n",
       "                 0.0 + 2.135327058654353im\n",
       "    2.61102957093876 + 0.0im"
      ]
     },
     "execution_count": 193,
     "metadata": {},
     "output_type": "execute_result"
    }
   ],
   "source": [
    "# Calc of Reference Trajectory \n",
    "Xref =[zeros(Nx) for i=1:Nt];\n",
    "\n",
    "for k = 1:Nt\n",
    "    Pos = lin_approx(thist[k]);\n",
    "    Xref[k][1] = Pos[1];\n",
    "    Xref[k][2] = Pos[2];\n",
    "    Xref[k][3] = Pos[3];\n",
    "    Vels = ForwardDiff.derivative(lin_approx,thist[k]);\n",
    "    Xref[k][4] = Vels[1];\n",
    "    Xref[k][5] = Vels[2];\n",
    "    Xref[k][6] = Vels[3];\n",
    "end\n",
    "\n",
    "A1 = ForwardDiff.jacobian(x_ -> CR3BPdynamics(x_), Xref[1]);\n",
    "A2 = ForwardDiff.jacobian(x_ -> CR3BPdynamics(x_), Xref[2]);\n",
    "\n",
    "eigvals1 = eigvals(A1)\n",
    "eigvals2 = eigvals(A2)\n",
    "\n",
    "eigvecs1 = eigvecs(A1)\n",
    "eigvecs2 = eigvecs(A2)\n",
    "\n",
    "# @show size(eigvals1)\n",
    "# @show size(eigvals2)\n",
    "\n",
    "# @show size(eigvecs1)\n",
    "# @show size(eigvecs2)\n",
    "\n",
    "# @show real(eigvals1[1])\n",
    "# @show real(eigvals1)\n",
    "# @show imag(eigvals1)\n",
    "# @show real(eigvals2)\n",
    "# @show imag(eigvals2)\n",
    "\n",
    "eigvalues = [zeros(Nx) for i=1:Nt]\n",
    "eigs1 = zeros(Nt)\n",
    "eigs2 = zeros(Nt)\n",
    "eigs3 = zeros(Nt)\n",
    "eigs4 = zeros(Nt)\n",
    "eigs5 = zeros(Nt)\n",
    "eigs6 = zeros(Nt)\n",
    "\n",
    "Ieigs1 = zeros(Nt)\n",
    "Ieigs2 = zeros(Nt)\n",
    "Ieigs3 = zeros(Nt)\n",
    "Ieigs4 = zeros(Nt)\n",
    "Ieigs5 = zeros(Nt)\n",
    "Ieigs6 = zeros(Nt)\n",
    "\n",
    "for k = 1:Nt\n",
    "    A_ = ForwardDiff.jacobian(x_ -> CR3BPdynamics(x_), Xref[k]);\n",
    "    eigvalues[k] = real(eigvals(A_))\n",
    "    eigs1[k] = real(eigvals(A_))[1]\n",
    "    eigs2[k] = real(eigvals(A_))[2]\n",
    "    eigs3[k] = real(eigvals(A_))[3]\n",
    "    eigs4[k] = real(eigvals(A_))[4]\n",
    "    eigs5[k] = real(eigvals(A_))[5]\n",
    "    eigs6[k] = real(eigvals(A_))[6]\n",
    "\n",
    "    Ieigs1[k] = imag(eigvals(A_))[1]\n",
    "    Ieigs2[k] = imag(eigvals(A_))[2]\n",
    "    Ieigs3[k] = imag(eigvals(A_))[3]\n",
    "    Ieigs4[k] = imag(eigvals(A_))[4]\n",
    "    Ieigs5[k] = imag(eigvals(A_))[5]\n",
    "    Ieigs6[k] = imag(eigvals(A_))[6]\n",
    "end\n",
    "\n",
    "mat\"\"\"\n",
    "plot($eigs1, '-x')\n",
    "hold on\n",
    "plot($eigs2, '-x')\n",
    "plot($eigs3, '-x')\n",
    "plot($eigs4, '-x')\n",
    "plot($eigs5, '-x')\n",
    "plot($eigs6, '-x')\n",
    "hold off\n",
    "title(\"Real Part of Eigenvalues\")\n",
    "\n",
    "figure\n",
    "plot($Ieigs1, '-x')\n",
    "hold on\n",
    "plot($Ieigs2, '-x')\n",
    "plot($Ieigs3, '-x')\n",
    "plot($Ieigs4, '-x')\n",
    "plot($Ieigs5, '-x')\n",
    "plot($Ieigs6, '-x')\n",
    "hold off\n",
    "title(\"Imaginary Part of Eigenvalues\")\n",
    "\"\"\"\n",
    "\n",
    "\n",
    "eigvals1\n",
    "\n",
    "\n",
    "\n"
   ]
  },
  {
   "cell_type": "code",
   "execution_count": null,
   "metadata": {},
   "outputs": [],
   "source": []
  },
  {
   "cell_type": "code",
   "execution_count": 140,
   "metadata": {},
   "outputs": [
    {
     "name": "stdout",
     "output_type": "stream",
     "text": [
      "T = 3.011418870678611\n"
     ]
    }
   ],
   "source": [
    "w_p = 2.086453455;\n",
    "Ax = 206000\n",
    "Az = 110000\n",
    "\n",
    "k = 3.2292680962;\n",
    "c2 = 4.0610735668;\n",
    "c3 = 3.0200105081;\n",
    "c4 = 3.0305378797;\n",
    "λ = sqrt((c2 + sqrt(9*c2^2 - 8*c2))/2);\n",
    "d1 = ((3*λ^2)/k)*(k*(6*λ^2 - 1) - 2*λ);\n",
    "a21 = 3*c3*(k^2 - 2)/(4*(1 + 2*c2)); \n",
    "a22 = 3*c3/(4*(1 + 2*c2));\n",
    "a23 = -((3*c3*λ)/(4*k*d1))*(3*(k^3)*λ - 6*k*(k-λ) + 4); \n",
    "a24 = -((3*c3*λ)/(4*k*d1))*(3*k*λ + 2);\n",
    "b21 = -3*c3*λ*(3*k*λ - 4)/(2*d1);\n",
    "b22 = -3*c3*λ/d1;\n",
    "d21 = -c3/(2*λ^2);\n",
    "\n",
    "# @show k\n",
    "# @show (w_p^2 + 1 + 2*c2)/(2*w_p)\n",
    "# @show (2*λ)/(λ^2 + 1 - c2)\n",
    "\n",
    "# s1 = (2*λ*(λ*(1 + k^2) - 2*k))^(-1)*((3/2)*c3*(2*a21*(k^2 - 2) - a23*(k^2 + 2) - 2*k*b21) - (3/8)*c4*(3*k^4 - 8*k^2 + 8))\n",
    "# s2 = (2*λ*(λ*(1 + k^2) - 2*k))^(-1)*((3/2)*c3*(2*a22*(k^2 - 2) + a24*(k^2 + 2) + 2*k*b22 + 5*d21) + (3/8)*c4*(12 - k^2))\n",
    "s1 = -8.246608317e-1\n",
    "s2 = 1.210985938e-1\n",
    "# @show s1\n",
    "# @show s2\n",
    "ν₁ = 0\n",
    "ν₂ = s1*Ax^2 + s2*Az^2\n",
    "ν = 1 + ν₁ + ν₂\n",
    "ν = 1\n",
    "T = (2*pi)/(w_p*ν)#/sqrt(3)#*59.01860264189096\n",
    "@show T\n",
    "\n",
    "\n",
    "# Az = Array(range(0, 5e5, step = 0.5e4));\n",
    "# T = zeros(length(Az))\n",
    "# for i = 1:length(Az)\n",
    "#     ν₂ = s1*Ax^2 + s2*Az[i]^2\n",
    "#     ν = 1 + ν₁ + ν₂\n",
    "#     T[i] = (2*pi)/(w_p*ν)/sqrt(3)\n",
    "# end\n",
    "# mat\"\"\"\n",
    "# plot($Az, $T, 'bx')\n",
    "# \"\"\"\n",
    "# # Δ = 0.29221\n",
    "# # l₁ = -15.96560314\n",
    "# # l₂ =  1.740900800\n",
    "\n",
    "\n",
    "\n"
   ]
  },
  {
   "cell_type": "code",
   "execution_count": 144,
   "metadata": {},
   "outputs": [
    {
     "name": "stdout",
     "output_type": "stream",
     "text": [
      "T * 365 = 161.5572968895016\n"
     ]
    },
    {
     "data": {
      "text/plain": [
       "161.5572968895016"
      ]
     },
     "execution_count": 144,
     "metadata": {},
     "output_type": "execute_result"
    }
   ],
   "source": [
    "γ = 0.1001090475489518e-1\n",
    "μ = 0.3040357143e-5\n",
    "c2 = (1/(γ^3))*(μ + (-1^2)*(((1-μ)*(γ^2))/((1 - γ)^3)))\n",
    "\n",
    "ω = sqrt((2 - c2 + sqrt(9*(c2^2) - 8*c2))/2)\n",
    "# ω = 2.086453455;\n",
    "\n",
    "T = (2*pi)/ω\n",
    "\n",
    "\n",
    "# @show (w_p^2 + 1 + 2*c2)/(2*w_p)\n",
    "\n",
    "\n"
   ]
  },
  {
   "cell_type": "code",
   "execution_count": null,
   "metadata": {},
   "outputs": [],
   "source": []
  },
  {
   "cell_type": "code",
   "execution_count": null,
   "metadata": {},
   "outputs": [],
   "source": []
  },
  {
   "cell_type": "code",
   "execution_count": null,
   "metadata": {},
   "outputs": [],
   "source": []
  },
  {
   "cell_type": "code",
   "execution_count": null,
   "metadata": {},
   "outputs": [],
   "source": []
  },
  {
   "cell_type": "code",
   "execution_count": null,
   "metadata": {},
   "outputs": [],
   "source": []
  },
  {
   "cell_type": "code",
   "execution_count": 119,
   "metadata": {},
   "outputs": [
    {
     "name": "stdout",
     "output_type": "stream",
     "text": [
      "r1 = (0.989955285350833, 0)\n",
      "r2 = (1.010044714649167, 0)\n",
      "r3 = (1.0000012668430827, 0)\n"
     ]
    },
    {
     "data": {
      "text/plain": [
       "(1.0000012668430827, 0)"
      ]
     },
     "execution_count": 119,
     "metadata": {},
     "output_type": "execute_result"
    }
   ],
   "source": [
    "# Sun Earth System\n",
    "# m1 = \n",
    "# m2 = \n",
    "μ = 3.040423398444176e-6\n",
    "r1 = (1 - (μ/3)^(1/3), 0)\n",
    "r2 = (1 + (μ/3)^(1/3), 0)\n",
    "r3 = (1 + (5/12)*μ, 0)\n",
    "# r4 = ((m1 - μ)/2,  sqrt(3)/2)\n",
    "# r5 = ((m1 - μ)/2, -sqrt(3)/2)\n",
    "\n",
    "@show r1\n",
    "@show r2\n",
    "@show r3\n",
    "\n",
    "\n"
   ]
  },
  {
   "cell_type": "code",
   "execution_count": null,
   "metadata": {},
   "outputs": [],
   "source": [
    "\n"
   ]
  }
 ],
 "metadata": {
  "kernelspec": {
   "display_name": "Julia 1.6.5",
   "language": "julia",
   "name": "julia-1.6"
  },
  "language_info": {
   "file_extension": ".jl",
   "mimetype": "application/julia",
   "name": "julia",
   "version": "1.6.5"
  }
 },
 "nbformat": 4,
 "nbformat_minor": 4
}
