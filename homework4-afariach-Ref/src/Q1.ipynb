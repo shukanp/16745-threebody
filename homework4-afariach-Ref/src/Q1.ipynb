{
 "cells": [
  {
   "cell_type": "code",
   "execution_count": 1,
   "source": [
    "import Pkg; Pkg.activate(joinpath(@__DIR__, \"..\")); Pkg.instantiate();\n",
    "import Pkg; Pkg.add(\"RobotZoo\")\n",
    "using RobotZoo: YakPlane\n",
    "import RobotDynamics\n",
    "using RobotDynamics: state_dim, control_dim\n",
    "using ForwardDiff\n",
    "using StaticArrays\n",
    "using LinearAlgebra\n",
    "using Rotations\n",
    "using Printf\n",
    "using Test\n",
    "using TrajOptPlots\n",
    "using JLD2\n",
    "const RD = RobotDynamics\n",
    "include(\"utils.jl\")\n",
    "include(\"airplane.jl\")\n",
    "const isautograder = @isdefined autograder;\n",
    "const resfile = joinpath(@__DIR__,\"q1.jld2\")"
   ],
   "outputs": [
    {
     "output_type": "stream",
     "name": "stderr",
     "text": [
      "\u001b[32m\u001b[1m  Activating\u001b[22m\u001b[39m environment at `~/Desktop/OptimalC/Homeworks/homework4-afariach/Project.toml`\n"
     ]
    },
    {
     "output_type": "stream",
     "name": "stderr",
     "text": [
      "\u001b[32m\u001b[1m    Updating\u001b[22m\u001b[39m registry at `~/.julia/registries/General`\n"
     ]
    },
    {
     "output_type": "stream",
     "name": "stderr",
     "text": [
      "\u001b[32m\u001b[1m   Resolving\u001b[22m\u001b[39m package versions...\n"
     ]
    },
    {
     "output_type": "stream",
     "name": "stderr",
     "text": [
      "\u001b[32m\u001b[1m  No Changes\u001b[22m\u001b[39m to `~/Desktop/OptimalC/Homeworks/homework4-afariach/Project.toml`\n",
      "\u001b[32m\u001b[1m  No Changes\u001b[22m\u001b[39m to `~/Desktop/OptimalC/Homeworks/homework4-afariach/Manifest.toml`\n"
     ]
    },
    {
     "data": {
      "text/plain": [
       "\"/Users/Augusto/Desktop/OptimalC/Homeworks/homework4-afariach/src/q1.jld2\""
      ]
     },
     "metadata": {},
     "output_type": "display_data"
    }
   ],
   "metadata": {}
  },
  {
   "cell_type": "markdown",
   "source": [
    "# Q1: iLQR with Quaternions (35 pts)\n",
    "In this problem you'll adapt the iLQR algorithm you wrote in the last homework to work with 3D rotations, using the methods we talked about in class. We'll also see one of the drawbacks of DDP-based methods like iLQR: the need for good initialization. \n",
    "\n",
    "In this problem we'll be designing an aerobatic maneuver for a small-scale model airplane. The dynamics you'll be using use data extracted from real-world wind-tunnel testing. Since the dynamics are fairly complex, we'll skip describing them in detail. Instead we'll simply describe the state and control inputs:\n",
    "\n",
    "$$ x = \\begin{bmatrix}\n",
    "    p \\\\ q \\\\ v \\\\ \\omega\n",
    "\\end{bmatrix}, \\;\\; \n",
    "u = \\begin{bmatrix}  \n",
    "    u_\\text{thr} \\\\ u_\\text{ail} \\\\ u_\\text{elev} \\\\ u_\\text{rud}\n",
    "\\end{bmatrix}\n",
    "$$\n",
    "where $p \\in \\mathbb{R}^3$ is the position of the center of mass in the world frame, $q \\in \\mathbb{S}^3$ is the unit quaternion mapping vectors in the body frame to the world frame, $v \\in \\mathbb{R}^3$ is the linear velocity in the world frame, and $\\omega \\in \\mathbb{R}^3$ is the angular velocity in the body frame. The controls are all scalar values ranging from 0-255 for the thrust, aileron, elevator, and rudder control surfaces.\n",
    "\n",
    "If you want to look at the system dynamics, check out [this file](https://github.com/RoboticExplorationLab/RobotZoo.jl/blob/master/src/yak_plane.jl).\n"
   ],
   "metadata": {}
  },
  {
   "cell_type": "code",
   "execution_count": 2,
   "source": [
    "# Dynamics API\n",
    "let\n",
    "    model = YakPlane(UnitQuaternion)\n",
    "    x,_ = rand(model)  # generate a random state and control input (with the orientation sampled correctly)\n",
    "    u = Vector{Float64}(rand(0:255, 4))\n",
    "    t  = 0.0  # time\n",
    "    dt = 0.1  # time step\n",
    "    \n",
    "    # continuous dynamics\n",
    "    dynamics(model, x, u)\n",
    "    \n",
    "    # discrete dynamics\n",
    "    xnext = discrete_dynamics(model, x, u, t, dt);\n",
    "    A,B = discrete_jacobian(model::YakPlane, x, u, t, dt)\n",
    "    \n",
    "end;  # wrap in let/end to avoid polluting the global state"
   ],
   "outputs": [],
   "metadata": {}
  },
  {
   "cell_type": "markdown",
   "source": [
    "## Part (a): Finding the trim conditions (7 pts)\n",
    "To get a good answer out of shooting methods like iLQR that rely on a dynamically feasible initial guess, it's often a good idea to find some sort of \"stable\" initial trajectory. For this problem, we'll simply find the \"trim\" conditions for level flight, or the controls need to maintain level flight with zero acceleration. In principle, this is going to be very similar to the problem in the HW1 where we found the equilibrium state for the quadruped, except that here we're only constraining the accelerations (not velocities) to be zero.\n",
    "\n",
    "To find the trim conditions, we'll solve the following optimization problem using Gauss-Newton:\n",
    "$$\n",
    "\\begin{align}\n",
    "& \\text{minimize}_{u} && \\frac{1}{2} (u - u_\\text{guess})^T (u - u_\\text{guess}) \\\\\n",
    "& \\text{subject to} && f_\\text{accel}(x_\\text{trim},u) = 0\n",
    "\\end{align}\n",
    "$$\n",
    "where $u_\\text{guess}$ in an initial guess for the controls, $x_\\text{trim}$ is the state vector (both position and velocity) we want to design our trim controls for. In our case, this will be level flight with a forward velocity along the x-axis of 5 m/s. $f_\\text{accel}$ is a function that returns the linear and angular accelerations. You can just pull these out of a call to the continuous-time dynamics function."
   ],
   "metadata": {}
  },
  {
   "cell_type": "code",
   "execution_count": 3,
   "source": [
    "# TASK: implement get_trim to find the trim controls using Newton's method (7 pts)\n",
    "\"\"\"\n",
    "    get_trim(model::YakPlane, x_trim, u_guess)\n",
    "\n",
    "Calculate the trim controls for the YakPlane model, given the position and velocity specified by `x_trim`.\n",
    "Find a vector of 4 controls close to those in `u_guess` that minimize the accelerations on the plane.\n",
    "\"\"\"\n",
    "function get_trim(model::YakPlane, x_trim, u_guess;\n",
    "        verbose = false,\n",
    "        tol = 1e-4,\n",
    "        iters = 100)\n",
    "        #Code from HW1 \n",
    "        res_hist = Float64[]\n",
    "        # n,m = size(u_guess)\n",
    "        λ = zeros(6)\n",
    "        ρ = 1e-3\n",
    "        u = copy(u_guess) \n",
    "        # TODO: Finish the function\n",
    "        for k = 1:iters\n",
    "            B = ForwardDiff.jacobian(u_->dynamics(model, x_trim, u_), u)\n",
    "            H = [I B[8:13,:]';B[8:13,:] zeros(6,6)]\n",
    "            H = H + Diagonal([ones(4); -ones(6)])*ρ\n",
    "            c = [(u-u_guess) + B[8:13,:]'*λ;dynamics(model,x_trim,u)[8:13]] \n",
    "            # kkt_conditions(model,x,u, λ, A, B) #\n",
    "            Δz = H\\c#[(x-x_guess) + A'*λ;2*(0.5e-3)*u + B'*λ;dynamics(model,x,u)] \n",
    "            Δu = Δz[1:4]\n",
    "            Δλ = Δz[5:10]\n",
    "            u = u-Δu\n",
    "            λ = λ-Δλ\n",
    "            res_hist = [res_hist,norm(Δz)]\n",
    "            if norm(c) <= tol \n",
    "                break\n",
    "            end \n",
    "        end \n",
    "    \n",
    "\n",
    "    # TODO: Use Newton's method to find the trim controls\n",
    "    #  TIP: Look at your solution the quadruped problem on HW1\n",
    "    #  TIP: You should have 4 decision variables and 6 constraints\n",
    "    #  TIP: You don't need to do anything special due to the rotation, just do normal (Gauss) Newton\n",
    "    \n",
    "    utrim = copy(u)\n",
    "\n",
    "    # Return the trim controls\n",
    "    return utrim\n",
    "end"
   ],
   "outputs": [
    {
     "data": {
      "text/plain": [
       "get_trim"
      ]
     },
     "metadata": {},
     "output_type": "display_data"
    }
   ],
   "metadata": {}
  },
  {
   "cell_type": "code",
   "execution_count": 4,
   "source": [
    "# Test that the method finds zero acceleration\n",
    "@testset \"Part a\" begin                                                           # POINTS = 7\n",
    "    model = YakPlane(UnitQuaternion)\n",
    "    x0 = SA[\n",
    "        0,0,0, \n",
    "        -6.114599630220157e-8, 0.997155939027903, 0.0, 0.07536599539167085,\n",
    "        5,0,0,\n",
    "        0,0,0\n",
    "    ]\n",
    "    u_guess = fill(124.0,4)\n",
    "\n",
    "    utrim = get_trim(model, x0, u_guess)\n",
    "    \n",
    "    # Make sure the accelerations are small\n",
    "    @test norm(dynamics(model, x0, utrim)[8:13]) < 1e-3                           # POINTS = 5\n",
    "    @test utrim ≈ load(resfile, \"utrim\") rtol=1e-3                                # POINTS = 2\n",
    "end; # wrap in begin/end to avoid polluting the global state with variables"
   ],
   "outputs": [
    {
     "output_type": "stream",
     "name": "stdout",
     "text": [
      "\u001b[0m\u001b[1mTest Summary: | \u001b[22m\u001b[32m\u001b[1mPass  \u001b[22m\u001b[39m\u001b[36m\u001b[1mTotal\u001b[22m\u001b[39m\n",
      "Part a        | \u001b[32m   2  \u001b[39m\u001b[36m    2\u001b[39m\n"
     ]
    }
   ],
   "metadata": {}
  },
  {
   "cell_type": "markdown",
   "source": [
    "## Part (b): Computing the Error State (5 pts)\n",
    "As we learned in class, we will compute the backward pass of iLQR on the error state, which for a single rigid body like the airplane will be an element of $\\mathbb{R}^{12}$. We need a method for converting between our state vector in $\\mathbb{R}^{9} \\times \\mathbb{S}^3$ into an error state. \n",
    "\n",
    "Before computing the error state, we need a few methods to work with quaternions. We'll need a way to multiply two quaternions. The easiest way to do this is by defining the linear operator $L(q_1) q_2$. Define the `lmult` method below."
   ],
   "metadata": {}
  },
  {
   "cell_type": "code",
   "execution_count": 5,
   "source": [
    "# TASK: implement lmult (1 pt)\n",
    "\n",
    "\"\"\"\n",
    "    lmult(q)\n",
    "\n",
    "Return the 4x4 matrix `L` such that `L(q1)*q2` is equivalent to the quaternion multiplication `q1*q2`,\n",
    "where `q1` and `q2` follow the Hamilton convention (i.e. q[1] is the scalar part and q[2:4] is the vector part).\n",
    "\"\"\"\n",
    "function lmult(q)\n",
    "    # TODO: calculate L(q)\n",
    "    a = q[1]\n",
    "    b = q[2]\n",
    "    c = q[3]\n",
    "    d = q[4]\n",
    "    Lq = [a -b -c -d; b a -d c;c d a -b; d -c b a]\n",
    "    return Lq\n",
    "end"
   ],
   "outputs": [
    {
     "data": {
      "text/plain": [
       "lmult"
      ]
     },
     "metadata": {},
     "output_type": "display_data"
    }
   ],
   "metadata": {}
  },
  {
   "cell_type": "markdown",
   "source": [
    "There are many ways to represent a three-parameter error quaternion, but we'll use the *Cayley Map*, which we've found to work best and is very computationally efficient. This is equivalent to converting the quaternion difference to a Rodrigues Parameter:\n",
    "$$ g = \\frac{1}{q_s} \\begin{bmatrix} q_x \\\\ q_y \\\\ q_z \\end{bmatrix} $$\n",
    "\n",
    "Using the Cayley map, compute the error state, given two states $x$ and $x_0$. This is equivalent to $x - x_0$ for vector (Euclidean) states. Remember that the difference between two quaternions is just $q_0^\\dagger q$ which is the same as $L(q_0^\\dagger) q = L(q_0)^T q$."
   ],
   "metadata": {}
  },
  {
   "cell_type": "code",
   "execution_count": 6,
   "source": [
    "# TODO: Implement the state_error function (2 pts)\n",
    "\"\"\"\n",
    "    state_parts(model::YakPlane)\n",
    "Give a tuple of indices, `ip,iq,iv,iw` for extracting pieces of the state vector:\n",
    "* `x[ip]` returns the 3 positions in the world frame\n",
    "* `x[iq]` returns the 4 elements of the unit quaternion\n",
    "* `x[iv]` returns the 3 linear velocities in the world frame\n",
    "* `x[iw]` returns the 3 angular velocities in the body frame\n",
    "\"\"\"\n",
    "function state_parts(model::YakPlane)\n",
    "    ip = SA[1,2,3]\n",
    "    iq = SA[4,5,6,7]\n",
    "    iv = SA[8,9,10]\n",
    "    iw = SA[11,12,13]\n",
    "    return ip, iq, iv, iw\n",
    "end\n",
    "\n",
    "\n",
    "\n",
    "function state_error(model::YakPlane, x, x0)\n",
    "    # TODO: Compute the error state between x and x0\n",
    "    p,q,v,w = state_parts(model)\n",
    "    # @show p,q,v,w\n",
    "    dp = x[p]-x0[p]\n",
    "    qsub= lmult(x0[q])'*x[q]\n",
    "    dq = (1/qsub[1])*(qsub[2:4])\n",
    "    dv = x[v]-x0[v]\n",
    "    dw = x[w]-x0[w]\n",
    "    dx = [dp;dq;dv;dw]\n",
    "    return dx\n",
    "end\n"
   ],
   "outputs": [
    {
     "data": {
      "text/plain": [
       "state_error (generic function with 1 method)"
      ]
     },
     "metadata": {},
     "output_type": "display_data"
    }
   ],
   "metadata": {}
  },
  {
   "cell_type": "markdown",
   "source": [
    "Now that we have a function to compute the error state, we're also going to need it's Jacobian (no surprise there). Remember that the *attitude Jacobian* is the Jacobian of the quaternion difference, and is given as:\n",
    "$$\n",
    "G(q) = \\begin{bmatrix}\n",
    "    -q_v^T \\\\ q_s I_3 + \\hat{q}_v\n",
    "\\end{bmatrix}\n",
    "$$\n",
    "where $q_s \\in \\mathbb{R}$ and $q_v \\in \\mathbb{R}^{3}$ are the scalar and vector part of the quaternion, respectively, and $\\hat{x}$ is the skew-symmetric matrix operator:\n",
    "$$\n",
    "\\hat{x} = \\begin{bmatrix}\n",
    " 0   & -x_3 & x_2 \\\\\n",
    " x_3 &  0   &-x_1 \\\\\n",
    "-x_2 &  x_1 & 0   \\\\\n",
    "\\end{bmatrix}\n",
    "$$"
   ],
   "metadata": {}
  },
  {
   "cell_type": "code",
   "execution_count": 7,
   "source": [
    "# TODO: Implement the following methods\n",
    "#       1. attitude_jacobian     (1 pt)\n",
    "#       2. state_error_jacobian  (1 pt)\n",
    "\n",
    "\"\"\"\n",
    "    attitude_jacobian(q)\n",
    "\n",
    "Return the 4x3 attitude Jacobian for the unit quaternion q following the Hamilton convention.\n",
    "The attitude Jacobian is the Jacobian of `q*ϕ(dq)` with respect to `dq`,\n",
    "where `ϕ` transforms the infinitessimal rotation `dq` to a unit quaternion.\n",
    "\"\"\"\n",
    "function attitude_jacobian(q)\n",
    "    qs = q[1]\n",
    "    qv = q[2:4]\n",
    "    q_skew = [0 -qv[3] qv[2];qv[3] 0 -qv[1];-qv[2] qv[1] 0]\n",
    "    G = [-qv';qs*I+q_skew]\n",
    "    return G\n",
    "end\n",
    "\n",
    "\"\"\"\n",
    "    state_error_jacobian(model, x)\n",
    "\n",
    "Return the Jacobian of the `state_error` function, with respect to the state `x`.\n",
    "\"\"\"\n",
    "function state_error_jacobian(model, x)\n",
    "    jac = zeros(length(x),length(x)-1)\n",
    "    jac[1:3,1:3] = Matrix(I,3,3)\n",
    "    jac[4:7,4:6] = attitude_jacobian(x[4:7])\n",
    "    jac[8:10,7:9]= Matrix(I,3,3)\n",
    "    jac[11:13,10:12]= Matrix(I,3,3)\n",
    "    return jac \n",
    "end"
   ],
   "outputs": [
    {
     "data": {
      "text/plain": [
       "state_error_jacobian"
      ]
     },
     "metadata": {},
     "output_type": "display_data"
    }
   ],
   "metadata": {}
  },
  {
   "cell_type": "code",
   "execution_count": 8,
   "source": [
    "# Test the attitude and state error Jacobians\n",
    "@testset \"Part b\" begin                                           # POINTS = 5\n",
    "    model = YakPlane(UnitQuaternion)\n",
    "    q1 = [0.15923376998393293, 0.26188238416859005, 0.944750125601984, 0.11623004574512731]\n",
    "    q2 = [-0.511916585919045,  0.03735280673079172, -0.036349007931561726, -0.8574525797457913]\n",
    "    x1 = [0.989607214000322, 0.51362326582473, 0.3616831284706765, -0.6336197238671922, 0.01573491125215133, -0.7172154648116752, -0.28962119247272433, 0.008365202831213558, 0.5515476660019731, 0.19996988824486706, 0.25027308097388, 0.8555278096133965, 0.9134644393324214]\n",
    "    x2 = [0.45493888030931307, 0.8214867872560794, 0.587845774939719, 0.0859756782429905, -0.357328766626224, -0.4039767922209037, -0.8376915223630642, 0.274895624769145, 0.40424715886322726, 0.7686052831243393, 0.1958635140022562, 0.33959528953302853, 0.06666659269188946]\n",
    "    u = [124.17276299136248, 135.60429047063715, 145.9949664404939, 24.18838184023805]\n",
    "    \n",
    "    @test lmult(q2)*q1 ≈ load(resfile, \"q2q1\") rtol=1e-6          # POINTS = 0.5\n",
    "    @test lmult(q1)'q1 ≈ [1,0,0,0] rtol=1e-8                      # POINTS = 0.5\n",
    "    \n",
    "    dx = state_error(model, x1, x2)\n",
    "    @test dx ≈ load(resfile, \"dx\") rtol=1e-6                      # POINTS = 2\n",
    "\n",
    "    G0 = attitude_jacobian(q1)\n",
    "    @test G0 ≈ load(resfile, \"G1\")                                # POINTS = 1\n",
    "    G = state_error_jacobian(model, x1)\n",
    "    @test G*dx ≈ load(resfile, \"Gdx\") rtol=1e-6                   # POINTS = 1\n",
    "end;"
   ],
   "outputs": [
    {
     "output_type": "stream",
     "name": "stdout",
     "text": [
      "\u001b[0m\u001b[1mTest Summary: | \u001b[22m\u001b[32m\u001b[1mPass  \u001b[22m\u001b[39m\u001b[36m\u001b[1mTotal\u001b[22m\u001b[39m\n",
      "Part b        | \u001b[32m   5  \u001b[39m\u001b[36m    5\u001b[39m\n"
     ]
    }
   ],
   "metadata": {}
  },
  {
   "cell_type": "markdown",
   "source": [
    "## Part (c): A Better Cost Function (6 pts)\n",
    "In our trajectory optimization problem, we're going to want to penalize distance from a reference trajectory or a goal, so we need a cost function that does this efficiently and correctly for our state vector, which includes quaternions. While we could use the error we computed above, this is very nonlinear and can impede convergence. Instead, we use the simple *geodesic distance* between two quaternions:\n",
    "$$ \\text{dist}_\\text{geo}(q_1,q_2) = \\min(1 \\pm q_1^T q_2) $$\n",
    "\n",
    "For our trajectory optimization problem we're going to use a cost function of the following form:\n",
    "$$ \\frac{1}{2}\\left( (p-p_d)^T Q_p (p-p_d) + (v-v_d)^T Q_v (v-v_d) + (\\omega - \\omega_d)^T Q_\\omega (\\omega - \\omega_d) \\right)  + w \\cdot \\text{dist}_\\text{geo}(q, q_d)$$\n",
    "Use this to flush out the cost function below, and it's derivatives.\n",
    "\n",
    "**NOTE**: You will be deducted points if you use FiniteDiff or ForwardDiff (or related packages) to compute the derivatives."
   ],
   "metadata": {}
  },
  {
   "cell_type": "code",
   "execution_count": 9,
   "source": [
    "# TASK: Complete the following methods\n",
    "#       1. stagecost (1 pt)\n",
    "#       2. termcost  (2 pts)\n",
    "#       3. gradient  (2 pts)\n",
    "#       4. hessian   (1 pt)\n",
    "\n",
    "\"\"\"\n",
    "    RigidBodyCost{m,T}\n",
    "\n",
    "A cost function that penalizes distance of a rigid body state specified by its \n",
    "position `p`, attitude `q` (a unit quaternion), linear velocity `v` and angular velocity `ω`.\n",
    "\n",
    "The vector state use a standard quadratic penalty, and the attitude uses the geodesic distance, weighted by a scalar `w`.\n",
    "Uses a quadratic penalty on the distance of the `m`-dimensional control vector from a reference control `u_ref`.\n",
    "\"\"\"\n",
    "struct RigidBodyCost{m,T}\n",
    "    Qp::Diagonal{T,SVector{3,T}}\n",
    "    w::T\n",
    "    Qv::Diagonal{T,SVector{3,T}}\n",
    "    Qω::Diagonal{T,SVector{3,T}}\n",
    "    R::Diagonal{T,SVector{m,T}}\n",
    "    p_ref::SVector{3,T}\n",
    "    q_ref::SVector{4,T}\n",
    "    v_ref::SVector{3,T}\n",
    "    ω_ref::SVector{3,T}\n",
    "    u_ref::SVector{m,T}\n",
    "end\n",
    "\n",
    "\"\"\"\n",
    "    stagecost(cost::RigidBodyCost, x, u)\n",
    "\n",
    "Calculate the cost for a single knot point for the `RigidBodyCost`. \n",
    "TIP: Call `termcost` and add the control cost, to avoid repeated code\n",
    "\"\"\"\n",
    "function stagecost(cost::RigidBodyCost, x, u)\n",
    "    # TODO: Calculuate the stage cost\n",
    "    ucost = (u-cost.u_ref)'*cost.R*(u-cost.u_ref)\n",
    "    J = termcost(cost,x)+0.5*ucost\n",
    "    return J\n",
    "end\n",
    "\n",
    "\"\"\"\n",
    "    termcost(cost::RigidBodyCost, x)\n",
    "\n",
    "Calculate the state-only terminal cost for a `RigidBodyCost`. \n",
    "Should use the geodesic distance to compute the error between the \n",
    "quaternion in `x` and `cost.q_ref`.\n",
    "\"\"\"\n",
    "function termcost(cost::RigidBodyCost, x)\n",
    "    # TODO: Calculate the state-only cost\n",
    "    p = x[1:3]\n",
    "    q = x[4:7]\n",
    "    v = x[8:10]\n",
    "    w = x[11:13]\n",
    "    pcost = (p-cost.p_ref)'*cost.Qp*(p-cost.p_ref)\n",
    "    vcost = (v-cost.v_ref)'*cost.Qv*(v-cost.v_ref)\n",
    "    wcost = (w-cost.ω_ref)'*cost.Qω*(w-cost.ω_ref)\n",
    "    qcost = cost.w*min(1+q'*cost.q_ref,1-q'*cost.q_ref)\n",
    "    J = 0.5*(pcost+vcost+wcost)+qcost\n",
    "    return J\n",
    "end\n",
    "\n",
    "\"\"\"\n",
    "    gradient(cost::RigidBodyCost, x, u)\n",
    "\n",
    "Calculate the gradient of the cost function with respect to\n",
    "the states `x` and controls `u`. Should return both as a tuple.\n",
    "\"\"\"\n",
    "function gradient(cost::RigidBodyCost, x, u)\n",
    "    # TODO: Calculate the gradients with respect to both x and u\n",
    "    p = x[1:3]\n",
    "    q = x[4:7]\n",
    "    v = x[8:10]\n",
    "    w = x[11:13]\n",
    "    grad_pcost = cost.Qp*(p-cost.p_ref)\n",
    "    grad_vcost = cost.Qv*(v-cost.v_ref)\n",
    "    grad_wcost = cost.Qω*(w-cost.ω_ref)\n",
    "    #q_ref'*q\n",
    "    #How to get the derivative of the quaternions?\n",
    "    if q'*cost.q_ref > 0 \n",
    "        grad_qcost = -cost.w*cost.q_ref\n",
    "    else\n",
    "        grad_qcost = cost.w*cost.q_ref\n",
    "    end \n",
    "    grad_x = [grad_pcost;grad_qcost;grad_vcost;grad_wcost]\n",
    "    grad_u = cost.R*(u-cost.u_ref)\n",
    "    \n",
    "    return grad_x, grad_u\n",
    "end\n",
    "\n",
    "\"\"\"\n",
    "    hessian(cost::RigidBodyCost, x, u)\n",
    "\n",
    "Calculate the Hessian of the cost function with respect to both the \n",
    "states `x` and controls `u` for a `RigidBodyCost`. \n",
    "Should return a tuple of both Hessians\n",
    "\"\"\"\n",
    "function hessian(cost::RigidBodyCost, x, u)\n",
    "    # TODO: Calculate Cost Hessian  \n",
    "    Q = zeros(length(x), length(x))\n",
    "    Q[1:3,1:3] = cost.Qp\n",
    "    #Hessian of Quaternions? Treat it as a vector? \n",
    "    Q[4:7,4:7] .= 0\n",
    "    Q[8:10,8:10] = cost.Qv\n",
    "    Q[11:13,11:13] = cost.Qω\n",
    "    R = cost.R\n",
    "    return Q, R\n",
    "end\n",
    "\n",
    "\"\"\"\n",
    "    cost(obj, X, U)\n",
    "\n",
    "Calculate the cost along an entire trajectory using a collection\n",
    "of cost function types (stored in the iteratable collection `obj`).\n",
    "\"\"\"\n",
    "function cost(obj, X, U)\n",
    "    J = zero(eltype(X[1]))\n",
    "    for k = 1:length(U)\n",
    "        J += stagecost(obj[k], X[k], U[k])\n",
    "    end\n",
    "    J += termcost(obj[end], X[end])\n",
    "    return J\n",
    "end"
   ],
   "outputs": [
    {
     "data": {
      "text/plain": [
       "cost"
      ]
     },
     "metadata": {},
     "output_type": "display_data"
    }
   ],
   "metadata": {}
  },
  {
   "cell_type": "code",
   "execution_count": 10,
   "source": [
    "# Test cost and derivatives\n",
    "@testset \"Part c\" begin                                                                      # POINTS = 6\n",
    "    model = YakPlane(UnitQuaternion)\n",
    "    x = SA[0.45493888030931307, 0.8214867872560794, 0.587845774939719, 0.0859756782429905, -0.357328766626224, -0.4039767922209037, -0.8376915223630642, 0.274895624769145, 0.40424715886322726, 0.7686052831243393, 0.1958635140022562, 0.33959528953302853, 0.06666659269188946]\n",
    "    u = SA[124.17276299136248, 135.60429047063715, 145.9949664404939, 24.18838184023805]\n",
    "    ip,iq,iv,iw = state_parts(model)\n",
    "    costfun = RigidBodyCost(\n",
    "        Diagonal(@SVector fill(0.1, 3)),\n",
    "        10.0, \n",
    "        Diagonal(@SVector fill(0.1, 3)),\n",
    "        Diagonal(@SVector fill(0.1, 3)),\n",
    "        Diagonal(@SVector fill(1e-3, 4)),\n",
    "        SA[0,0,0.],\n",
    "        SA[1,0,0,0.],\n",
    "        SA[5,0,0.],\n",
    "        SA[0,0,0.],\n",
    "        u\n",
    "    )\n",
    "    \n",
    "    J1 = stagecost(costfun, x, u)\n",
    "    xflip = [x[ip]; -x[iq]; x[iv]; x[iw]]\n",
    "    @test stagecost(costfun, xflip, u) ≈ J1                                                  # POINTS = 1\n",
    "    @test J1 ≈ load(resfile, \"J1\") rtol=1e-5                                                 # POINTS = 1\n",
    "    \n",
    "    Jterm = termcost(costfun, x)\n",
    "    @test Jterm ≈ load(resfile, \"Jterm\") atol=1e-8 rtol=1e-5                                 # POINTS = 1\n",
    "\n",
    "    @test ForwardDiff.gradient(x->termcost(costfun,x), x) ≈ gradient(costfun, x, u)[1]       # POINTS = 1\n",
    "    @test ForwardDiff.gradient(u->stagecost(costfun,x,u), u) ≈ gradient(costfun, x, u)[2]    # POINTS = 1\n",
    "    @test ForwardDiff.hessian(x->termcost(costfun,x), x) ≈ hessian(costfun, x, u)[1]         # POINTS = 0.5\n",
    "    @test ForwardDiff.hessian(u->stagecost(costfun,x,u), u) ≈ hessian(costfun, x, u)[2]      # POINTS = 0.5\n",
    "end;"
   ],
   "outputs": [
    {
     "output_type": "stream",
     "name": "stdout",
     "text": [
      "\u001b[0m\u001b[1mTest Summary: | \u001b[22m\u001b[32m\u001b[1mPass  \u001b[22m\u001b[39m\u001b[36m\u001b[1mTotal\u001b[22m\u001b[39m\n",
      "Part c        | \u001b[32m   7  \u001b[39m\u001b[36m    7\u001b[39m\n"
     ]
    }
   ],
   "metadata": {}
  },
  {
   "cell_type": "markdown",
   "source": [
    "## Part (d): Adapt the iLQR Algorithm (12 pts)\n",
    "Now that we have all the building blocks, modify the iLQR algorithm to work with the airplane dynamics. You'll need to make modifications in two places:\n",
    "1. The backward pass: You'll need to \"convert\" the Jacobians to be on the error state, by multiplying by the error state Jacobian. You'll need to handle the gradients, Hessians (remember the extra term) and dynamics Jacobians all slightly differently.\n",
    "2. The forward pass: when simulating the dynamics forward, you'll need to apply the control law on the error state."
   ],
   "metadata": {}
  },
  {
   "cell_type": "code",
   "execution_count": 11,
   "source": [
    "\"\"\"\n",
    "    iLQRProblem{n,m,L}\n",
    "\n",
    "Describes a trajectory optimization problem with `n` states, `m` controls, and \n",
    "a model of type `L`. \n",
    "\n",
    "# Constructor\n",
    "    Problem(model::L, obj::Vector{<:QuadraticCost{n,m}}, tf, x0, xf) where {n,m,L}\n",
    "\n",
    "where `tf` is the final time, and `x0` is the initial state. \n",
    "\"\"\"\n",
    "struct iLQRProblem{n,m,L,O}\n",
    "    model::L\n",
    "    obj::Vector{O}\n",
    "    N::Int\n",
    "    tf::Float64\n",
    "    x0::MVector{n,Float64}\n",
    "    times::Vector{Float64}\n",
    "    function iLQRProblem(model::L, obj::Vector{O}, tf, x0) where {L,O}\n",
    "        n,m = size(model)\n",
    "        @assert length(x0) == n\n",
    "        T = length(obj)\n",
    "        times = range(0, tf, length=T)\n",
    "        new{n,m,L,O}(model, obj, T, tf, x0, times)\n",
    "    end\n",
    "end\n",
    "Base.size(prob::iLQRProblem{n,m}) where {n,m} = (n,m,prob.N)"
   ],
   "outputs": [],
   "metadata": {}
  },
  {
   "cell_type": "code",
   "execution_count": 12,
   "source": [
    "# TASK: Modify the backward pass to calculate the control law on the error state (8 pts)\n",
    "\"\"\"\n",
    "    backwardpass!(prob, P, p, K, d, X, U)\n",
    "\n",
    "Evaluate the iLQR backward pass at state and control trajectories `X` and `U`, \n",
    "storing the cost-to-go expansion in `P` and `p` and the gains in `K` and `d`.\n",
    "\n",
    "Should return ΔJ, expected cost reduction.\n",
    "\"\"\"\n",
    "function backwardpass!(prob::iLQRProblem{n,m}, P, p, K, d, X, U; \n",
    "        β=1e-6\n",
    "    ) where {n,m}\n",
    "    N = prob.N\n",
    "    ΔJ = 0.0\n",
    "    model = prob.model\n",
    "\n",
    "    err_jac = state_error_jacobian(model,X[N-1])\n",
    "    err_jac_n = state_error_jacobian(model,X[N])\n",
    "\n",
    "    iq = state_parts(prob.model)[2]\n",
    "    Iq = Diagonal(SA[0,0,0,1,1,1, 0,0,0, 0,0,0])\n",
    "\n",
    "    # Calculate gradient and Hessian at terminal state\n",
    "    Q, = hessian(prob.obj[N], X[N], 0*U[1])\n",
    "    q, = gradient(prob.obj[N], X[N], 0*U[1]) \n",
    "\n",
    "    # TODO: Calculate the terminal cost-to-go, accounting for the group structure of the 3D rotation\n",
    "    p[N] = err_jac_n'*q\n",
    "    #Gradient \n",
    "    P[N] = err_jac_n'*Q*err_jac_n - Iq*(q[iq]'*X[N][iq])\n",
    "\n",
    "    #Backward Pass\n",
    "    for k = (N-1):-1:1\n",
    "\n",
    "        err_jac = state_error_jacobian(model,X[k])\n",
    "        err_jac_n = state_error_jacobian(model,X[k+1])\n",
    "\n",
    "        # Cost Expansion\n",
    "        Q,R =  hessian(prob.obj[k], X[k], U[k])\n",
    "        q,r = gradient(prob.obj[k], X[k], U[k])\n",
    "\n",
    "        # Dynamics derivatives\n",
    "        dt = prob.times[k+1] - prob.times[k]\n",
    "        A,B = discrete_jacobian(model, X[k], U[k], prob.times[k], dt)\n",
    "\n",
    "        A = err_jac_n'*A*err_jac\n",
    "        B = err_jac_n'*B\n",
    "        \n",
    "        Q = err_jac'*Q*err_jac - Iq*(q[iq]'*X[k][iq])\n",
    "        q = err_jac'*q\n",
    "        # TODO: Account for the group structure of 3D rotations using the attitude Jacobian (via state_error_jacobian)\n",
    "        #  TIP: A,B,Q, and q should all be modified (including their size)\n",
    "        \n",
    "    \n",
    "        gx = q + A'*p[k+1]\n",
    "        gu = r + B'*p[k+1]\n",
    "    \n",
    "        Gxx = Q + A'*P[k+1]*A\n",
    "        Guu = R + B'*P[k+1]*B\n",
    "        Gux = B'*P[k+1]*A\n",
    "       \n",
    "        \n",
    "        # Regularization\n",
    "        Gux_reg = SMatrix{m,n-1}(Gux)\n",
    "        Guu_reg = SMatrix{m,m}(Guu + β*Diagonal(@SVector ones(m)))\n",
    "        \n",
    "        # Calculate Gains\n",
    "        F = cholesky(Symmetric(Guu_reg))\n",
    "        d[k] .= (F\\gu)\n",
    "        K[k] .= (F\\Gux_reg)\n",
    "    \n",
    "        # Cost-to-go Recurrence\n",
    "        p[k] .= gx - K[k]'*gu + K[k]'*Guu*d[k] - Gux'*d[k]\n",
    "        P[k] .= Gxx + K[k]'*Guu*K[k] - Gux'*K[k] - K[k]'*Gux\n",
    "        ΔJ += gu'*d[k]\n",
    "   \n",
    "    end\n",
    "    return ΔJ\n",
    "end"
   ],
   "outputs": [
    {
     "data": {
      "text/plain": [
       "backwardpass!"
      ]
     },
     "metadata": {},
     "output_type": "display_data"
    }
   ],
   "metadata": {}
  },
  {
   "cell_type": "code",
   "execution_count": 13,
   "source": [
    "# TASK: Modify the forward pass algorithm to apply the control policy on the error state (4 pts)\n",
    "\"\"\"\n",
    "    forwardpass!(prob, X, U, K, d, ΔJ, J)\n",
    "\n",
    "Evaluate the iLQR forward pass at state and control trajectories `X` and `U`, using\n",
    "the gains `K` and `d` to simulate the system forward. The new cost should be less than \n",
    "the current cost `J` together with the expected cost decrease `ΔJ`.\n",
    "\n",
    "Should return the new cost `Jn` and the step length `α`.\n",
    "\"\"\"\n",
    "function forwardpass!(prob::iLQRProblem{n,m}, X, U, K, d, ΔJ, J,\n",
    "        Xbar = deepcopy(X), Ubar = deepcopy(U);\n",
    "        max_iters=10,\n",
    "    ) where {n,m}\n",
    "    N = prob.N\n",
    "    model = prob.model\n",
    "\n",
    "    Jn = J\n",
    "    # Line Search\n",
    "    Xbar[1] = X[1]\n",
    "    α = 1.0\n",
    "    Jn = Inf\n",
    "    \n",
    "    for i = 1:max_iters\n",
    "        \n",
    "        # Forward Rollout\n",
    "        for k = 1:(N-1)\n",
    "            t = prob.times[k]\n",
    "            dt = prob.times[k+1] - prob.times[k]\n",
    "            dx = state_error(model, Xbar[k],X[k])\n",
    "            Ubar[k] = U[k]-α*d[k]-K[k]*dx;\n",
    "            Xbar[k+1] = discrete_dynamics(model,Xbar[k],Ubar[k],t,dt);\n",
    "            # TODO: apply the local feedback control on the error state\n",
    "        end\n",
    "        \n",
    "        # Calculate the new cost\n",
    "        Jn = cost(prob.obj, Xbar, Ubar)\n",
    "\n",
    "        # Check Armijo condition\n",
    "        if Jn <= J - 1e-2*α*ΔJ\n",
    "            break\n",
    "        else\n",
    "            # Backtrack\n",
    "            α *= 0.5  \n",
    "        end\n",
    "        if i == max_iters \n",
    "            α = 0\n",
    "        end\n",
    "    end\n",
    "    \n",
    "    # Accept direction\n",
    "    for k = 1:N-1\n",
    "        X[k] = Xbar[k]\n",
    "        U[k] = Ubar[k]\n",
    "    end\n",
    "    X[N] = Xbar[N]\n",
    "    \n",
    "    return Jn, α\n",
    "end"
   ],
   "outputs": [
    {
     "data": {
      "text/plain": [
       "forwardpass!"
      ]
     },
     "metadata": {},
     "output_type": "display_data"
    }
   ],
   "metadata": {}
  },
  {
   "cell_type": "code",
   "execution_count": 14,
   "source": [
    "\"\"\"\n",
    "    solve_ilqr(prob, X, U; kwargs...)\n",
    "\n",
    "Solve the trajectory optimization problem specified by `prob` using iterative LQR.\n",
    "Returns the optimized state and control trajectories, as well as the local control gains,\n",
    "`K` and `d`.\n",
    "\n",
    "Should return the optimized state and control trajectories `X` and `U`, and the \n",
    "list of feedback gains `K` and cost-to-go hessians `P`.\n",
    "\"\"\"\n",
    "function solve_ilqr(prob::iLQRProblem{n,m}, X0, U0; \n",
    "        iters=100,     # max iterations\n",
    "        ls_iters=10,   # max line search iterations\n",
    "        reg_min=1e-6,  # minimum regularizatio for the backwardpass\n",
    "        verbose=0,     # print verbosity\n",
    "        eps=1e-5,      # termination tolerance\n",
    "        eps_ddp=eps    # tolerance to switch to ddp\n",
    "    ) where {n,m}\n",
    "    t_start = time_ns()\n",
    "    Nx,Nu,Nt = size(prob)\n",
    "\n",
    "    # Initialization\n",
    "    # NOTE: some of these sizes have changed!\n",
    "    N = prob.N\n",
    "    p = [zeros(n-1) for k = 1:N]              # ctg gradient\n",
    "    P = [zeros(n-1,n-1) for k = 1:N]          # ctg hessian\n",
    "    d = [zeros(m) for k = 1:N-1]              # feedforward gains\n",
    "    K = [zeros(m,n-1) for k = 1:N-1]          # feedback gains\n",
    "    Xbar = [@SVector zeros(n) for k = 1:N]    # line search trajectory\n",
    "    Ubar = [@SVector zeros(m) for k = 1:N-1]  # line search trajectory\n",
    "    ΔJ = 0.0\n",
    "\n",
    "    # Don't modify the trajectories that are passed in\n",
    "    X = deepcopy(X0)\n",
    "    U = deepcopy(U0)\n",
    "\n",
    "    # Initial cost\n",
    "    J = cost(prob.obj, X, U)\n",
    "    \n",
    "    # Initialize parameters\n",
    "    Jn = Inf\n",
    "    iter = 0\n",
    "    tol = 1.0\n",
    "    β = reg_min\n",
    "    while tol > eps \n",
    "        iter += 1\n",
    "        \n",
    "        # Backward Pass\n",
    "        ΔJ, = backwardpass!(prob, P, p, K, d, X, U, β=β)\n",
    "\n",
    "        # Forward Pass\n",
    "        Jn, α = forwardpass!(prob, X, U, K, d, ΔJ, J, Xbar, Ubar, max_iters=ls_iters)\n",
    "\n",
    "        if α === zero(α) \n",
    "            β = max(β*10, 1.0)\n",
    "            # β *= 10 \n",
    "        else \n",
    "            β = max(β/2, reg_min)\n",
    "        end\n",
    "\n",
    "        # Update parameters\n",
    "        tol = maximum(norm.(d, Inf))\n",
    "        β = max(0.9*β, reg_min)\n",
    "\n",
    "        # Output\n",
    "        if verbose > 0\n",
    "            @printf(\"Iter: %3d, Cost: % 6.2f → % 6.2f (% 7.2e), res: % .2e, β= %.2e, α = %.3f, ΔJ = %.3e\\n\",\n",
    "                iter, J, Jn, J-Jn, tol, β, α, ΔJ\n",
    "            )\n",
    "        end\n",
    "        J = Jn\n",
    "\n",
    "        if iter >= iters\n",
    "            @warn \"Reached max iterations\"\n",
    "            break\n",
    "        end\n",
    "\n",
    "    end\n",
    "    println(\"Total Time: \", (time_ns() - t_start)*1e-6, \" ms\")\n",
    "    return X,U,K,P\n",
    "end"
   ],
   "outputs": [
    {
     "data": {
      "text/plain": [
       "solve_ilqr"
      ]
     },
     "metadata": {},
     "output_type": "display_data"
    }
   ],
   "metadata": {}
  },
  {
   "cell_type": "code",
   "execution_count": 15,
   "source": [
    "using RobotDynamics: RBState\n",
    "function YakProblems(;\n",
    "        N = 101,\n",
    "        vecstate=false,\n",
    "        scenario=:barrellroll, \n",
    "        heading=0.0,  # deg\n",
    "        Qpos=1.0,\n",
    "        kwargs...\n",
    "    )\n",
    "    model = YakPlane(UnitQuaternion)\n",
    "\n",
    "    n,m = size(model)\n",
    "    ip,iq,iv,iw = state_parts(model)\n",
    "\n",
    "    # Discretization\n",
    "    tf = 1.25\n",
    "    if scenario == :fullloop \n",
    "        # Double the time, keeping the same discretization\n",
    "        tf *= 2\n",
    "        N = (N-1)*2 + 1\n",
    "    end\n",
    "    dt = tf/(N-1)\n",
    "\n",
    "    # Forward Velocity \n",
    "    vel = 5.0\n",
    "\n",
    "    if scenario ∈ (:halfloop, :fullloop) \n",
    "        ey = @SVector [0,1,0.]\n",
    "\n",
    "        # Heading\n",
    "        dq = expm(SA[0,0,1]*deg2rad(heading))\n",
    "\n",
    "        # Initial state\n",
    "        p0 = MRP(0.997156, 0., 0.075366) # initial orientation (level flight)\n",
    "        x0 = RD.build_state(model, [-3,0,1.5], p0, [vel,0,0], [0,0,0])\n",
    "\n",
    "        # Climb\n",
    "        pm = expm(SA[1,0,0]*deg2rad(180))*expm(SA[0,1,0]*deg2rad(90))\n",
    "        xm = RD.build_state(model, [0,0,3.], pm, pm * [vel,0,0.], [0,0,0])\n",
    "\n",
    "        # Top of loop\n",
    "        pf = MRP(0., -0.0366076, 0.) * dq # final orientation (upside down)\n",
    "        xf = RD.build_state(model, dq*[3,0,6.], pf, pf * [vel,0,0.], [0,0,0])\n",
    "        pf2 = RotZ(deg2rad(heading-180))\n",
    "\n",
    "        # Dive\n",
    "        xm2 = RD.build_state(model, [-3,3,4.], pm * RotY(pi), [0,0,-vel], [0,0,0])\n",
    "\n",
    "        # Terminal state\n",
    "        xf2 = RD.build_state(model, [0,4,1.5], p0, [vel,0,0], [0,0,0])\n",
    "\n",
    "        t_flat = 5 / (xf[2] - xf[1])\n",
    "        N_flat = Int(round(t_flat/dt))\n",
    "\n",
    "        # Xref trajectory\n",
    "        x̄0 = RBState(model, x0)\n",
    "        x̄m = RBState(model, xm)\n",
    "        x̄m2 = RBState(model, xm2)\n",
    "        x̄f = RBState(model, xf)\n",
    "        x̄f2 = RBState(model, xf2)\n",
    "        Xref = map(1:N) do k\n",
    "            t = (k-1)/(N-1)\n",
    "            Nmid = N ÷ 4\n",
    "            if scenario == :fullloop\n",
    "                if k < Nmid\n",
    "                    x1 = x̄0\n",
    "                    x2 = x̄m\n",
    "                    t = (k-1)/Nmid\n",
    "                elseif k < 2Nmid\n",
    "                    t = (k-Nmid)/Nmid\n",
    "                    x1 = x̄m\n",
    "                    x2 = x̄f \n",
    "                elseif k < 3Nmid\n",
    "                    t = (k-2Nmid)/Nmid\n",
    "                    x1 = x̄f\n",
    "                    x2 = x̄m2\n",
    "                else\n",
    "                    t = (k-3Nmid)/Nmid\n",
    "                    x1 = x̄m2\n",
    "                    x2 = x̄f2\n",
    "                end\n",
    "            else\n",
    "                if k < 2Nmid\n",
    "                    t = (k-1)/2Nmid\n",
    "                    x1 = x̄0\n",
    "                    x2 = x̄m\n",
    "                else\n",
    "                    t = (k-2Nmid)/(2Nmid+1)\n",
    "                    x1 = x̄m\n",
    "                    x2 = x̄f\n",
    "                end\n",
    "            end\n",
    "            RBState(\n",
    "                x1.r + (x2.r - x1.r)*t,\n",
    "                slerp(x1.q, x2.q, t),\n",
    "                x1.v + (x2.v - x1.v)*t,\n",
    "                SA[0,pi/1.25,0]\n",
    "            )\n",
    "        end\n",
    "    else\n",
    "        throw(ArgumentError(\"$scenario isn't a known scenario\"))\n",
    "    end\n",
    "\n",
    "    # Get trim condition\n",
    "    utrim = get_trim(model, x0, fill(124, 4))\n",
    "\n",
    "    # Objective\n",
    "    Qf_diag = RD.fill_state(model, 10, 500*0, 100, 100.)\n",
    "    Q_diag = RD.fill_state(model, Qpos*0.1, 0.1*0, 0.1, 1.1)\n",
    "    R = Diagonal(@SVector fill(1e-3,4))\n",
    "    costs = map(1:N-1) do k\n",
    "        RigidBodyCost(\n",
    "            Diagonal(Q_diag[ip])*dt,\n",
    "            10.0*dt, \n",
    "            Diagonal(Q_diag[iv])*dt,\n",
    "            Diagonal(Q_diag[iw])*dt,\n",
    "            R*dt,\n",
    "            Xref[k][ip],\n",
    "            Xref[k][iq],\n",
    "            Xref[k][iv],\n",
    "            Xref[k][iw],\n",
    "            SVector{4,Float64}(utrim)\n",
    "        )\n",
    "    end\n",
    "    costterm = RigidBodyCost(\n",
    "            Diagonal(Qf_diag[ip]),\n",
    "            200.0, \n",
    "            Diagonal(Qf_diag[iv]),\n",
    "            Diagonal(Qf_diag[iw]),\n",
    "            R*0,\n",
    "            Xref[N][ip],\n",
    "            Xref[N][iq],\n",
    "            Xref[N][iv],\n",
    "            Xref[N][iw],\n",
    "            SVector{4,Float64}(utrim)\n",
    "        )\n",
    "    push!(costs, costterm)\n",
    "\n",
    "    # Build problem\n",
    "    prob = iLQRProblem(model, costs, tf, x0)\n",
    "\n",
    "    return prob, Xref, utrim\n",
    "end"
   ],
   "outputs": [
    {
     "data": {
      "text/plain": [
       "YakProblems (generic function with 1 method)"
      ]
     },
     "metadata": {},
     "output_type": "display_data"
    }
   ],
   "metadata": {}
  },
  {
   "cell_type": "markdown",
   "source": [
    "## Part (e): Solve for half of the loop (2 pts)\n",
    "It turns out the maneuver we're trying to execute is a little tricky to get with a simple trim condition initializer (remember that these problems have lots of local minima). To get the desired behavior, we're going to first solve a simpler problem that will give us a good initialization for the problem we actually care about. We're basically going to solve for half of the loop first, and then ask it to get the rest of the loop.\n",
    "\n",
    "We've taken care of the reference trajectories for this problem, but we encourage you to look at the code and at the trajectories in the visualizer.\n",
    "\n",
    "#### Visualizer"
   ],
   "metadata": {}
  },
  {
   "cell_type": "code",
   "execution_count": 16,
   "source": [
    "if !isautograder\n",
    "    vis = Visualizer()\n",
    "    TrajOptPlots.set_mesh!(vis, YakPlane(UnitQuaternion), color = RGBA(0, 0, 1, 0.5))\n",
    "    render(vis)  # this may take a while, it's a detailed model\n",
    "end"
   ],
   "outputs": [
    {
     "output_type": "stream",
     "name": "stderr",
     "text": [
      "┌ Info: MeshCat server started. You can open the visualizer by visiting the following URL in your browser:\n",
      "│ http://127.0.0.1:8703\n",
      "└ @ MeshCat /Users/Augusto/.julia/packages/MeshCat/GlCMx/src/visualizer.jl:73\n"
     ]
    },
    {
     "data": {
      "text/html": [
       "    <div style=\"height: 500px; width: 100%; overflow-x: auto; overflow-y: hidden; resize: both\">\n",
       "    <iframe src=\"http://127.0.0.1:8703\" style=\"width: 100%; height: 100%; border: none\"></iframe>\n",
       "    </div>\n"
      ],
      "text/plain": [
       "MeshCat.DisplayedVisualizer(MeshCat.CoreVisualizer(MeshCat.SceneTrees.SceneNode(nothing, nothing, Dict{String, Vector{UInt8}}(), nothing, Dict{String, MeshCat.SceneTrees.SceneNode}(\"meshcat\" => MeshCat.SceneTrees.SceneNode(nothing, nothing, Dict{String, Vector{UInt8}}(), nothing, Dict{String, MeshCat.SceneTrees.SceneNode}(\"robot\" => MeshCat.SceneTrees.SceneNode(nothing, nothing, Dict{String, Vector{UInt8}}(), nothing, Dict{String, MeshCat.SceneTrees.SceneNode}(\"geom\" => MeshCat.SceneTrees.SceneNode(UInt8[0x83, 0xa6, 0x6f, 0x62, 0x6a, 0x65, 0x63, 0x74, 0x84, 0xaa  …  0x72, 0x6f, 0x62, 0x6f, 0x74, 0x2f, 0x67, 0x65, 0x6f, 0x6d], UInt8[0x83, 0xa6, 0x6d, 0x61, 0x74, 0x72, 0x69, 0x78, 0xc7, 0x40  …  0x72, 0x6f, 0x62, 0x6f, 0x74, 0x2f, 0x67, 0x65, 0x6f, 0x6d], Dict{String, Vector{UInt8}}(), nothing, Dict{String, MeshCat.SceneTrees.SceneNode}()))))))), Set{Any}(), ip\"127.0.0.1\", 8703))"
      ]
     },
     "metadata": {},
     "output_type": "display_data"
    }
   ],
   "metadata": {}
  },
  {
   "cell_type": "code",
   "execution_count": 17,
   "source": [
    "# Generate the problem, and visualize the reference trajectory\n",
    "prob_half, Xref_half = YakProblems(costfun=:QuatLQR, scenario=:halfloop, heading=130)\n",
    "isautograder || visualize!(vis, prob_half.model, prob_half.tf, Xref_half)"
   ],
   "outputs": [],
   "metadata": {}
  },
  {
   "cell_type": "code",
   "execution_count": 18,
   "source": [
    "# TASK: Generate the initial guess, using trim conditions (2 pts)\n",
    "#  TIP: calculate the trim controls using get_trim\n",
    "#  TIP: write a method to simulate the dynamics forward\n",
    "\n",
    "U0 = [get_trim(prob_half.model, prob_half.x0, fill(124.0,4)) for k = 1:prob_half.N-1]  # TODO: Update this!\n",
    "X0 = [SVector(prob_half.x0) for k = 1:prob_half.N]      # remember this needs to be dynamically feasible!\n",
    "for k = 1:prob_half.N-1\n",
    "    t = prob_half.times[k]\n",
    "    dt = prob_half.times[k+1] - prob_half.times[k]\n",
    "    X0[k+1] = discrete_dynamics(prob_half.model,X0[k],U0[k],t,dt);\n",
    "end\n",
    "\n",
    "isautograder || visualize!(vis, prob_half.model, prob_half.tf, X0)"
   ],
   "outputs": [],
   "metadata": {}
  },
  {
   "cell_type": "code",
   "execution_count": 19,
   "source": [
    "# Solve for the first half of the trajectory\n",
    "# TIP: It should take about 17 iterations\n",
    "# TIP: Final cost should be about 6.2\n",
    "\n",
    "Xhalf, Uhalf = solve_ilqr(prob_half, X0, U0, verbose=1, eps=1e-4, reg_min=1e-6)\n",
    "isautograder || visualize!(vis, prob_half.model, prob_half.tf, Xhalf)"
   ],
   "outputs": [
    {
     "output_type": "stream",
     "name": "stdout",
     "text": [
      "Iter:   1, Cost:  4878.39 →  4629.75 ( 2.49e+02), res:  5.81e+03, β= 1.00e-06, α = 0.062, ΔJ = 9.582e+03\n",
      "Iter:   2, Cost:  4629.75 →  4310.82 ( 3.19e+02), res:  7.38e+03, β= 1.00e-06, α = 0.031, ΔJ = 8.886e+03\n",
      "Iter:   3, Cost:  4310.82 →  3713.14 ( 5.98e+02), res:  8.28e+03, β= 1.00e-06, α = 0.062, ΔJ = 8.273e+03\n",
      "Iter:   4, Cost:  3713.14 →  2720.21 ( 9.93e+02), res:  6.50e+03, β= 1.00e-06, α = 0.125, ΔJ = 7.442e+03\n"
     ]
    },
    {
     "output_type": "stream",
     "name": "stdout",
     "text": [
      "Iter:   5, Cost:  2720.21 →  1120.83 ( 1.60e+03), res:  5.00e+03, β= 1.00e-06, α = 0.500, ΔJ = 5.356e+03\n",
      "Iter:   6, Cost:  1120.83 →  458.44 ( 6.62e+02), res:  2.32e+03, β= 1.00e-06, α = 0.500, ΔJ = 2.172e+03\n"
     ]
    },
    {
     "output_type": "stream",
     "name": "stdout",
     "text": [
      "Iter:   7, Cost:  458.44 →  178.87 ( 2.80e+02), res:  1.23e+03, β= 1.00e-06, α = 1.000, ΔJ = 8.885e+02\n",
      "Iter:   8, Cost:  178.87 →  91.84 ( 8.70e+01), res:  6.03e+02, β= 1.00e-06, α = 0.500, ΔJ = 3.431e+02\n",
      "Iter:   9, Cost:  91.84 →  58.80 ( 3.30e+01), res:  3.49e+02, β= 1.00e-06, α = 1.000, ΔJ = 1.700e+02\n",
      "Iter:  10, Cost:  58.80 →  49.55 ( 9.25e+00), res:  1.48e+03, β= 1.00e-06, α = 1.000, ΔJ = 1.009e+02\n"
     ]
    },
    {
     "output_type": "stream",
     "name": "stdout",
     "text": [
      "Iter:  11, Cost:  49.55 →   7.97 ( 4.16e+01), res:  1.53e+02, β= 1.00e-06, α = 1.000, ΔJ = 8.660e+01\n",
      "Iter:  12, Cost:   7.97 →   6.42 ( 1.54e+00), res:  3.13e+01, β= 1.00e-06, α = 1.000, ΔJ = 3.541e+00\n",
      "Iter:  13, Cost:   6.42 →   6.20 ( 2.26e-01), res:  3.41e+00, β= 1.00e-06, α = 1.000, ΔJ = 4.537e-01\n",
      "Iter:  14, Cost:   6.20 →   6.20 ( 1.43e-04), res:  1.16e+00, β= 1.00e-06, α = 1.000, ΔJ = 9.501e-04\n",
      "Iter:  15, Cost:   6.20 →   6.20 ( 4.61e-05), res:  9.61e-01, β= 1.00e-06, α = 1.000, ΔJ = 5.523e-04\n",
      "Iter:  16, Cost:   6.20 →   6.20 ( 3.53e-05), res:  8.00e-01, β= 1.00e-06, α = 1.000, ΔJ = 3.757e-04\n",
      "Iter:  17, Cost:   6.20 →   6.20 ( 1.98e-05), res:  6.67e-01, β= 1.00e-06, α = 1.000, ΔJ = 2.575e-04\n",
      "Iter:  18, Cost:   6.20 →   6.20 ( 1.70e-05), res:  5.57e-01, β= 1.00e-06, α = 1.000, ΔJ = 1.779e-04\n",
      "Iter:  19, Cost:   6.20 →   6.20 ( 8.51e-06), res:  4.65e-01, β= 1.00e-06, α = 1.000, ΔJ = 1.234e-04\n",
      "Iter:  20, Cost:   6.20 →   6.20 ( 8.69e-06), res:  3.88e-01, β= 1.00e-06, α = 1.000, ΔJ = 8.604e-05\n",
      "Iter:  21, Cost:   6.20 →   6.20 ( 3.49e-06), res:  3.25e-01, β= 1.00e-06, α = 1.000, ΔJ = 6.023e-05\n",
      "Iter:  22, Cost:   6.20 →   6.20 ( 4.63e-06), res:  2.72e-01, β= 1.00e-06, α = 1.000, ΔJ = 4.245e-05\n",
      "Iter:  23, Cost:   6.20 →   6.20 ( 1.22e-06), res:  2.28e-01, β= 1.00e-06, α = 1.000, ΔJ = 3.018e-05\n",
      "Iter:  24, Cost:   6.20 →   6.20 ( 2.52e-06), res:  1.91e-01, β= 1.00e-06, α = 1.000, ΔJ = 2.181e-05\n"
     ]
    },
    {
     "output_type": "stream",
     "name": "stdout",
     "text": [
      "Iter:  25, Cost:   6.20 →   6.20 ( 1.79e-07), res:  1.60e-01, β= 1.00e-06, α = 1.000, ΔJ = 1.621e-05\n",
      "Iter:  26, Cost:   6.20 →   6.20 ( 1.31e-06), res:  1.50e-01, β= 1.00e-06, α = 1.000, ΔJ = 1.265e-05\n",
      "Iter:  27, Cost:   6.20 →   6.20 ( 2.42e-06), res:  1.68e-01, β= 1.00e-06, α = 0.500, ΔJ = 1.069e-05\n",
      "Iter:  28, Cost:   6.20 →   6.20 ( 4.59e-09), res:  1.58e-02, β= 1.00e-06, α = 0.250, ΔJ = 7.944e-08\n"
     ]
    },
    {
     "output_type": "stream",
     "name": "stdout",
     "text": [
      "Iter:  29, Cost:   6.20 →   6.20 (-3.72e-12), res:  7.22e-03, β= 9.00e-01, α = 0.000, ΔJ = 2.020e-08\n",
      "Iter:  30, Cost:   6.20 →   6.20 ( 1.15e-14), res:  3.99e-07, β= 4.05e-01, α = 0.031, ΔJ = 1.934e-12\n",
      "Total Time: 1943.286478 ms\n"
     ]
    }
   ],
   "metadata": {}
  },
  {
   "cell_type": "code",
   "execution_count": 20,
   "source": [
    "@testset \"Part d\" begin                                                                 # POINTS = 12\n",
    "    let prob = prob_half\n",
    "        n,m,N = size(prob)\n",
    "        p = [zeros(n-1) for k = 1:N]              # ctg gradient\n",
    "        P = [zeros(n-1,n-1) for k = 1:N]          # ctg hessian\n",
    "        d = [zeros(m) for k = 1:N-1]              # feedforward gains\n",
    "        K = [zeros(m,n-1) for k = 1:N-1]          # feedback gains\n",
    "        Xbar = [@SVector zeros(n) for k = 1:N]    # line search trajectory\n",
    "        Ubar = [@SVector zeros(m) for k = 1:N-1]  # line search trajectory\n",
    "\n",
    "        X = deepcopy(X0)\n",
    "        U = deepcopy(U0)\n",
    "\n",
    "        # Initial cost\n",
    "        J = cost(prob.obj, X, U)\n",
    "        @test J ≈ load(resfile, \"J0\")                                                   # POINTS = 1\n",
    "        \n",
    "        # Backward Pass\n",
    "        ΔJ, = backwardpass!(prob, P, p, K, d, X, U, β=1e-8)\n",
    "        @test ΔJ ≈ load(resfile, \"dJ\") rtol=1e-3                                        # POINTS = 5\n",
    "        @test norm(d,Inf) ≈ load(resfile, \"d0\") rtol=1e-3                               # POINTS = 2\n",
    "\n",
    "        # Forward Pass\n",
    "        Jn, α = forwardpass!(prob, X, U, K, d, ΔJ, J, Xbar, Ubar, max_iters=10)\n",
    "        @test Jn < J                                                                    # POINTS = 2\n",
    "        @test (J-Jn) / ΔJ ≈ 0.025 atol=1e-2                                             # POINTS = 1\n",
    "        @test Jn ≈ load(resfile, \"Jn\") rtol=1e-1                                        # POINTS = 1\n",
    "    end\n",
    "    \n",
    "end;"
   ],
   "outputs": [
    {
     "output_type": "stream",
     "name": "stdout",
     "text": [
      "\u001b[0m\u001b[1mTest Summary: | \u001b[22m\u001b[32m\u001b[1mPass  \u001b[22m\u001b[39m\u001b[36m\u001b[1mTotal\u001b[22m\u001b[39m\n",
      "Part d        | \u001b[32m   6  \u001b[39m\u001b[36m    6\u001b[39m\n"
     ]
    }
   ],
   "metadata": {}
  },
  {
   "cell_type": "code",
   "execution_count": 21,
   "source": [
    "@testset \"Part e\" begin                                                                 # POINTS = 2\n",
    "    model = prob_half.model\n",
    "    @test norm(RBState(model,Xhalf[end]) ⊖ RBState(model,Xref_half[end])) < 0.5\n",
    "    @test cost(prob_half.obj, Xhalf, Uhalf) < 6.5\n",
    "    let prob = prob_half, X=Xhalf, U=Uhalf\n",
    "        n,m,N = size(prob)\n",
    "        p = [zeros(n-1) for k = 1:N]              # ctg gradient\n",
    "        P = [zeros(n-1,n-1) for k = 1:N]          # ctg hessian\n",
    "        d = [zeros(m) for k = 1:N-1]              # feedforward gains\n",
    "        K = [zeros(m,n-1) for k = 1:N-1]          # feedback gains\n",
    "        ΔJ, = backwardpass!(prob, P, p, K, d, X, U, β=1e-6)\n",
    "        @test ΔJ < 1e-4                                                                  # POINTS = 1\n",
    "        @test norm(d) < 0.1                                                              # POINTS = 1\n",
    "    end\n",
    "end;"
   ],
   "outputs": [
    {
     "output_type": "stream",
     "name": "stdout",
     "text": [
      "\u001b[0m\u001b[1mTest Summary: | \u001b[22m\u001b[32m\u001b[1mPass  \u001b[22m\u001b[39m\u001b[36m\u001b[1mTotal\u001b[22m\u001b[39m\n",
      "Part e        | \u001b[32m   4  \u001b[39m\u001b[36m    4\u001b[39m\n"
     ]
    }
   ],
   "metadata": {}
  },
  {
   "cell_type": "markdown",
   "source": [
    "## Part (f): Complete the Loop (3 pts)\n",
    "Use the result of your previous solve to generate a good initial guess for the full maneuver. The new trajectory is twice as long as the previous one.\n",
    "\n",
    "**TIP**: Reverse the control sequence for the second half of the trajectory."
   ],
   "metadata": {}
  },
  {
   "cell_type": "code",
   "execution_count": 22,
   "source": [
    "# Generate the new problem and reference trajectory\n",
    "prob, Xref_full = YakProblems(costfun=:QuatLQR, scenario=:fullloop, heading=130, Qpos=100)\n",
    "isautograder || render(vis)"
   ],
   "outputs": [
    {
     "data": {
      "text/html": [
       "    <div style=\"height: 500px; width: 100%; overflow-x: auto; overflow-y: hidden; resize: both\">\n",
       "    <iframe src=\"http://127.0.0.1:8703\" style=\"width: 100%; height: 100%; border: none\"></iframe>\n",
       "    </div>\n"
      ],
      "text/plain": [
       "MeshCat.DisplayedVisualizer(MeshCat.CoreVisualizer(MeshCat.SceneTrees.SceneNode(nothing, nothing, Dict{String, Vector{UInt8}}(), UInt8[0x83, 0xa7, 0x6f, 0x70, 0x74, 0x69, 0x6f, 0x6e, 0x73, 0x82  …  0x5f, 0x61, 0x6e, 0x69, 0x6d, 0x61, 0x74, 0x69, 0x6f, 0x6e], Dict{String, MeshCat.SceneTrees.SceneNode}(\"meshcat\" => MeshCat.SceneTrees.SceneNode(nothing, nothing, Dict{String, Vector{UInt8}}(), nothing, Dict{String, MeshCat.SceneTrees.SceneNode}(\"robot\" => MeshCat.SceneTrees.SceneNode(nothing, nothing, Dict{String, Vector{UInt8}}(), nothing, Dict{String, MeshCat.SceneTrees.SceneNode}(\"geom\" => MeshCat.SceneTrees.SceneNode(UInt8[0x83, 0xa6, 0x6f, 0x62, 0x6a, 0x65, 0x63, 0x74, 0x84, 0xaa  …  0x72, 0x6f, 0x62, 0x6f, 0x74, 0x2f, 0x67, 0x65, 0x6f, 0x6d], UInt8[0x83, 0xa6, 0x6d, 0x61, 0x74, 0x72, 0x69, 0x78, 0xc7, 0x40  …  0x72, 0x6f, 0x62, 0x6f, 0x74, 0x2f, 0x67, 0x65, 0x6f, 0x6d], Dict{String, Vector{UInt8}}(), nothing, Dict{String, MeshCat.SceneTrees.SceneNode}()))))))), Set(Any[WebSocket(server, \u001b[32mCONNECTED\u001b[39m)]), ip\"127.0.0.1\", 8703))"
      ]
     },
     "metadata": {},
     "output_type": "display_data"
    }
   ],
   "metadata": {}
  },
  {
   "cell_type": "code",
   "execution_count": 23,
   "source": [
    "# Visualize the reference trajectory\n",
    "isautograder || visualize!(vis, prob.model, prob.tf, Xref_full)"
   ],
   "outputs": [],
   "metadata": {}
  },
  {
   "cell_type": "code",
   "execution_count": 24,
   "source": [
    "# TASK: Design a good initialization, using result for the previous problem (2 pts)\n",
    "U0 = deepcopy(Uhalf)  # TODO: update this\n",
    "U0_2 = reverse(U0)\n",
    "U0 =[U0;U0_2]\n",
    "X0 = deepcopy(Xref_full)\n",
    "for k = 1:prob.N-1\n",
    "    t = prob.times[k]\n",
    "    dt = prob.times[k+1] - prob.times[k]\n",
    "    X0[k+1] = discrete_dynamics(prob.model,X0[k],U0[k],t,dt);\n",
    "end\n",
    "\n",
    "\n",
    "isautograder || visualize!(vis, prob.model, prob.tf, X0)"
   ],
   "outputs": [],
   "metadata": {}
  },
  {
   "cell_type": "code",
   "execution_count": 25,
   "source": [
    "# Solve for the full loop\n",
    "# TIP: This will probably take between 100-200 iterations\n",
    "# TIP: Final cost should be about 14\n",
    "# TIP: the regularization parameter has already been tuned, but feel free to change it if needed\n",
    "# NOTE: We've relaxed the optimality condition for this solve, to make it easier\n",
    "\n",
    "Xfull, Ufull = solve_ilqr(prob, X0, U0, verbose=1, eps=1e-2, reg_min=1e-8, iters=500)\n",
    "isautograder || visualize!(vis, prob.model, prob.tf, Xfull)"
   ],
   "outputs": [
    {
     "output_type": "stream",
     "name": "stdout",
     "text": [
      "Iter:   1, Cost:  10040.73 →  5329.89 ( 4.71e+03), res:  1.01e+04, β= 1.00e-08, α = 0.250, ΔJ = 2.002e+04\n",
      "Iter:   2, Cost:  5329.89 →  4043.69 ( 1.29e+03), res:  7.23e+03, β= 1.00e-08, α = 0.125, ΔJ = 1.061e+04\n",
      "Iter:   3, Cost:  4043.69 →  3271.57 ( 7.72e+02), res:  6.06e+03, β= 1.00e-08, α = 0.062, ΔJ = 8.040e+03\n",
      "Iter:   4, Cost:  3271.57 →  2850.76 ( 4.21e+02), res:  4.28e+03, β= 1.00e-08, α = 0.062, ΔJ = 6.509e+03\n",
      "Iter:   5, Cost:  2850.76 →  2418.66 ( 4.32e+02), res:  4.71e+03, β= 1.00e-08, α = 0.062, ΔJ = 5.667e+03\n",
      "Iter:   6, Cost:  2418.66 →  1667.12 ( 7.52e+02), res:  4.90e+03, β= 1.00e-08, α = 0.125, ΔJ = 4.802e+03\n",
      "Iter:   7, Cost:  1667.12 →  1139.96 ( 5.27e+02), res:  3.49e+03, β= 1.00e-08, α = 0.125, ΔJ = 3.296e+03\n",
      "Iter:   8, Cost:  1139.96 →  866.59 ( 2.73e+02), res:  2.27e+03, β= 1.00e-08, α = 0.125, ΔJ = 2.246e+03\n"
     ]
    },
    {
     "output_type": "stream",
     "name": "stdout",
     "text": [
      "Iter:   9, Cost:  866.59 →  667.93 ( 1.99e+02), res:  2.81e+03, β= 1.00e-08, α = 0.125, ΔJ = 1.694e+03\n",
      "Iter:  10, Cost:  667.93 →  522.25 ( 1.46e+02), res:  1.38e+03, β= 1.00e-08, α = 0.125, ΔJ = 1.300e+03\n",
      "Iter:  11, Cost:  522.25 →  408.64 ( 1.14e+02), res:  9.73e+02, β= 1.00e-08, α = 0.125, ΔJ = 1.008e+03\n",
      "Iter:  12, Cost:  408.64 →  351.75 ( 5.69e+01), res:  1.47e+03, β= 1.00e-08, α = 0.250, ΔJ = 7.856e+02\n"
     ]
    },
    {
     "output_type": "stream",
     "name": "stdout",
     "text": [
      "Iter:  13, Cost:  351.75 →  251.67 ( 1.00e+02), res:  1.45e+03, β= 1.00e-08, α = 0.250, ΔJ = 6.723e+02\n",
      "Iter:  14, Cost:  251.67 →  223.87 ( 2.78e+01), res:  7.40e+02, β= 1.00e-08, α = 0.125, ΔJ = 4.762e+02\n",
      "Iter:  15, Cost:  223.87 →  213.42 ( 1.04e+01), res:  6.97e+02, β= 1.00e-08, α = 0.125, ΔJ = 4.205e+02\n",
      "Iter:  16, Cost:  213.42 →  202.95 ( 1.05e+01), res:  7.41e+02, β= 1.00e-08, α = 0.031, ΔJ = 3.990e+02\n",
      "Iter:  17, Cost:  202.95 →  201.29 ( 1.66e+00), res:  7.81e+02, β= 1.00e-08, α = 0.016, ΔJ = 3.774e+02\n",
      "Iter:  18, Cost:  201.29 →  192.97 ( 8.32e+00), res:  8.42e+02, β= 1.00e-08, α = 0.500, ΔJ = 3.731e+02\n",
      "Iter:  19, Cost:  192.97 →  127.74 ( 6.52e+01), res:  4.32e+02, β= 1.00e-08, α = 0.250, ΔJ = 3.601e+02\n",
      "Iter:  20, Cost:  127.74 →  125.82 ( 1.92e+00), res:  2.90e+02, β= 1.00e-08, α = 0.125, ΔJ = 2.292e+02\n"
     ]
    },
    {
     "output_type": "stream",
     "name": "stdout",
     "text": [
      "Iter:  21, Cost:  125.82 →  121.30 ( 4.52e+00), res:  2.01e+02, β= 1.00e-08, α = 0.062, ΔJ = 2.245e+02\n",
      "Iter:  22, Cost:  121.30 →  117.15 ( 4.15e+00), res:  2.60e+02, β= 1.00e-08, α = 0.031, ΔJ = 2.151e+02\n",
      "Iter:  23, Cost:  117.15 →  116.52 ( 6.30e-01), res:  2.68e+02, β= 1.00e-08, α = 0.031, ΔJ = 2.067e+02\n",
      "Iter:  24, Cost:  116.52 →  114.47 ( 2.05e+00), res:  1.96e+02, β= 1.00e-08, α = 0.031, ΔJ = 2.072e+02\n",
      "Iter:  25, Cost:  114.47 →  111.41 ( 3.06e+00), res:  2.38e+02, β= 1.00e-08, α = 0.031, ΔJ = 2.015e+02\n",
      "Iter:  26, Cost:  111.41 →  110.16 ( 1.24e+00), res:  1.82e+02, β= 1.00e-08, α = 0.062, ΔJ = 1.958e+02\n"
     ]
    },
    {
     "output_type": "stream",
     "name": "stdout",
     "text": [
      "Iter:  27, Cost:  110.16 →  104.53 ( 5.64e+00), res:  2.43e+02, β= 1.00e-08, α = 0.031, ΔJ = 1.944e+02\n",
      "Iter:  28, Cost:  104.53 →  103.84 ( 6.91e-01), res:  1.80e+02, β= 1.00e-08, α = 0.016, ΔJ = 1.832e+02\n"
     ]
    },
    {
     "output_type": "stream",
     "name": "stdout",
     "text": [
      "Iter:  29, Cost:  103.84 →  102.20 ( 1.64e+00), res:  2.33e+02, β= 1.00e-08, α = 0.016, ΔJ = 1.804e+02\n",
      "Iter:  30, Cost:  102.20 →  102.08 ( 1.21e-01), res:  1.74e+02, β= 1.00e-08, α = 0.002, ΔJ = 1.786e+02\n",
      "Iter:  31, Cost:  102.08 →  102.23 (-1.53e-01), res:  2.52e+02, β= 9.00e-01, α = 0.000, ΔJ = 1.767e+02\n",
      "Iter:  32, Cost:  102.23 →  56.25 ( 4.60e+01), res:  4.41e+00, β= 4.05e-01, α = 1.000, ΔJ = 4.684e+01\n",
      "Iter:  33, Cost:  56.25 →  34.03 ( 2.22e+01), res:  4.64e+00, β= 1.82e-01, α = 1.000, ΔJ = 2.517e+01\n",
      "Iter:  34, Cost:  34.03 →  24.85 ( 9.17e+00), res:  4.03e+00, β= 8.20e-02, α = 1.000, ΔJ = 1.103e+01\n",
      "Iter:  35, Cost:  24.85 →  20.80 ( 4.05e+00), res:  2.80e+00, β= 3.69e-02, α = 1.000, ΔJ = 4.916e+00\n",
      "Iter:  36, Cost:  20.80 →  18.48 ( 2.32e+00), res:  2.46e+00, β= 1.66e-02, α = 1.000, ΔJ = 2.817e+00\n"
     ]
    },
    {
     "output_type": "stream",
     "name": "stdout",
     "text": [
      "Iter:  37, Cost:  18.48 →  16.81 ( 1.67e+00), res:  2.11e+00, β= 7.47e-03, α = 1.000, ΔJ = 1.985e+00\n",
      "Iter:  38, Cost:  16.81 →  15.68 ( 1.13e+00), res:  2.83e+00, β= 3.36e-03, α = 1.000, ΔJ = 1.417e+00\n",
      "Iter:  39, Cost:  15.68 →  15.68 ( 2.12e-03), res:  2.99e+00, β= 1.51e-03, α = 0.004, ΔJ = 8.111e-01\n",
      "Iter:  40, Cost:  15.68 →  15.68 ( 1.44e-03), res:  8.98e+00, β= 6.81e-04, α = 0.016, ΔJ = 1.112e+00\n",
      "Iter:  41, Cost:  15.68 →  15.68 (-3.85e-03), res:  2.24e+01, β= 9.00e-01, α = 0.000, ΔJ = 1.620e+00\n",
      "Iter:  42, Cost:  15.68 →  15.57 ( 1.11e-01), res:  1.53e-01, β= 4.05e-01, α = 1.000, ΔJ = 1.161e-01\n",
      "Iter:  43, Cost:  15.57 →  15.53 ( 3.92e-02), res:  1.54e-01, β= 1.82e-01, α = 1.000, ΔJ = 4.200e-02\n",
      "Iter:  44, Cost:  15.53 →  15.50 ( 2.74e-02), res:  1.69e-01, β= 8.20e-02, α = 1.000, ΔJ = 2.983e-02\n"
     ]
    },
    {
     "output_type": "stream",
     "name": "stdout",
     "text": [
      "Iter:  45, Cost:  15.50 →  15.46 ( 4.24e-02), res:  2.24e-01, β= 3.69e-02, α = 1.000, ΔJ = 4.626e-02\n",
      "Iter:  46, Cost:  15.46 →  15.39 ( 7.26e-02), res:  3.26e-01, β= 1.66e-02, α = 1.000, ΔJ = 8.183e-02\n",
      "Iter:  47, Cost:  15.39 →  15.39 ( 9.08e-04), res:  1.31e+00, β= 7.47e-03, α = 0.031, ΔJ = 2.151e-01\n",
      "Iter:  48, Cost:  15.39 →  15.19 ( 1.97e-01), res:  1.05e+00, β= 3.36e-03, α = 1.000, ΔJ = 2.362e-01\n",
      "Iter:  49, Cost:  15.19 →  15.19 ( 1.45e-03), res:  6.39e+00, β= 1.51e-03, α = 0.125, ΔJ = 5.000e-01\n",
      "Iter:  50, Cost:  15.19 →  14.95 ( 2.39e-01), res:  4.13e+00, β= 6.81e-04, α = 1.000, ΔJ = 3.313e-01\n"
     ]
    },
    {
     "output_type": "stream",
     "name": "stdout",
     "text": [
      "Iter:  51, Cost:  14.95 →  14.94 ( 5.18e-03), res:  1.24e+01, β= 3.06e-04, α = 0.016, ΔJ = 1.120e+00\n",
      "Iter:  52, Cost:  14.94 →  14.92 ( 2.59e-02), res:  1.34e+01, β= 1.38e-04, α = 0.062, ΔJ = 5.422e-01\n",
      "Iter:  53, Cost:  14.92 →  14.92 ( 2.13e-03), res:  2.18e+01, β= 6.21e-05, α = 0.002, ΔJ = 2.133e+00\n",
      "Iter:  54, Cost:  14.92 →  14.92 ( 1.04e-03), res:  3.86e+01, β= 2.79e-05, α = 0.004, ΔJ = 1.236e+00\n",
      "Iter:  55, Cost:  14.92 →  14.93 (-1.67e-02), res:  4.61e+01, β= 9.00e-01, α = 0.000, ΔJ = 2.293e+00\n",
      "Iter:  56, Cost:  14.93 →  14.90 ( 3.44e-02), res:  9.69e-02, β= 4.05e-01, α = 1.000, ΔJ = 3.575e-02\n",
      "Iter:  57, Cost:  14.90 →  14.88 ( 1.75e-02), res:  1.05e-01, β= 1.82e-01, α = 1.000, ΔJ = 1.892e-02\n",
      "Iter:  58, Cost:  14.88 →  14.87 ( 8.70e-03), res:  1.11e-01, β= 8.20e-02, α = 1.000, ΔJ = 1.019e-02\n"
     ]
    },
    {
     "output_type": "stream",
     "name": "stdout",
     "text": [
      "Iter:  59, Cost:  14.87 →  14.86 ( 7.02e-03), res:  1.07e-01, β= 3.69e-02, α = 1.000, ΔJ = 7.693e-03\n",
      "Iter:  60, Cost:  14.86 →  14.86 ( 9.43e-03), res:  1.35e-01, β= 1.66e-02, α = 1.000, ΔJ = 1.101e-02\n",
      "Iter:  61, Cost:  14.86 →  14.86 ( 4.90e-04), res:  8.77e-01, β= 7.47e-03, α = 0.125, ΔJ = 4.462e-02\n",
      "Iter:  62, Cost:  14.86 →  14.82 ( 3.14e-02), res:  6.43e-01, β= 3.36e-03, α = 1.000, ΔJ = 3.873e-02\n",
      "Iter:  63, Cost:  14.82 →  14.82 ( 3.03e-04), res:  4.70e+00, β= 1.51e-03, α = 0.062, ΔJ = 2.810e-01\n",
      "Iter:  64, Cost:  14.82 →  14.82 ( 1.81e-03), res:  4.71e+00, β= 6.81e-04, α = 0.125, ΔJ = 1.778e-01\n"
     ]
    },
    {
     "output_type": "stream",
     "name": "stdout",
     "text": [
      "Iter:  65, Cost:  14.82 →  14.81 ( 1.28e-02), res:  6.04e+00, β= 3.06e-04, α = 0.500, ΔJ = 2.300e-01\n",
      "Iter:  66, Cost:  14.81 →  14.79 ( 1.93e-02), res:  1.58e+01, β= 1.38e-04, α = 0.016, ΔJ = 1.508e+00\n",
      "Iter:  67, Cost:  14.79 →  14.78 ( 5.64e-03), res:  2.70e+01, β= 6.21e-05, α = 0.008, ΔJ = 1.721e+00\n",
      "Iter:  68, Cost:  14.78 →  14.78 ( 9.60e-04), res:  3.70e+01, β= 2.79e-05, α = 0.002, ΔJ = 1.081e+00\n",
      "Iter:  69, Cost:  14.78 →  14.80 (-2.07e-02), res:  4.62e+01, β= 9.00e-01, α = 0.000, ΔJ = 2.010e+00\n",
      "Iter:  70, Cost:  14.80 →  14.75 ( 5.03e-02), res:  1.17e-01, β= 4.05e-01, α = 1.000, ΔJ = 5.283e-02\n",
      "Iter:  71, Cost:  14.75 →  14.73 ( 2.21e-02), res:  1.20e-01, β= 1.82e-01, α = 1.000, ΔJ = 2.445e-02\n",
      "Iter:  72, Cost:  14.73 →  14.72 ( 9.42e-03), res:  1.22e-01, β= 8.20e-02, α = 1.000, ΔJ = 1.089e-02\n"
     ]
    },
    {
     "output_type": "stream",
     "name": "stdout",
     "text": [
      "Iter:  73, Cost:  14.72 →  14.71 ( 6.73e-03), res:  1.16e-01, β= 3.69e-02, α = 1.000, ΔJ = 9.396e-03\n",
      "Iter:  74, Cost:  14.71 →  14.71 ( 9.53e-03), res:  1.29e-01, β= 1.66e-02, α = 1.000, ΔJ = 1.070e-02\n",
      "Iter:  75, Cost:  14.71 →  14.70 ( 5.83e-03), res:  2.78e-01, β= 7.47e-03, α = 0.500, ΔJ = 1.636e-02\n",
      "Iter:  76, Cost:  14.70 →  14.68 ( 1.94e-02), res:  5.93e-01, β= 3.36e-03, α = 1.000, ΔJ = 2.516e-02\n",
      "Iter:  77, Cost:  14.68 →  14.68 ( 1.86e-04), res:  4.31e+00, β= 1.51e-03, α = 0.062, ΔJ = 2.110e-01\n",
      "Iter:  78, Cost:  14.68 →  14.68 ( 4.09e-03), res:  4.47e+00, β= 6.81e-04, α = 0.125, ΔJ = 1.337e-01\n",
      "Iter:  79, Cost:  14.68 →  14.67 ( 7.49e-03), res:  5.60e+00, β= 3.06e-04, α = 0.250, ΔJ = 1.579e-01\n",
      "Iter:  80, Cost:  14.67 →  14.66 ( 8.90e-03), res:  1.51e+01, β= 1.38e-04, α = 0.008, ΔJ = 1.243e+00\n"
     ]
    },
    {
     "output_type": "stream",
     "name": "stdout",
     "text": [
      "Iter:  81, Cost:  14.66 →  14.66 ( 1.12e-04), res:  2.54e+01, β= 6.21e-05, α = 0.002, ΔJ = 1.509e+00\n",
      "Iter:  82, Cost:  14.66 →  14.66 ( 9.68e-04), res:  3.44e+01, β= 2.79e-05, α = 0.008, ΔJ = 9.224e-01\n",
      "Iter:  83, Cost:  14.66 →  14.67 (-1.29e-02), res:  4.22e+01, β= 9.00e-01, α = 0.000, ΔJ = 2.672e+00\n",
      "Iter:  84, Cost:  14.67 →  14.65 ( 2.02e-02), res:  8.24e-02, β= 4.05e-01, α = 1.000, ΔJ = 2.121e-02\n",
      "Iter:  85, Cost:  14.65 →  14.64 ( 1.19e-02), res:  8.87e-02, β= 1.82e-01, α = 1.000, ΔJ = 1.305e-02\n",
      "Iter:  86, Cost:  14.64 →  14.63 ( 6.06e-03), res:  9.27e-02, β= 8.20e-02, α = 1.000, ΔJ = 6.896e-03\n",
      "Iter:  87, Cost:  14.63 →  14.63 ( 2.54e-03), res:  7.78e-02, β= 3.69e-02, α = 1.000, ΔJ = 4.974e-03\n",
      "Iter:  88, Cost:  14.63 →  14.63 ( 5.54e-03), res:  1.21e-01, β= 1.66e-02, α = 1.000, ΔJ = 6.869e-03\n",
      "Iter:  89, Cost:  14.63 →  14.62 ( 7.12e-03), res:  4.68e-01, β= 7.47e-03, α = 1.000, ΔJ = 1.271e-02\n",
      "Iter:  90, Cost:  14.62 →  14.61 ( 7.75e-03), res:  5.57e-01, β= 3.36e-03, α = 1.000, ΔJ = 1.677e-02\n"
     ]
    },
    {
     "output_type": "stream",
     "name": "stdout",
     "text": [
      "Iter:  91, Cost:  14.61 →  14.61 ( 2.49e-03), res:  4.14e+00, β= 1.51e-03, α = 0.062, ΔJ = 1.814e-01\n",
      "Iter:  92, Cost:  14.61 →  14.60 ( 3.08e-03), res:  2.61e+00, β= 6.81e-04, α = 0.125, ΔJ = 7.930e-02\n",
      "Iter:  93, Cost:  14.60 →  14.60 ( 4.91e-03), res:  5.28e+00, β= 3.06e-04, α = 0.125, ΔJ = 1.467e-01\n",
      "Iter:  94, Cost:  14.60 →  14.60 ( 7.25e-04), res:  1.48e+01, β= 1.38e-04, α = 0.002, ΔJ = 1.387e+00\n",
      "Iter:  95, Cost:  14.60 →  14.60 ( 3.58e-03), res:  2.52e+01, β= 6.21e-05, α = 0.004, ΔJ = 1.621e+00\n",
      "Iter:  96, Cost:  14.60 →  14.59 ( 1.51e-03), res:  3.08e+01, β= 2.79e-05, α = 0.004, ΔJ = 8.191e-01\n"
     ]
    },
    {
     "output_type": "stream",
     "name": "stdout",
     "text": [
      "Iter:  97, Cost:  14.59 →  14.61 (-1.77e-02), res:  4.61e+01, β= 9.00e-01, α = 0.000, ΔJ = 1.684e+00\n",
      "Iter:  98, Cost:  14.61 →  14.59 ( 1.94e-02), res:  7.61e-02, β= 4.05e-01, α = 1.000, ΔJ = 2.008e-02\n",
      "Iter:  99, Cost:  14.59 →  14.58 ( 9.33e-03), res:  7.90e-02, β= 1.82e-01, α = 1.000, ΔJ = 1.020e-02\n",
      "Iter: 100, Cost:  14.58 →  14.58 ( 4.00e-03), res:  7.93e-02, β= 8.20e-02, α = 1.000, ΔJ = 5.093e-03\n",
      "Iter: 101, Cost:  14.58 →  14.58 ( 2.70e-03), res:  6.56e-02, β= 3.69e-02, α = 1.000, ΔJ = 3.156e-03\n",
      "Iter: 102, Cost:  14.58 →  14.57 ( 2.53e-03), res:  2.04e-01, β= 1.66e-02, α = 1.000, ΔJ = 5.518e-03\n",
      "Iter: 103, Cost:  14.57 →  14.57 ( 6.11e-04), res:  7.31e-01, β= 7.47e-03, α = 0.250, ΔJ = 2.537e-02\n",
      "Iter: 104, Cost:  14.57 →  14.56 ( 1.43e-02), res:  5.52e-01, β= 3.36e-03, α = 1.000, ΔJ = 1.645e-02\n",
      "Iter: 105, Cost:  14.56 →  14.56 ( 1.92e-04), res:  3.31e+00, β= 1.51e-03, α = 0.062, ΔJ = 9.306e-02\n",
      "Iter: 106, Cost:  14.56 →  14.56 ( 2.51e-04), res:  3.34e+00, β= 6.81e-04, α = 0.004, ΔJ = 1.950e-01\n"
     ]
    },
    {
     "output_type": "stream",
     "name": "stdout",
     "text": [
      "Iter: 107, Cost:  14.56 →  14.56 ( 2.04e-03), res:  7.96e+00, β= 3.06e-04, α = 0.125, ΔJ = 2.047e-01\n",
      "Iter: 108, Cost:  14.56 →  14.55 ( 1.83e-03), res:  1.45e+01, β= 1.38e-04, α = 0.004, ΔJ = 1.102e+00\n",
      "Iter: 109, Cost:  14.55 →  14.55 ( 3.62e-04), res:  1.99e+01, β= 6.21e-05, α = 0.016, ΔJ = 4.997e-01\n",
      "Iter: 110, Cost:  14.55 →  14.55 (-3.63e-04), res:  3.05e+01, β= 9.00e-01, α = 0.000, ΔJ = 2.095e+00\n",
      "Iter: 111, Cost:  14.55 →  14.55 ( 6.18e-03), res:  4.71e-02, β= 4.05e-01, α = 1.000, ΔJ = 6.429e-03\n",
      "Iter: 112, Cost:  14.55 →  14.54 ( 3.73e-03), res:  5.21e-02, β= 1.82e-01, α = 1.000, ΔJ = 4.024e-03\n",
      "Iter: 113, Cost:  14.54 →  14.54 ( 2.18e-03), res:  5.61e-02, β= 8.20e-02, α = 1.000, ΔJ = 2.392e-03\n",
      "Iter: 114, Cost:  14.54 →  14.54 ( 2.15e-03), res:  5.63e-02, β= 3.69e-02, α = 1.000, ΔJ = 2.324e-03\n"
     ]
    },
    {
     "output_type": "stream",
     "name": "stdout",
     "text": [
      "Iter: 115, Cost:  14.54 →  14.54 ( 3.15e-03), res:  1.17e-01, β= 1.66e-02, α = 1.000, ΔJ = 3.639e-03\n",
      "Iter: 116, Cost:  14.54 →  14.54 ( 3.55e-04), res:  2.48e-01, β= 7.47e-03, α = 0.250, ΔJ = 1.348e-02\n",
      "Iter: 117, Cost:  14.54 →  14.54 ( 3.53e-04), res:  5.62e-01, β= 3.36e-03, α = 0.062, ΔJ = 1.887e-02\n",
      "Iter: 118, Cost:  14.54 →  14.53 ( 5.61e-03), res:  1.20e+00, β= 1.51e-03, α = 1.000, ΔJ = 3.060e-02\n",
      "Iter: 119, Cost:  14.53 →  14.52 ( 5.83e-03), res:  6.63e+00, β= 6.81e-04, α = 0.031, ΔJ = 3.543e-01\n",
      "Iter: 120, Cost:  14.52 →  14.52 ( 1.17e-03), res:  1.13e+01, β= 3.06e-04, α = 0.031, ΔJ = 4.408e-01\n",
      "Iter: 121, Cost:  14.52 →  14.51 ( 1.22e-02), res:  1.07e+01, β= 1.38e-04, α = 0.062, ΔJ = 2.770e-01\n",
      "Iter: 122, Cost:  14.51 →  14.51 ( 1.48e-03), res:  1.33e+01, β= 6.21e-05, α = 0.002, ΔJ = 6.988e-01\n"
     ]
    },
    {
     "output_type": "stream",
     "name": "stdout",
     "text": [
      "Iter: 123, Cost:  14.51 →  14.52 (-6.08e-03), res:  2.50e+01, β= 9.00e-01, α = 0.000, ΔJ = 1.118e+00\n",
      "Iter: 124, Cost:  14.52 →  14.51 ( 1.06e-02), res:  6.02e-02, β= 4.05e-01, α = 1.000, ΔJ = 1.111e-02\n",
      "Iter: 125, Cost:  14.51 →  14.50 ( 6.59e-03), res:  6.81e-02, β= 1.82e-01, α = 1.000, ΔJ = 7.579e-03\n",
      "Iter: 126, Cost:  14.50 →  14.50 ( 3.56e-03), res:  8.00e-02, β= 8.20e-02, α = 1.000, ΔJ = 4.001e-03\n",
      "Iter: 127, Cost:  14.50 →  14.49 ( 2.35e-03), res:  6.57e-02, β= 3.69e-02, α = 1.000, ΔJ = 2.620e-03\n",
      "Iter: 128, Cost:  14.49 →  14.49 ( 3.02e-03), res:  1.17e-01, β= 1.66e-02, α = 1.000, ΔJ = 3.351e-03\n",
      "Iter: 129, Cost:  14.49 →  14.49 ( 2.37e-04), res:  2.52e-01, β= 7.47e-03, α = 0.250, ΔJ = 7.864e-03\n",
      "Iter: 130, Cost:  14.49 →  14.48 ( 1.07e-02), res:  5.43e-01, β= 3.36e-03, α = 1.000, ΔJ = 1.466e-02\n",
      "Iter: 131, Cost:  14.48 →  14.48 ( 1.44e-03), res:  3.80e+00, β= 1.51e-03, α = 0.031, ΔJ = 1.474e-01\n",
      "Iter: 132, Cost:  14.48 →  14.48 ( 1.34e-03), res:  2.49e+00, β= 6.81e-04, α = 0.062, ΔJ = 5.942e-02\n"
     ]
    },
    {
     "output_type": "stream",
     "name": "stdout",
     "text": [
      "Iter: 133, Cost:  14.48 →  14.48 (-7.73e-04), res:  5.91e+00, β= 9.00e-01, α = 0.000, ΔJ = 3.805e-01\n",
      "Iter: 134, Cost:  14.48 →  14.48 ( 1.94e-03), res:  2.45e-02, β= 4.05e-01, α = 1.000, ΔJ = 2.002e-03\n",
      "Iter: 135, Cost:  14.48 →  14.47 ( 1.15e-03), res:  2.60e-02, β= 1.82e-01, α = 1.000, ΔJ = 1.227e-03\n",
      "Iter: 136, Cost:  14.47 →  14.47 ( 8.03e-04), res:  2.64e-02, β= 8.20e-02, α = 1.000, ΔJ = 8.542e-04\n",
      "Iter: 137, Cost:  14.47 →  14.47 ( 1.19e-03), res:  5.03e-02, β= 3.69e-02, α = 1.000, ΔJ = 1.245e-03\n",
      "Iter: 138, Cost:  14.47 →  14.47 ( 5.78e-05), res:  3.20e-01, β= 1.66e-02, α = 0.250, ΔJ = 8.939e-03\n",
      "Iter: 139, Cost:  14.47 →  14.47 ( 4.83e-03), res:  2.40e-01, β= 7.47e-03, α = 1.000, ΔJ = 5.654e-03\n",
      "Iter: 140, Cost:  14.47 →  14.47 ( 5.40e-04), res:  1.98e+00, β= 3.36e-03, α = 0.125, ΔJ = 7.067e-02\n",
      "Iter: 141, Cost:  14.47 →  14.46 ( 2.77e-03), res:  1.15e+00, β= 1.51e-03, α = 1.000, ΔJ = 2.406e-02\n",
      "Iter: 142, Cost:  14.46 →  14.46 ( 7.47e-03), res:  6.32e+00, β= 6.81e-04, α = 0.031, ΔJ = 3.412e-01\n"
     ]
    },
    {
     "output_type": "stream",
     "name": "stdout",
     "text": [
      "Iter: 143, Cost:  14.46 →  14.45 ( 3.76e-03), res:  7.99e+00, β= 3.06e-04, α = 0.062, ΔJ = 2.063e-01\n",
      "Iter: 144, Cost:  14.45 →  14.45 ( 1.40e-03), res:  8.09e+00, β= 1.38e-04, α = 0.004, ΔJ = 3.674e-01\n",
      "Iter: 145, Cost:  14.45 →  14.46 (-6.94e-03), res:  1.95e+01, β= 9.00e-01, α = 0.000, ΔJ = 1.392e+00\n",
      "Iter: 146, Cost:  14.46 →  14.45 ( 8.09e-03), res:  5.53e-02, β= 4.05e-01, α = 1.000, ΔJ = 8.479e-03\n",
      "Iter: 147, Cost:  14.45 →  14.44 ( 5.72e-03), res:  6.28e-02, β= 1.82e-01, α = 1.000, ΔJ = 6.254e-03\n",
      "Iter: 148, Cost:  14.44 →  14.44 ( 3.16e-03), res:  6.61e-02, β= 8.20e-02, α = 1.000, ΔJ = 3.584e-03\n",
      "Iter: 149, Cost:  14.44 →  14.44 ( 2.27e-03), res:  5.68e-02, β= 3.69e-02, α = 1.000, ΔJ = 2.580e-03\n",
      "Iter: 150, Cost:  14.44 →  14.44 ( 2.13e-03), res:  1.15e-01, β= 1.66e-02, α = 1.000, ΔJ = 3.438e-03\n"
     ]
    },
    {
     "output_type": "stream",
     "name": "stdout",
     "text": [
      "Iter: 151, Cost:  14.44 →  14.43 ( 4.73e-03), res:  2.38e-01, β= 7.47e-03, α = 1.000, ΔJ = 6.436e-03\n",
      "Iter: 152, Cost:  14.43 →  14.43 ( 5.83e-04), res:  1.41e+00, β= 3.36e-03, α = 0.125, ΔJ = 3.842e-02\n",
      "Iter: 153, Cost:  14.43 →  14.43 ( 8.70e-04), res:  1.13e+00, β= 1.51e-03, α = 1.000, ΔJ = 2.466e-02\n",
      "Iter: 154, Cost:  14.43 →  14.42 ( 9.33e-03), res:  6.26e+00, β= 6.81e-04, α = 0.031, ΔJ = 3.312e-01\n",
      "Iter: 155, Cost:  14.42 →  14.42 ( 9.87e-04), res:  7.88e+00, β= 3.06e-04, α = 0.031, ΔJ = 2.041e-01\n",
      "Iter: 156, Cost:  14.42 →  14.42 (-1.12e-03), res:  1.38e+01, β= 9.00e-01, α = 0.000, ΔJ = 9.690e-01\n",
      "Iter: 157, Cost:  14.42 →  14.41 ( 6.89e-03), res:  4.55e-02, β= 4.05e-01, α = 1.000, ΔJ = 7.211e-03\n",
      "Iter: 158, Cost:  14.41 →  14.41 ( 3.78e-03), res:  4.83e-02, β= 1.82e-01, α = 1.000, ΔJ = 4.159e-03\n"
     ]
    },
    {
     "output_type": "stream",
     "name": "stdout",
     "text": [
      "Iter: 159, Cost:  14.41 →  14.41 ( 1.91e-03), res:  4.72e-02, β= 8.20e-02, α = 1.000, ΔJ = 2.176e-03\n",
      "Iter: 160, Cost:  14.41 →  14.41 ( 1.80e-03), res:  5.46e-02, β= 3.69e-02, α = 1.000, ΔJ = 2.014e-03\n",
      "Iter: 161, Cost:  14.41 →  14.40 ( 2.72e-03), res:  1.13e-01, β= 1.66e-02, α = 1.000, ΔJ = 3.157e-03\n",
      "Iter: 162, Cost:  14.40 →  14.40 ( 4.36e-04), res:  2.47e-01, β= 7.47e-03, α = 0.250, ΔJ = 9.334e-03\n",
      "Iter: 163, Cost:  14.40 →  14.40 ( 1.00e-03), res:  1.41e+00, β= 3.36e-03, α = 0.125, ΔJ = 3.623e-02\n",
      "Iter: 164, Cost:  14.40 →  14.40 ( 4.02e-03), res:  1.14e+00, β= 1.51e-03, α = 1.000, ΔJ = 2.391e-02\n",
      "Iter: 165, Cost:  14.40 →  14.39 ( 6.43e-03), res:  6.20e+00, β= 6.81e-04, α = 0.031, ΔJ = 3.139e-01\n",
      "Iter: 166, Cost:  14.39 →  14.39 ( 3.31e-03), res:  7.83e+00, β= 3.06e-04, α = 0.062, ΔJ = 1.977e-01\n"
     ]
    },
    {
     "output_type": "stream",
     "name": "stdout",
     "text": [
      "Iter: 167, Cost:  14.39 →  14.39 (-3.04e-04), res:  1.38e+01, β= 9.00e-01, α = 0.000, ΔJ = 9.358e-01\n",
      "Iter: 168, Cost:  14.39 →  14.38 ( 5.65e-03), res:  4.28e-02, β= 4.05e-01, α = 1.000, ΔJ = 5.920e-03\n",
      "Iter: 169, Cost:  14.38 →  14.38 ( 3.43e-03), res:  4.67e-02, β= 1.82e-01, α = 1.000, ΔJ = 3.761e-03\n",
      "Iter: 170, Cost:  14.38 →  14.38 ( 1.93e-03), res:  4.68e-02, β= 8.20e-02, α = 1.000, ΔJ = 2.184e-03\n",
      "Iter: 171, Cost:  14.38 →  14.38 ( 1.52e-03), res:  5.56e-02, β= 3.69e-02, α = 1.000, ΔJ = 2.076e-03\n",
      "Iter: 172, Cost:  14.38 →  14.38 ( 1.10e-03), res:  3.10e-01, β= 1.66e-02, α = 0.500, ΔJ = 8.631e-03\n",
      "Iter: 173, Cost:  14.38 →  14.38 ( 5.09e-04), res:  2.54e-01, β= 7.47e-03, α = 0.250, ΔJ = 6.948e-03\n",
      "Iter: 174, Cost:  14.38 →  14.37 ( 2.79e-04), res:  5.61e-01, β= 3.36e-03, α = 0.125, ΔJ = 2.426e-02\n",
      "Iter: 175, Cost:  14.37 →  14.37 ( 6.75e-03), res:  1.16e+00, β= 1.51e-03, α = 1.000, ΔJ = 2.577e-02\n",
      "Iter: 176, Cost:  14.37 →  14.36 ( 3.75e-03), res:  6.16e+00, β= 6.81e-04, α = 0.031, ΔJ = 2.881e-01\n"
     ]
    },
    {
     "output_type": "stream",
     "name": "stdout",
     "text": [
      "Iter: 177, Cost:  14.36 →  14.36 ( 1.79e-04), res:  1.05e+01, β= 3.06e-04, α = 0.016, ΔJ = 3.666e-01\n",
      "Iter: 178, Cost:  14.36 →  14.35 ( 1.11e-02), res:  1.02e+01, β= 1.38e-04, α = 0.062, ΔJ = 2.485e-01\n",
      "Iter: 179, Cost:  14.35 →  14.35 ( 3.84e-04), res:  1.43e+01, β= 6.21e-05, α = 0.002, ΔJ = 7.111e-01\n",
      "Iter: 180, Cost:  14.35 →  14.35 (-2.20e-03), res:  2.78e+01, β= 9.00e-01, α = 0.000, ΔJ = 1.798e+00\n",
      "Iter: 181, Cost:  14.35 →  14.35 ( 8.06e-03), res:  4.37e-02, β= 4.05e-01, α = 1.000, ΔJ = 9.103e-03\n",
      "Iter: 182, Cost:  14.35 →  14.34 ( 3.83e-03), res:  5.63e-02, β= 1.82e-01, α = 1.000, ΔJ = 4.135e-03\n",
      "Iter: 183, Cost:  14.34 →  14.34 ( 1.94e-03), res:  5.60e-02, β= 8.20e-02, α = 1.000, ΔJ = 2.583e-03\n",
      "Iter: 184, Cost:  14.34 →  14.34 ( 7.02e-04), res:  5.63e-02, β= 3.69e-02, α = 1.000, ΔJ = 2.315e-03\n"
     ]
    },
    {
     "output_type": "stream",
     "name": "stdout",
     "text": [
      "Iter: 185, Cost:  14.34 →  14.34 ( 5.26e-04), res:  1.17e-01, β= 1.66e-02, α = 1.000, ΔJ = 6.207e-03\n",
      "Iter: 186, Cost:  14.34 →  14.33 ( 6.62e-03), res:  4.20e-01, β= 7.47e-03, α = 1.000, ΔJ = 1.219e-02\n",
      "Iter: 187, Cost:  14.33 →  14.33 ( 3.93e-03), res:  5.36e-01, β= 3.36e-03, α = 1.000, ΔJ = 1.061e-02\n",
      "Iter: 188, Cost:  14.33 →  14.33 ( 1.28e-03), res:  3.54e+00, β= 1.51e-03, α = 0.062, ΔJ = 1.228e-01\n",
      "Iter: 189, Cost:  14.33 →  14.33 ( 2.97e-03), res:  2.50e+00, β= 6.81e-04, α = 0.125, ΔJ = 6.068e-02\n",
      "Iter: 190, Cost:  14.33 →  14.33 ( 1.05e-04), res:  9.96e+00, β= 3.06e-04, α = 0.008, ΔJ = 3.254e-01\n",
      "Iter: 191, Cost:  14.33 →  14.32 ( 1.29e-03), res:  9.69e+00, β= 1.38e-04, α = 0.062, ΔJ = 2.247e-01\n",
      "Iter: 192, Cost:  14.32 →  14.32 ( 8.54e-04), res:  1.91e+01, β= 6.21e-05, α = 0.004, ΔJ = 1.285e+00\n"
     ]
    },
    {
     "output_type": "stream",
     "name": "stdout",
     "text": [
      "Iter: 193, Cost:  14.32 →  14.32 ( 1.06e-03), res:  3.27e+01, β= 2.79e-05, α = 0.004, ΔJ = 1.034e+00\n",
      "Iter: 194, Cost:  14.32 →  14.32 (-2.05e-03), res:  3.76e+01, β= 9.00e-01, α = 0.000, ΔJ = 2.041e+00\n",
      "Iter: 195, Cost:  14.32 →  14.31 ( 1.07e-02), res:  5.53e-02, β= 4.05e-01, α = 1.000, ΔJ = 1.106e-02\n",
      "Iter: 196, Cost:  14.31 →  14.31 ( 5.37e-03), res:  6.14e-02, β= 1.82e-01, α = 1.000, ΔJ = 5.787e-03\n",
      "Iter: 197, Cost:  14.31 →  14.31 ( 2.24e-03), res:  6.11e-02, β= 8.20e-02, α = 1.000, ΔJ = 2.533e-03\n",
      "Iter: 198, Cost:  14.31 →  14.30 ( 1.04e-03), res:  7.67e-02, β= 3.69e-02, α = 1.000, ΔJ = 3.290e-03\n"
     ]
    },
    {
     "output_type": "stream",
     "name": "stdout",
     "text": [
      "Iter: 199, Cost:  14.30 →  14.30 ( 3.50e-03), res:  1.17e-01, β= 1.66e-02, α = 1.000, ΔJ = 4.056e-03\n",
      "Iter: 200, Cost:  14.30 →  14.30 ( 4.96e-03), res:  2.56e-01, β= 7.47e-03, α = 1.000, ΔJ = 5.318e-03\n",
      "Iter: 201, Cost:  14.30 →  14.30 ( 3.06e-04), res:  5.49e-01, β= 3.36e-03, α = 0.062, ΔJ = 1.763e-02\n",
      "Iter: 202, Cost:  14.30 →  14.30 ( 2.50e-04), res:  1.17e+00, β= 1.51e-03, α = 0.500, ΔJ = 2.236e-02\n",
      "Iter: 203, Cost:  14.30 →  14.29 ( 1.09e-03), res:  6.03e+00, β= 6.81e-04, α = 0.031, ΔJ = 2.688e-01\n",
      "Iter: 204, Cost:  14.29 →  14.29 ( 5.21e-03), res:  7.55e+00, β= 3.06e-04, α = 0.062, ΔJ = 1.840e-01\n"
     ]
    },
    {
     "output_type": "stream",
     "name": "stdout",
     "text": [
      "Iter: 205, Cost:  14.29 →  14.29 ( 3.20e-04), res:  1.64e+01, β= 1.38e-04, α = 0.008, ΔJ = 6.292e-01\n",
      "Iter: 206, Cost:  14.29 →  14.29 ( 2.33e-03), res:  1.89e+01, β= 6.21e-05, α = 0.016, ΔJ = 4.397e-01\n",
      "Iter: 207, Cost:  14.29 →  14.29 (-5.11e-03), res:  2.50e+01, β= 9.00e-01, α = 0.000, ΔJ = 1.052e+00\n",
      "Iter: 208, Cost:  14.29 →  14.28 ( 7.23e-03), res:  5.53e-02, β= 4.05e-01, α = 1.000, ΔJ = 7.500e-03\n",
      "Iter: 209, Cost:  14.28 →  14.28 ( 5.48e-03), res:  6.52e-02, β= 1.82e-01, α = 1.000, ΔJ = 5.909e-03\n",
      "Iter: 210, Cost:  14.28 →  14.28 ( 2.95e-03), res:  6.96e-02, β= 8.20e-02, α = 1.000, ΔJ = 3.292e-03\n",
      "Iter: 211, Cost:  14.28 →  14.27 ( 2.05e-03), res:  6.06e-02, β= 3.69e-02, α = 1.000, ΔJ = 2.277e-03\n",
      "Iter: 212, Cost:  14.27 →  14.27 ( 2.70e-03), res:  1.22e-01, β= 1.66e-02, α = 1.000, ΔJ = 2.922e-03\n",
      "Iter: 213, Cost:  14.27 →  14.27 ( 1.81e-04), res:  2.60e-01, β= 7.47e-03, α = 0.125, ΔJ = 6.691e-03\n",
      "Iter: 214, Cost:  14.27 →  14.27 ( 1.21e-05), res:  1.34e+00, β= 3.36e-03, α = 0.031, ΔJ = 3.558e-02\n"
     ]
    },
    {
     "output_type": "stream",
     "name": "stdout",
     "text": [
      "Iter: 215, Cost:  14.27 →  14.27 ( 1.03e-03), res:  1.21e+00, β= 1.51e-03, α = 1.000, ΔJ = 2.376e-02\n",
      "Iter: 216, Cost:  14.27 →  14.26 ( 6.29e-03), res:  6.03e+00, β= 6.81e-04, α = 0.031, ΔJ = 2.720e-01\n",
      "Iter: 217, Cost:  14.26 →  14.26 ( 1.85e-03), res:  1.03e+01, β= 3.06e-04, α = 0.031, ΔJ = 3.250e-01\n",
      "Iter: 218, Cost:  14.26 →  14.26 ( 2.68e-04), res:  1.36e+01, β= 1.38e-04, α = 0.062, ΔJ = 3.571e-01\n",
      "Iter: 219, Cost:  14.26 →  14.26 ( 2.51e-03), res:  1.24e+01, β= 6.21e-05, α = 0.004, ΔJ = 5.993e-01\n",
      "Iter: 220, Cost:  14.26 →  14.26 (-3.99e-03), res:  2.50e+01, β= 9.00e-01, α = 0.000, ΔJ = 9.517e-01\n"
     ]
    },
    {
     "output_type": "stream",
     "name": "stdout",
     "text": [
      "Iter: 221, Cost:  14.26 →  14.25 ( 9.97e-03), res:  6.16e-02, β= 4.05e-01, α = 1.000, ΔJ = 1.045e-02\n",
      "Iter: 222, Cost:  14.25 →  14.25 ( 7.29e-03), res:  7.13e-02, β= 1.82e-01, α = 1.000, ΔJ = 7.979e-03\n",
      "Iter: 223, Cost:  14.25 →  14.24 ( 4.03e-03), res:  7.40e-02, β= 8.20e-02, α = 1.000, ΔJ = 4.593e-03\n",
      "Iter: 224, Cost:  14.24 →  14.24 ( 2.39e-03), res:  6.48e-02, β= 3.69e-02, α = 1.000, ΔJ = 3.405e-03\n",
      "Iter: 225, Cost:  14.24 →  14.24 ( 3.46e-03), res:  1.26e-01, β= 1.66e-02, α = 1.000, ΔJ = 3.897e-03\n",
      "Iter: 226, Cost:  14.24 →  14.23 ( 3.27e-03), res:  2.64e-01, β= 7.47e-03, α = 1.000, ΔJ = 5.834e-03\n",
      "Iter: 227, Cost:  14.23 →  14.23 ( 1.06e-03), res:  1.80e+00, β= 3.36e-03, α = 0.125, ΔJ = 5.030e-02\n",
      "Iter: 228, Cost:  14.23 →  14.23 ( 6.27e-04), res:  1.24e+00, β= 1.51e-03, α = 0.062, ΔJ = 2.866e-02\n"
     ]
    },
    {
     "output_type": "stream",
     "name": "stdout",
     "text": [
      "Iter: 229, Cost:  14.23 →  14.23 ( 5.41e-03), res:  2.55e+00, β= 6.81e-04, α = 0.250, ΔJ = 5.137e-02\n",
      "Iter: 230, Cost:  14.23 →  14.22 ( 8.53e-04), res:  9.21e+00, β= 3.06e-04, α = 0.008, ΔJ = 4.599e-01\n",
      "Iter: 231, Cost:  14.22 →  14.22 ( 2.81e-03), res:  1.02e+01, β= 1.38e-04, α = 0.016, ΔJ = 2.349e-01\n",
      "Iter: 232, Cost:  14.22 →  14.22 ( 7.26e-04), res:  2.14e+01, β= 6.21e-05, α = 0.004, ΔJ = 9.831e-01\n",
      "Iter: 233, Cost:  14.22 →  14.22 (-8.06e-05), res:  2.95e+01, β= 9.00e-01, α = 0.000, ΔJ = 7.201e-01\n",
      "Iter: 234, Cost:  14.22 →  14.22 ( 4.21e-03), res:  3.40e-02, β= 4.05e-01, α = 1.000, ΔJ = 4.440e-03\n",
      "Iter: 235, Cost:  14.22 →  14.21 ( 2.15e-03), res:  3.90e-02, β= 1.82e-01, α = 1.000, ΔJ = 2.926e-03\n",
      "Iter: 236, Cost:  14.21 →  14.21 ( 1.32e-03), res:  4.73e-02, β= 8.20e-02, α = 1.000, ΔJ = 1.452e-03\n"
     ]
    },
    {
     "output_type": "stream",
     "name": "stdout",
     "text": [
      "Iter: 237, Cost:  14.21 →  14.21 ( 1.47e-03), res:  5.78e-02, β= 3.69e-02, α = 1.000, ΔJ = 1.592e-03\n",
      "Iter: 238, Cost:  14.21 →  14.21 ( 2.97e-04), res:  1.23e-01, β= 1.66e-02, α = 0.500, ΔJ = 3.286e-03\n",
      "Iter: 239, Cost:  14.21 →  14.21 ( 6.62e-04), res:  2.66e-01, β= 7.47e-03, α = 0.250, ΔJ = 1.081e-02\n",
      "Iter: 240, Cost:  14.21 →  14.20 ( 8.51e-03), res:  5.65e-01, β= 3.36e-03, α = 1.000, ΔJ = 1.317e-02\n",
      "Iter: 241, Cost:  14.20 →  14.20 ( 2.67e-04), res:  3.32e+00, β= 1.51e-03, α = 0.062, ΔJ = 1.036e-01\n",
      "Iter: 242, Cost:  14.20 →  14.20 ( 2.73e-03), res:  2.54e+00, β= 6.81e-04, α = 0.125, ΔJ = 5.630e-02\n",
      "Iter: 243, Cost:  14.20 →  14.20 ( 1.92e-03), res:  5.07e+00, β= 3.06e-04, α = 0.125, ΔJ = 1.107e-01\n",
      "Iter: 244, Cost:  14.20 →  14.20 ( 2.14e-03), res:  1.33e+01, β= 1.38e-04, α = 0.002, ΔJ = 8.789e-01\n"
     ]
    },
    {
     "output_type": "stream",
     "name": "stdout",
     "text": [
      "Iter: 245, Cost:  14.20 →  14.19 ( 2.36e-03), res:  2.15e+01, β= 6.21e-05, α = 0.004, ΔJ = 9.794e-01\n",
      "Iter: 246, Cost:  14.19 →  14.20 (-6.27e-03), res:  2.50e+01, β= 9.00e-01, α = 0.000, ΔJ = 9.859e-01\n",
      "Iter: 247, Cost:  14.20 →  14.19 ( 8.61e-03), res:  5.49e-02, β= 4.05e-01, α = 1.000, ΔJ = 9.213e-03\n",
      "Iter: 248, Cost:  14.19 →  14.19 ( 5.58e-03), res:  6.65e-02, β= 1.82e-01, α = 1.000, ΔJ = 6.063e-03\n",
      "Iter: 249, Cost:  14.19 →  14.18 ( 2.66e-03), res:  6.73e-02, β= 8.20e-02, α = 1.000, ΔJ = 3.026e-03\n",
      "Iter: 250, Cost:  14.18 →  14.18 ( 6.31e-04), res:  1.27e-01, β= 3.69e-02, α = 1.000, ΔJ = 3.986e-03\n",
      "Iter: 251, Cost:  14.18 →  14.18 ( 5.23e-04), res:  1.30e-01, β= 1.66e-02, α = 1.000, ΔJ = 4.354e-03\n",
      "Iter: 252, Cost:  14.18 →  14.17 ( 7.40e-03), res:  2.50e-01, β= 7.47e-03, α = 1.000, ΔJ = 9.446e-03\n"
     ]
    },
    {
     "output_type": "stream",
     "name": "stdout",
     "text": [
      "Iter: 253, Cost:  14.17 →  14.17 ( 3.53e-05), res:  1.23e+00, β= 3.36e-03, α = 0.062, ΔJ = 2.940e-02\n",
      "Iter: 254, Cost:  14.17 →  14.17 ( 1.74e-03), res:  1.17e+00, β= 1.51e-03, α = 1.000, ΔJ = 2.211e-02\n",
      "Iter: 255, Cost:  14.17 →  14.17 ( 1.29e-03), res:  5.75e+00, β= 6.81e-04, α = 0.062, ΔJ = 2.381e-01\n",
      "Iter: 256, Cost:  14.17 →  14.16 ( 1.22e-02), res:  7.27e+00, β= 3.06e-04, α = 0.125, ΔJ = 1.881e-01\n",
      "Iter: 257, Cost:  14.16 →  14.16 ( 2.31e-04), res:  1.60e+01, β= 1.38e-04, α = 0.008, ΔJ = 5.506e-01\n",
      "Iter: 258, Cost:  14.16 →  14.16 (-2.23e-03), res:  1.24e+01, β= 9.00e-01, α = 0.000, ΔJ = 5.542e-01\n",
      "Iter: 259, Cost:  14.16 →  14.15 ( 5.92e-03), res:  4.96e-02, β= 4.05e-01, α = 1.000, ΔJ = 6.208e-03\n",
      "Iter: 260, Cost:  14.15 →  14.15 ( 5.05e-03), res:  5.98e-02, β= 1.82e-01, α = 1.000, ΔJ = 5.501e-03\n",
      "Iter: 261, Cost:  14.15 →  14.15 ( 3.19e-03), res:  6.39e-02, β= 8.20e-02, α = 1.000, ΔJ = 3.599e-03\n",
      "Iter: 262, Cost:  14.15 →  14.14 ( 2.32e-03), res:  6.47e-02, β= 3.69e-02, α = 1.000, ΔJ = 2.872e-03\n"
     ]
    },
    {
     "output_type": "stream",
     "name": "stdout",
     "text": [
      "Iter: 263, Cost:  14.14 →  14.14 ( 2.96e-03), res:  1.26e-01, β= 1.66e-02, α = 1.000, ΔJ = 3.240e-03\n",
      "Iter: 264, Cost:  14.14 →  14.14 ( 1.52e-04), res:  2.68e-01, β= 7.47e-03, α = 0.250, ΔJ = 6.692e-03\n",
      "Iter: 265, Cost:  14.14 →  14.14 ( 1.07e-04), res:  5.76e-01, β= 3.36e-03, α = 0.125, ΔJ = 2.191e-02\n",
      "Iter: 266, Cost:  14.14 →  14.13 ( 7.58e-03), res:  1.23e+00, β= 1.51e-03, α = 1.000, ΔJ = 2.637e-02\n",
      "Iter: 267, Cost:  14.13 →  14.13 ( 4.19e-03), res:  5.68e+00, β= 6.81e-04, α = 0.031, ΔJ = 2.167e-01\n",
      "Iter: 268, Cost:  14.13 →  14.13 ( 2.28e-03), res:  9.71e+00, β= 3.06e-04, α = 0.062, ΔJ = 2.760e-01\n",
      "Iter: 269, Cost:  14.13 →  14.12 ( 4.13e-03), res:  1.05e+01, β= 1.38e-04, α = 0.062, ΔJ = 2.386e-01\n",
      "Iter: 270, Cost:  14.12 →  14.12 ( 1.79e-03), res:  1.29e+01, β= 6.21e-05, α = 0.002, ΔJ = 7.220e-01\n"
     ]
    },
    {
     "output_type": "stream",
     "name": "stdout",
     "text": [
      "Iter: 271, Cost:  14.12 →  14.13 (-6.99e-03), res:  2.51e+01, β= 9.00e-01, α = 0.000, ΔJ = 9.460e-01\n",
      "Iter: 272, Cost:  14.13 →  14.12 ( 1.04e-02), res:  6.67e-02, β= 4.05e-01, α = 1.000, ΔJ = 1.079e-02\n",
      "Iter: 273, Cost:  14.12 →  14.11 ( 8.18e-03), res:  8.22e-02, β= 1.82e-01, α = 1.000, ΔJ = 8.839e-03\n",
      "Iter: 274, Cost:  14.11 →  14.11 ( 4.04e-03), res:  8.24e-02, β= 8.20e-02, α = 1.000, ΔJ = 5.178e-03\n",
      "Iter: 275, Cost:  14.11 →  14.10 ( 2.77e-03), res:  8.47e-02, β= 3.69e-02, α = 1.000, ΔJ = 3.219e-03\n",
      "Iter: 276, Cost:  14.10 →  14.10 ( 3.03e-03), res:  1.30e-01, β= 1.66e-02, α = 1.000, ΔJ = 3.255e-03\n"
     ]
    },
    {
     "output_type": "stream",
     "name": "stdout",
     "text": [
      "Iter: 277, Cost:  14.10 →  14.09 ( 4.81e-03), res:  2.67e-01, β= 7.47e-03, α = 1.000, ΔJ = 5.524e-03\n",
      "Iter: 278, Cost:  14.09 →  14.09 ( 8.76e-04), res:  7.86e-01, β= 3.36e-03, α = 0.250, ΔJ = 1.750e-02\n",
      "Iter: 279, Cost:  14.09 →  14.09 ( 1.56e-04), res:  1.15e+00, β= 1.51e-03, α = 0.016, ΔJ = 4.613e-02\n",
      "Iter: 280, Cost:  14.09 →  14.09 ( 4.16e-03), res:  2.50e+00, β= 6.81e-04, α = 0.500, ΔJ = 4.968e-02\n",
      "Iter: 281, Cost:  14.09 →  14.08 ( 5.24e-03), res:  8.69e+00, β= 3.06e-04, α = 0.016, ΔJ = 4.201e-01\n",
      "Iter: 282, Cost:  14.08 →  14.08 ( 6.87e-04), res:  8.23e+00, β= 1.38e-04, α = 0.004, ΔJ = 3.463e-01\n"
     ]
    },
    {
     "output_type": "stream",
     "name": "stdout",
     "text": [
      "Iter: 283, Cost:  14.08 →  14.08 ( 6.26e-04), res:  2.03e+01, β= 6.21e-05, α = 0.008, ΔJ = 5.866e-01\n",
      "Iter: 284, Cost:  14.08 →  14.09 (-3.58e-03), res:  2.50e+01, β= 9.00e-01, α = 0.000, ΔJ = 8.421e-01\n",
      "Iter: 285, Cost:  14.09 →  14.08 ( 8.42e-03), res:  5.71e-02, β= 4.05e-01, α = 1.000, ΔJ = 8.832e-03\n",
      "Iter: 286, Cost:  14.08 →  14.07 ( 5.84e-03), res:  6.53e-02, β= 1.82e-01, α = 1.000, ΔJ = 6.396e-03\n",
      "Iter: 287, Cost:  14.07 →  14.07 ( 3.37e-03), res:  6.71e-02, β= 8.20e-02, α = 1.000, ΔJ = 3.958e-03\n",
      "Iter: 288, Cost:  14.07 →  14.07 ( 2.26e-03), res:  6.58e-02, β= 3.69e-02, α = 1.000, ΔJ = 2.702e-03\n"
     ]
    },
    {
     "output_type": "stream",
     "name": "stdout",
     "text": [
      "Iter: 289, Cost:  14.07 →  14.07 ( 1.09e-03), res:  2.60e-01, β= 1.66e-02, α = 0.500, ΔJ = 6.946e-03\n",
      "Iter: 290, Cost:  14.07 →  14.06 ( 4.75e-03), res:  2.71e-01, β= 7.47e-03, α = 1.000, ΔJ = 5.690e-03\n",
      "Iter: 291, Cost:  14.06 →  14.06 ( 6.45e-04), res:  5.73e-01, β= 3.36e-03, α = 0.125, ΔJ = 1.642e-02\n",
      "Iter: 292, Cost:  14.06 →  14.06 ( 9.16e-05), res:  1.20e+00, β= 1.51e-03, α = 0.031, ΔJ = 2.619e-02\n",
      "Iter: 293, Cost:  14.06 →  14.06 ( 1.05e-04), res:  4.77e+00, β= 6.81e-04, α = 0.031, ΔJ = 1.138e-01\n",
      "Iter: 294, Cost:  14.06 →  14.06 ( 1.81e-03), res:  5.02e+00, β= 3.06e-04, α = 0.125, ΔJ = 1.034e-01\n",
      "Iter: 295, Cost:  14.06 →  14.06 ( 2.76e-03), res:  1.22e+01, β= 1.38e-04, α = 0.004, ΔJ = 6.660e-01\n",
      "Iter: 296, Cost:  14.06 →  14.06 (-2.60e-04), res:  1.24e+01, β= 9.00e-01, α = 0.000, ΔJ = 5.845e-01\n"
     ]
    },
    {
     "output_type": "stream",
     "name": "stdout",
     "text": [
      "Iter: 297, Cost:  14.06 →  14.05 ( 4.84e-03), res:  3.63e-02, β= 4.05e-01, α = 1.000, ΔJ = 5.109e-03\n",
      "Iter: 298, Cost:  14.05 →  14.05 ( 2.81e-03), res:  3.84e-02, β= 1.82e-01, α = 1.000, ΔJ = 3.074e-03\n",
      "Iter: 299, Cost:  14.05 →  14.05 ( 1.47e-03), res:  3.57e-02, β= 8.20e-02, α = 1.000, ΔJ = 1.784e-03\n",
      "Iter: 300, Cost:  14.05 →  14.05 ( 1.09e-03), res:  1.19e-01, β= 3.69e-02, α = 1.000, ΔJ = 3.966e-03\n",
      "Iter: 301, Cost:  14.05 →  14.04 ( 1.49e-03), res:  1.26e-01, β= 1.66e-02, α = 1.000, ΔJ = 3.256e-03\n",
      "Iter: 302, Cost:  14.04 →  14.04 ( 3.30e-04), res:  2.68e-01, β= 7.47e-03, α = 0.500, ΔJ = 9.735e-03\n",
      "Iter: 303, Cost:  14.04 →  14.04 ( 6.75e-03), res:  7.62e-01, β= 3.36e-03, α = 1.000, ΔJ = 1.952e-02\n",
      "Iter: 304, Cost:  14.04 →  14.04 ( 1.59e-03), res:  2.49e+00, β= 1.51e-03, α = 0.250, ΔJ = 5.398e-02\n"
     ]
    },
    {
     "output_type": "stream",
     "name": "stdout",
     "text": [
      "Iter: 305, Cost:  14.04 →  14.04 ( 3.98e-04), res:  2.61e+00, β= 6.81e-04, α = 0.008, ΔJ = 1.105e-01\n",
      "Iter: 306, Cost:  14.04 →  14.03 ( 9.07e-03), res:  5.11e+00, β= 3.06e-04, α = 0.250, ΔJ = 1.085e-01\n",
      "Iter: 307, Cost:  14.03 →  14.02 ( 2.87e-03), res:  1.22e+01, β= 1.38e-04, α = 0.008, ΔJ = 6.165e-01\n",
      "Iter: 308, Cost:  14.02 →  14.02 ( 3.62e-04), res:  1.24e+01, β= 6.21e-05, α = 0.004, ΔJ = 5.116e-01\n",
      "Iter: 309, Cost:  14.02 →  14.02 ( 1.47e-03), res:  2.74e+01, β= 2.79e-05, α = 0.004, ΔJ = 7.058e-01\n",
      "Iter: 310, Cost:  14.02 →  14.03 (-7.69e-03), res:  4.61e+01, β= 9.00e-01, α = 0.000, ΔJ = 1.151e+00\n",
      "Iter: 311, Cost:  14.03 →  14.02 ( 1.16e-02), res:  7.14e-02, β= 4.05e-01, α = 1.000, ΔJ = 1.201e-02\n",
      "Iter: 312, Cost:  14.02 →  14.01 ( 8.67e-03), res:  8.67e-02, β= 1.82e-01, α = 1.000, ΔJ = 9.345e-03\n"
     ]
    },
    {
     "output_type": "stream",
     "name": "stdout",
     "text": [
      "Iter: 313, Cost:  14.01 →  14.00 ( 4.50e-03), res:  8.65e-02, β= 8.20e-02, α = 1.000, ΔJ = 5.628e-03\n",
      "Iter: 314, Cost:  14.00 →  14.00 ( 2.10e-03), res:  1.13e-01, β= 3.69e-02, α = 1.000, ΔJ = 4.919e-03\n",
      "Iter: 315, Cost:  14.00 →  14.00 ( 3.08e-03), res:  1.42e-01, β= 1.66e-02, α = 1.000, ΔJ = 4.757e-03\n",
      "Iter: 316, Cost:  14.00 →  13.99 ( 4.35e-03), res:  2.61e-01, β= 7.47e-03, α = 1.000, ΔJ = 5.448e-03\n",
      "Iter: 317, Cost:  13.99 →  13.99 ( 4.43e-04), res:  1.15e+00, β= 3.36e-03, α = 0.125, ΔJ = 2.525e-02\n",
      "Iter: 318, Cost:  13.99 →  13.99 ( 1.12e-03), res:  1.20e+00, β= 1.51e-03, α = 1.000, ΔJ = 2.354e-02\n",
      "Iter: 319, Cost:  13.99 →  13.99 ( 4.59e-03), res:  5.27e+00, β= 6.81e-04, α = 0.062, ΔJ = 1.979e-01\n",
      "Iter: 320, Cost:  13.99 →  13.99 ( 1.37e-03), res:  6.71e+00, β= 3.06e-04, α = 0.062, ΔJ = 1.745e-01\n"
     ]
    },
    {
     "output_type": "stream",
     "name": "stdout",
     "text": [
      "Iter: 321, Cost:  13.99 →  13.98 ( 3.10e-03), res:  9.89e+00, β= 1.38e-04, α = 0.031, ΔJ = 2.304e-01\n",
      "Iter: 322, Cost:  13.98 →  13.98 ( 1.53e-03), res:  1.68e+01, β= 6.21e-05, α = 0.002, ΔJ = 8.749e-01\n",
      "Iter: 323, Cost:  13.98 →  14.00 (-1.33e-02), res:  2.39e+01, β= 9.00e-01, α = 0.000, ΔJ = 1.197e+00\n",
      "Iter: 324, Cost:  14.00 →  13.98 ( 1.40e-02), res:  6.38e-02, β= 4.05e-01, α = 1.000, ΔJ = 1.497e-02\n"
     ]
    },
    {
     "output_type": "stream",
     "name": "stdout",
     "text": [
      "Iter: 325, Cost:  13.98 →  13.98 ( 1.84e-03), res:  7.69e-02, β= 1.82e-01, α = 1.000, ΔJ = 7.991e-03\n",
      "Iter: 326, Cost:  13.98 →  13.97 ( 5.83e-03), res:  8.31e-02, β= 8.20e-02, α = 1.000, ΔJ = 1.693e-02\n",
      "Iter: 327, Cost:  13.97 →  13.96 ( 1.01e-02), res:  1.05e-01, β= 3.69e-02, α = 1.000, ΔJ = 6.849e-03\n",
      "Iter: 328, Cost:  13.96 →  13.96 ( 9.34e-04), res:  1.34e-01, β= 1.66e-02, α = 0.125, ΔJ = 5.865e-03\n",
      "Iter: 329, Cost:  13.96 →  13.96 ( 2.49e-04), res:  2.73e-01, β= 7.47e-03, α = 0.031, ΔJ = 6.882e-03\n",
      "Iter: 330, Cost:  13.96 →  13.96 ( 1.16e-03), res:  5.73e-01, β= 3.36e-03, α = 1.000, ΔJ = 1.243e-02\n",
      "Iter: 331, Cost:  13.96 →  13.96 ( 1.38e-03), res:  2.97e+00, β= 1.51e-03, α = 0.062, ΔJ = 9.231e-02\n",
      "Iter: 332, Cost:  13.96 →  13.96 ( 3.02e-03), res:  2.64e+00, β= 6.81e-04, α = 0.250, ΔJ = 5.748e-02\n"
     ]
    },
    {
     "output_type": "stream",
     "name": "stdout",
     "text": [
      "Iter: 333, Cost:  13.96 →  13.96 ( 1.03e-03), res:  7.76e+00, β= 3.06e-04, α = 0.002, ΔJ = 4.299e-01\n",
      "Iter: 334, Cost:  13.96 →  13.96 (-3.76e-03), res:  1.17e+01, β= 9.00e-01, α = 0.000, ΔJ = 7.010e-01\n",
      "Iter: 335, Cost:  13.96 →  13.95 ( 8.36e-03), res:  5.49e-02, β= 4.05e-01, α = 1.000, ΔJ = 8.652e-03\n",
      "Iter: 336, Cost:  13.95 →  13.95 ( 5.34e-03), res:  6.10e-02, β= 1.82e-01, α = 1.000, ΔJ = 5.737e-03\n",
      "Iter: 337, Cost:  13.95 →  13.94 ( 2.95e-03), res:  6.10e-02, β= 8.20e-02, α = 1.000, ΔJ = 3.249e-03\n",
      "Iter: 338, Cost:  13.94 →  13.94 ( 2.20e-03), res:  1.13e-01, β= 3.69e-02, α = 1.000, ΔJ = 3.943e-03\n",
      "Iter: 339, Cost:  13.94 →  13.94 ( 2.57e-03), res:  1.26e-01, β= 1.66e-02, α = 1.000, ΔJ = 2.749e-03\n",
      "Iter: 340, Cost:  13.94 →  13.94 ( 2.84e-03), res:  2.54e-01, β= 7.47e-03, α = 1.000, ΔJ = 4.780e-03\n"
     ]
    },
    {
     "output_type": "stream",
     "name": "stdout",
     "text": [
      "Iter: 341, Cost:  13.94 →  13.93 ( 1.62e-03), res:  1.07e+00, β= 3.36e-03, α = 0.062, ΔJ = 2.803e-02\n",
      "Iter: 342, Cost:  13.93 →  13.93 ( 2.36e-04), res:  2.78e+00, β= 1.51e-03, α = 0.004, ΔJ = 8.254e-02\n",
      "Iter: 343, Cost:  13.93 →  13.94 (-6.96e-03), res:  4.39e+00, β= 9.00e-01, α = 0.000, ΔJ = 9.663e-02\n",
      "Iter: 344, Cost:  13.94 →  13.94 ( 3.96e-05), res:  1.14e-02, β= 4.05e-01, α = 0.031, ΔJ = 9.332e-04\n"
     ]
    },
    {
     "output_type": "stream",
     "name": "stdout",
     "text": [
      "Iter: 345, Cost:  13.94 →  13.94 ( 1.30e-05), res:  2.23e-02, β= 1.82e-01, α = 0.008, ΔJ = 1.220e-03\n",
      "Iter: 346, Cost:  13.94 →  13.94 ( 7.44e-04), res:  4.03e-02, β= 8.20e-02, α = 1.000, ΔJ = 1.709e-03\n",
      "Iter: 347, Cost:  13.94 →  13.94 ( 5.44e-04), res:  1.03e-01, β= 3.69e-02, α = 0.500, ΔJ = 8.454e-03\n",
      "Iter: 348, Cost:  13.94 →  13.93 ( 7.32e-03), res:  1.27e-01, β= 1.66e-02, α = 1.000, ΔJ = 4.338e-03\n",
      "Iter: 349, Cost:  13.93 →  13.93 ( 1.46e-03), res:  2.23e-01, β= 7.47e-03, α = 0.250, ΔJ = 5.126e-03\n",
      "Iter: 350, Cost:  13.93 →  13.93 ( 6.20e-04), res:  4.82e-01, β= 3.36e-03, α = 0.062, ΔJ = 9.765e-03\n",
      "Iter: 351, Cost:  13.93 →  13.93 ( 1.01e-04), res:  1.04e+00, β= 1.51e-03, α = 0.004, ΔJ = 3.743e-02\n",
      "Iter: 352, Cost:  13.93 →  13.93 ( 1.23e-04), res:  2.18e+00, β= 6.81e-04, α = 0.250, ΔJ = 4.544e-02\n"
     ]
    },
    {
     "output_type": "stream",
     "name": "stdout",
     "text": [
      "Iter: 353, Cost:  13.93 →  13.93 ( 4.64e-04), res:  7.32e+00, β= 3.06e-04, α = 0.008, ΔJ = 3.954e-01\n",
      "Iter: 354, Cost:  13.93 →  13.93 ( 1.68e-03), res:  1.30e+01, β= 1.38e-04, α = 0.008, ΔJ = 4.757e-01\n",
      "Iter: 355, Cost:  13.93 →  13.93 ( 9.65e-04), res:  1.80e+01, β= 6.21e-05, α = 0.016, ΔJ = 5.088e-01\n",
      "Iter: 356, Cost:  13.93 →  13.93 (-4.28e-03), res:  2.21e+01, β= 9.00e-01, α = 0.000, ΔJ = 1.123e+00\n"
     ]
    },
    {
     "output_type": "stream",
     "name": "stdout",
     "text": [
      "Iter: 357, Cost:  13.93 →  13.93 ( 4.66e-03), res:  4.44e-02, β= 4.05e-01, α = 1.000, ΔJ = 5.103e-03\n",
      "Iter: 358, Cost:  13.93 →  13.92 ( 3.79e-03), res:  5.92e-02, β= 1.82e-01, α = 1.000, ΔJ = 4.076e-03\n",
      "Iter: 359, Cost:  13.92 →  13.92 ( 2.14e-03), res:  6.36e-02, β= 8.20e-02, α = 1.000, ΔJ = 2.403e-03\n",
      "Iter: 360, Cost:  13.92 →  13.92 ( 1.53e-03), res:  5.85e-02, β= 3.69e-02, α = 1.000, ΔJ = 1.744e-03\n",
      "Iter: 361, Cost:  13.92 →  13.92 ( 9.27e-04), res:  1.20e-01, β= 1.66e-02, α = 1.000, ΔJ = 2.872e-03\n",
      "Iter: 362, Cost:  13.92 →  13.91 ( 4.84e-03), res:  2.44e-01, β= 7.47e-03, α = 1.000, ΔJ = 6.815e-03\n",
      "Iter: 363, Cost:  13.91 →  13.91 ( 9.42e-04), res:  1.04e+00, β= 3.36e-03, α = 0.250, ΔJ = 2.232e-02\n",
      "Iter: 364, Cost:  13.91 →  13.91 ( 4.79e-04), res:  1.10e+00, β= 1.51e-03, α = 0.062, ΔJ = 3.912e-02\n",
      "Iter: 365, Cost:  13.91 →  13.91 ( 4.80e-03), res:  2.40e+00, β= 6.81e-04, α = 0.500, ΔJ = 4.914e-02\n",
      "Iter: 366, Cost:  13.91 →  13.90 ( 2.69e-03), res:  7.87e+00, β= 3.06e-04, α = 0.016, ΔJ = 3.336e-01\n"
     ]
    },
    {
     "output_type": "stream",
     "name": "stdout",
     "text": [
      "Iter: 367, Cost:  13.90 →  13.90 ( 2.21e-04), res:  1.35e+01, β= 1.38e-04, α = 0.031, ΔJ = 4.193e-01\n",
      "Iter: 368, Cost:  13.90 →  13.90 ( 2.79e-04), res:  1.25e+01, β= 6.21e-05, α = 0.002, ΔJ = 5.342e-01\n",
      "Iter: 369, Cost:  13.90 →  13.90 ( 3.57e-04), res:  2.75e+01, β= 2.79e-05, α = 0.002, ΔJ = 8.321e-01\n",
      "Iter: 370, Cost:  13.90 →  13.91 (-4.69e-03), res:  4.64e+01, β= 9.00e-01, α = 0.000, ΔJ = 1.063e+00\n",
      "Iter: 371, Cost:  13.91 →  13.90 ( 1.01e-02), res:  6.14e-02, β= 4.05e-01, α = 1.000, ΔJ = 1.057e-02\n",
      "Iter: 372, Cost:  13.90 →  13.89 ( 7.03e-03), res:  7.29e-02, β= 1.82e-01, α = 1.000, ΔJ = 7.721e-03\n"
     ]
    },
    {
     "output_type": "stream",
     "name": "stdout",
     "text": [
      "Iter: 373, Cost:  13.89 →  13.89 ( 3.59e-03), res:  7.36e-02, β= 8.20e-02, α = 1.000, ΔJ = 4.152e-03\n",
      "Iter: 374, Cost:  13.89 →  13.88 ( 2.56e-03), res:  6.66e-02, β= 3.69e-02, α = 1.000, ΔJ = 2.934e-03\n",
      "Iter: 375, Cost:  13.88 →  13.88 ( 2.49e-03), res:  1.32e-01, β= 1.66e-02, α = 1.000, ΔJ = 3.648e-03\n",
      "Iter: 376, Cost:  13.88 →  13.88 ( 5.18e-03), res:  2.62e-01, β= 7.47e-03, α = 1.000, ΔJ = 6.275e-03\n",
      "Iter: 377, Cost:  13.88 →  13.87 ( 5.02e-03), res:  7.07e-01, β= 3.36e-03, α = 1.000, ΔJ = 1.378e-02\n",
      "Iter: 378, Cost:  13.87 →  13.87 ( 2.07e-03), res:  1.17e+00, β= 1.51e-03, α = 0.062, ΔJ = 3.338e-02\n",
      "Iter: 379, Cost:  13.87 →  13.87 ( 4.21e-04), res:  2.21e+00, β= 6.81e-04, α = 0.016, ΔJ = 6.353e-02\n",
      "Iter: 380, Cost:  13.87 →  13.88 (-1.18e-02), res:  4.83e+00, β= 9.00e-01, α = 0.000, ΔJ = 1.061e-01\n"
     ]
    },
    {
     "output_type": "stream",
     "name": "stdout",
     "text": [
      "Iter: 381, Cost:  13.88 →  13.88 ( 1.77e-03), res:  3.56e-02, β= 4.05e-01, α = 0.250, ΔJ = 5.093e-03\n",
      "Iter: 382, Cost:  13.88 →  13.88 ( 5.19e-04), res:  6.20e-02, β= 1.82e-01, α = 1.000, ΔJ = 5.099e-03\n",
      "Iter: 383, Cost:  13.88 →  13.88 ( 3.69e-03), res:  8.21e-02, β= 8.20e-02, α = 1.000, ΔJ = 1.312e-02\n",
      "Iter: 384, Cost:  13.88 →  13.87 ( 7.97e-03), res:  6.01e-02, β= 3.69e-02, α = 1.000, ΔJ = 4.076e-03\n",
      "Iter: 385, Cost:  13.87 →  13.87 ( 1.65e-03), res:  1.19e-01, β= 1.66e-02, α = 0.250, ΔJ = 5.037e-03\n",
      "Iter: 386, Cost:  13.87 →  13.87 ( 9.47e-05), res:  2.38e-01, β= 7.47e-03, α = 0.016, ΔJ = 5.239e-03\n",
      "Iter: 387, Cost:  13.87 →  13.86 ( 1.85e-03), res:  5.05e-01, β= 3.36e-03, α = 1.000, ΔJ = 1.034e-02\n",
      "Iter: 388, Cost:  13.86 →  13.86 ( 6.51e-04), res:  1.09e+00, β= 1.51e-03, α = 0.062, ΔJ = 3.965e-02\n"
     ]
    },
    {
     "output_type": "stream",
     "name": "stdout",
     "text": [
      "Iter: 389, Cost:  13.86 →  13.86 ( 1.22e-03), res:  4.19e+00, β= 6.81e-04, α = 0.250, ΔJ = 9.169e-02\n",
      "Iter: 390, Cost:  13.86 →  13.86 ( 2.63e-03), res:  3.99e+00, β= 3.06e-04, α = 0.031, ΔJ = 1.432e-01\n",
      "Iter: 391, Cost:  13.86 →  13.86 ( 2.44e-03), res:  9.51e+00, β= 1.38e-04, α = 0.016, ΔJ = 2.302e-01\n",
      "Iter: 392, Cost:  13.86 →  13.86 ( 1.66e-03), res:  1.58e+01, β= 6.21e-05, α = 0.016, ΔJ = 3.922e-01\n",
      "Iter: 393, Cost:  13.86 →  13.85 ( 6.63e-04), res:  2.51e+01, β= 2.79e-05, α = 0.002, ΔJ = 7.996e-01\n",
      "Iter: 394, Cost:  13.85 →  13.85 (-2.26e-04), res:  4.63e+01, β= 9.00e-01, α = 0.000, ΔJ = 9.538e-01\n"
     ]
    },
    {
     "output_type": "stream",
     "name": "stdout",
     "text": [
      "Iter: 395, Cost:  13.85 →  13.84 ( 1.03e-02), res:  4.62e-02, β= 4.05e-01, α = 1.000, ΔJ = 1.078e-02\n",
      "Iter: 396, Cost:  13.84 →  13.84 ( 5.13e-03), res:  5.20e-02, β= 1.82e-01, α = 1.000, ΔJ = 5.850e-03\n",
      "Iter: 397, Cost:  13.84 →  13.84 ( 2.35e-03), res:  5.72e-02, β= 8.20e-02, α = 1.000, ΔJ = 2.609e-03\n",
      "Iter: 398, Cost:  13.84 →  13.84 ( 1.76e-03), res:  6.72e-02, β= 3.69e-02, α = 1.000, ΔJ = 2.499e-03\n",
      "Iter: 399, Cost:  13.84 →  13.84 ( 2.79e-04), res:  1.34e-01, β= 1.66e-02, α = 0.500, ΔJ = 4.371e-03\n",
      "Iter: 400, Cost:  13.84 →  13.83 ( 3.36e-03), res:  2.68e-01, β= 7.47e-03, α = 0.500, ΔJ = 7.317e-03\n",
      "Iter: 401, Cost:  13.83 →  13.83 ( 3.60e-04), res:  5.71e-01, β= 3.36e-03, α = 1.000, ΔJ = 1.114e-02\n",
      "Iter: 402, Cost:  13.83 →  13.83 ( 2.73e-03), res:  1.21e+00, β= 1.51e-03, α = 0.125, ΔJ = 3.744e-02\n"
     ]
    },
    {
     "output_type": "stream",
     "name": "stdout",
     "text": [
      "Iter: 403, Cost:  13.83 →  13.82 ( 9.65e-03), res:  2.57e+00, β= 6.81e-04, α = 0.250, ΔJ = 5.353e-02\n",
      "Iter: 404, Cost:  13.82 →  13.82 ( 8.04e-04), res:  7.10e+00, β= 3.06e-04, α = 0.002, ΔJ = 3.521e-01\n",
      "Iter: 405, Cost:  13.82 →  13.82 (-6.75e-03), res:  1.07e+01, β= 9.00e-01, α = 0.000, ΔJ = 5.859e-01\n",
      "Iter: 406, Cost:  13.82 →  13.82 ( 3.47e-03), res:  3.84e-02, β= 4.05e-01, α = 1.000, ΔJ = 3.602e-03\n",
      "Iter: 407, Cost:  13.82 →  13.82 ( 2.88e-03), res:  4.62e-02, β= 1.82e-01, α = 1.000, ΔJ = 3.073e-03\n",
      "Iter: 408, Cost:  13.82 →  13.82 ( 3.29e-03), res:  4.92e-02, β= 8.20e-02, α = 1.000, ΔJ = 2.054e-03\n"
     ]
    },
    {
     "output_type": "stream",
     "name": "stdout",
     "text": [
      "Iter: 409, Cost:  13.82 →  13.81 ( 2.36e-03), res:  8.45e-02, β= 3.69e-02, α = 0.250, ΔJ = 6.533e-03\n",
      "Iter: 410, Cost:  13.81 →  13.81 ( 1.32e-04), res:  1.32e-01, β= 1.66e-02, α = 0.016, ΔJ = 5.958e-03\n",
      "Iter: 411, Cost:  13.81 →  13.81 ( 4.65e-05), res:  2.59e-01, β= 7.47e-03, α = 0.004, ΔJ = 9.344e-03\n",
      "Iter: 412, Cost:  13.81 →  13.81 ( 1.31e-03), res:  5.60e-01, β= 3.36e-03, α = 1.000, ΔJ = 1.648e-02\n",
      "Iter: 413, Cost:  13.81 →  13.81 ( 4.97e-04), res:  2.67e+00, β= 1.51e-03, α = 0.008, ΔJ = 6.300e-02\n",
      "Iter: 414, Cost:  13.81 →  13.82 (-5.81e-03), res:  4.70e+00, β= 9.00e-01, α = 0.000, ΔJ = 1.314e-01\n"
     ]
    },
    {
     "output_type": "stream",
     "name": "stdout",
     "text": [
      "Iter: 415, Cost:  13.82 →  13.82 ( 1.09e-04), res:  1.51e-02, β= 4.05e-01, α = 0.062, ΔJ = 1.348e-03\n",
      "Iter: 416, Cost:  13.82 →  13.82 ( 3.48e-04), res:  2.79e-02, β= 1.82e-01, α = 1.000, ΔJ = 2.106e-03\n",
      "Iter: 417, Cost:  13.82 →  13.81 ( 6.03e-03), res:  7.14e-02, β= 8.20e-02, α = 0.500, ΔJ = 9.484e-03\n",
      "Iter: 418, Cost:  13.81 →  13.81 ( 2.04e-04), res:  8.44e-02, β= 3.69e-02, α = 0.031, ΔJ = 4.402e-03\n",
      "Iter: 419, Cost:  13.81 →  13.81 ( 6.69e-05), res:  1.36e-01, β= 1.66e-02, α = 0.008, ΔJ = 6.101e-03\n",
      "Iter: 420, Cost:  13.81 →  13.81 ( 2.55e-05), res:  2.48e-01, β= 7.47e-03, α = 0.002, ΔJ = 9.866e-03\n",
      "Iter: 421, Cost:  13.81 →  13.82 (-6.61e-03), res:  5.27e-01, β= 9.00e-01, α = 0.000, ΔJ = 1.820e-02\n",
      "Iter: 422, Cost:  13.82 →  13.82 ( 2.85e-04), res:  1.64e-02, β= 4.05e-01, α = 0.062, ΔJ = 2.980e-03\n"
     ]
    },
    {
     "output_type": "stream",
     "name": "stdout",
     "text": [
      "Iter: 423, Cost:  13.82 →  13.82 ( 9.80e-04), res:  2.50e-02, β= 1.82e-01, α = 1.000, ΔJ = 3.116e-03\n",
      "Iter: 424, Cost:  13.82 →  13.82 ( 3.30e-04), res:  7.15e-02, β= 8.20e-02, α = 1.000, ΔJ = 8.672e-03\n",
      "Iter: 425, Cost:  13.82 →  13.81 ( 8.09e-03), res:  7.17e-02, β= 3.69e-02, α = 1.000, ΔJ = 4.462e-03\n",
      "Iter: 426, Cost:  13.81 →  13.80 ( 2.08e-03), res:  1.10e-01, β= 1.66e-02, α = 0.500, ΔJ = 4.074e-03\n",
      "Iter: 427, Cost:  13.80 →  13.80 ( 4.81e-04), res:  4.30e-01, β= 7.47e-03, α = 1.000, ΔJ = 8.678e-03\n",
      "Iter: 428, Cost:  13.80 →  13.80 ( 1.72e-03), res:  5.14e-01, β= 3.36e-03, α = 0.250, ΔJ = 1.755e-02\n",
      "Iter: 429, Cost:  13.80 →  13.80 ( 3.98e-03), res:  1.08e+00, β= 1.51e-03, α = 0.500, ΔJ = 2.620e-02\n",
      "Iter: 430, Cost:  13.80 →  13.79 ( 9.52e-03), res:  2.19e+00, β= 6.81e-04, α = 0.500, ΔJ = 5.924e-02\n",
      "Iter: 431, Cost:  13.79 →  13.79 ( 3.20e-03), res:  6.93e+00, β= 3.06e-04, α = 0.008, ΔJ = 3.426e-01\n",
      "Iter: 432, Cost:  13.79 →  13.79 (-6.51e-04), res:  1.05e+01, β= 9.00e-01, α = 0.000, ΔJ = 5.631e-01\n"
     ]
    },
    {
     "output_type": "stream",
     "name": "stdout",
     "text": [
      "Iter: 433, Cost:  13.79 →  13.78 ( 6.12e-03), res:  4.70e-02, β= 4.05e-01, α = 1.000, ΔJ = 6.334e-03\n",
      "Iter: 434, Cost:  13.78 →  13.78 ( 4.25e-03), res:  5.68e-02, β= 1.82e-01, α = 1.000, ΔJ = 4.549e-03\n",
      "Iter: 435, Cost:  13.78 →  13.77 ( 2.45e-03), res:  5.80e-02, β= 8.20e-02, α = 1.000, ΔJ = 2.700e-03\n",
      "Iter: 436, Cost:  13.77 →  13.77 ( 2.85e-03), res:  9.72e-02, β= 3.69e-02, α = 1.000, ΔJ = 3.122e-03\n",
      "Iter: 437, Cost:  13.77 →  13.77 ( 2.12e-03), res:  2.11e-01, β= 1.66e-02, α = 1.000, ΔJ = 4.607e-03\n",
      "Iter: 438, Cost:  13.77 →  13.77 ( 3.72e-04), res:  2.51e-01, β= 7.47e-03, α = 0.500, ΔJ = 7.997e-03\n",
      "Iter: 439, Cost:  13.77 →  13.77 ( 1.86e-03), res:  5.25e-01, β= 3.36e-03, α = 0.500, ΔJ = 1.318e-02\n",
      "Iter: 440, Cost:  13.77 →  13.77 ( 1.57e-04), res:  1.96e+00, β= 1.51e-03, α = 0.125, ΔJ = 4.484e-02\n"
     ]
    },
    {
     "output_type": "stream",
     "name": "stdout",
     "text": [
      "Iter: 441, Cost:  13.77 →  13.76 ( 3.25e-03), res:  2.86e+00, β= 6.81e-04, α = 0.500, ΔJ = 6.766e-02\n",
      "Iter: 442, Cost:  13.76 →  13.76 ( 2.37e-03), res:  7.53e+00, β= 3.06e-04, α = 0.031, ΔJ = 2.484e-01\n",
      "Iter: 443, Cost:  13.76 →  13.76 ( 5.04e-03), res:  9.39e+00, β= 1.38e-04, α = 0.031, ΔJ = 2.006e-01\n",
      "Iter: 444, Cost:  13.76 →  13.76 (-2.85e-03), res:  1.51e+01, β= 9.00e-01, α = 0.000, ΔJ = 6.596e-01\n"
     ]
    },
    {
     "output_type": "stream",
     "name": "stdout",
     "text": [
      "Iter: 445, Cost:  13.76 →  13.75 ( 7.53e-03), res:  5.41e-02, β= 4.05e-01, α = 1.000, ΔJ = 7.918e-03\n",
      "Iter: 446, Cost:  13.75 →  13.75 ( 5.13e-03), res:  6.33e-02, β= 1.82e-01, α = 1.000, ΔJ = 5.950e-03\n",
      "Iter: 447, Cost:  13.75 →  13.74 ( 2.92e-03), res:  7.39e-02, β= 8.20e-02, α = 1.000, ΔJ = 3.279e-03\n",
      "Iter: 448, Cost:  13.74 →  13.74 ( 2.04e-03), res:  6.70e-02, β= 3.69e-02, α = 1.000, ΔJ = 2.267e-03\n",
      "Iter: 449, Cost:  13.74 →  13.74 ( 2.26e-03), res:  1.33e-01, β= 1.66e-02, α = 1.000, ΔJ = 2.817e-03\n",
      "Iter: 450, Cost:  13.74 →  13.74 ( 1.37e-04), res:  4.62e-01, β= 7.47e-03, α = 0.125, ΔJ = 1.053e-02\n"
     ]
    },
    {
     "output_type": "stream",
     "name": "stdout",
     "text": [
      "Iter: 451, Cost:  13.74 →  13.74 ( 3.50e-03), res:  5.79e-01, β= 3.36e-03, α = 1.000, ΔJ = 1.001e-02\n",
      "Iter: 452, Cost:  13.74 →  13.73 ( 1.70e-03), res:  2.48e+00, β= 1.51e-03, α = 0.125, ΔJ = 5.549e-02\n",
      "Iter: 453, Cost:  13.73 →  13.73 ( 1.82e-04), res:  2.41e+00, β= 6.81e-04, α = 0.004, ΔJ = 4.681e-02\n",
      "Iter: 454, Cost:  13.73 →  13.74 (-1.01e-02), res:  4.63e+00, β= 9.00e-01, α = 0.000, ΔJ = 8.960e-02\n",
      "Iter: 455, Cost:  13.74 →  13.74 ( 3.73e-04), res:  3.74e-02, β= 4.05e-01, α = 0.062, ΔJ = 4.603e-03\n",
      "Iter: 456, Cost:  13.74 →  13.74 ( 7.08e-04), res:  7.19e-02, β= 1.82e-01, α = 1.000, ΔJ = 6.055e-03\n"
     ]
    },
    {
     "output_type": "stream",
     "name": "stdout",
     "text": [
      "Iter: 457, Cost:  13.74 →  13.74 ( 4.95e-03), res:  8.25e-02, β= 8.20e-02, α = 1.000, ΔJ = 1.378e-02\n",
      "Iter: 458, Cost:  13.74 →  13.73 ( 7.15e-03), res:  6.52e-02, β= 3.69e-02, α = 1.000, ΔJ = 3.872e-03\n",
      "Iter: 459, Cost:  13.73 →  13.73 ( 1.31e-03), res:  1.22e-01, β= 1.66e-02, α = 0.250, ΔJ = 4.019e-03\n",
      "Iter: 460, Cost:  13.73 →  13.73 ( 4.60e-05), res:  2.38e-01, β= 7.47e-03, α = 0.008, ΔJ = 4.845e-03\n"
     ]
    },
    {
     "output_type": "stream",
     "name": "stdout",
     "text": [
      "Iter: 461, Cost:  13.73 →  13.73 ( 1.24e-03), res:  4.97e-01, β= 3.36e-03, α = 1.000, ΔJ = 8.871e-03\n",
      "Iter: 462, Cost:  13.73 →  13.73 ( 6.40e-04), res:  2.44e+00, β= 1.51e-03, α = 0.062, ΔJ = 5.949e-02\n",
      "Iter: 463, Cost:  13.73 →  13.72 ( 2.53e-03), res:  2.34e+00, β= 6.81e-04, α = 0.250, ΔJ = 3.733e-02\n",
      "Iter: 464, Cost:  13.72 →  13.72 ( 1.31e-03), res:  6.90e+00, β= 3.06e-04, α = 0.008, ΔJ = 2.289e-01\n",
      "Iter: 465, Cost:  13.72 →  13.72 ( 3.29e-04), res:  1.18e+01, β= 1.38e-04, α = 0.016, ΔJ = 3.221e-01\n",
      "Iter: 466, Cost:  13.72 →  13.72 ( 1.57e-04), res:  1.24e+01, β= 6.21e-05, α = 0.002, ΔJ = 3.541e-01\n",
      "Iter: 467, Cost:  13.72 →  13.72 ( 3.92e-03), res:  2.50e+01, β= 2.79e-05, α = 0.016, ΔJ = 5.548e-01\n",
      "Iter: 468, Cost:  13.72 →  13.72 ( 8.71e-06), res:  3.29e+01, β= 9.00e-01, α = 0.000, ΔJ = 1.253e+00\n"
     ]
    },
    {
     "output_type": "stream",
     "name": "stdout",
     "text": [
      "Iter: 469, Cost:  13.72 →  13.71 ( 6.71e-03), res:  4.70e-02, β= 4.05e-01, α = 1.000, ΔJ = 7.181e-03\n",
      "Iter: 470, Cost:  13.71 →  13.71 ( 5.04e-03), res:  5.37e-02, β= 1.82e-01, α = 1.000, ΔJ = 5.852e-03\n",
      "Iter: 471, Cost:  13.71 →  13.70 ( 2.69e-03), res:  6.21e-02, β= 8.20e-02, α = 1.000, ΔJ = 3.235e-03\n",
      "Iter: 472, Cost:  13.70 →  13.70 ( 1.81e-03), res:  5.99e-02, β= 3.69e-02, α = 1.000, ΔJ = 2.324e-03\n",
      "Iter: 473, Cost:  13.70 →  13.70 ( 6.42e-04), res:  1.17e-01, β= 1.66e-02, α = 1.000, ΔJ = 3.015e-03\n",
      "Iter: 474, Cost:  13.70 →  13.70 ( 1.98e-04), res:  2.30e-01, β= 7.47e-03, α = 1.000, ΔJ = 7.652e-03\n"
     ]
    },
    {
     "output_type": "stream",
     "name": "stdout",
     "text": [
      "Iter: 475, Cost:  13.70 →  13.70 ( 2.44e-03), res:  8.31e-01, β= 3.36e-03, α = 0.125, ΔJ = 2.240e-02\n",
      "Iter: 476, Cost:  13.70 →  13.70 ( 5.82e-04), res:  1.10e+00, β= 1.51e-03, α = 0.031, ΔJ = 2.371e-02\n",
      "Iter: 477, Cost:  13.70 →  13.70 (-5.07e-03), res:  2.25e+00, β= 9.00e-01, α = 0.000, ΔJ = 3.799e-02\n",
      "Iter: 478, Cost:  13.70 →  13.70 ( 1.96e-04), res:  1.98e-02, β= 4.05e-01, α = 0.125, ΔJ = 1.019e-03\n",
      "Iter: 479, Cost:  13.70 →  13.70 ( 3.03e-05), res:  3.71e-02, β= 1.82e-01, α = 0.016, ΔJ = 1.395e-03\n",
      "Iter: 480, Cost:  13.70 →  13.70 ( 1.57e-03), res:  6.54e-02, β= 8.20e-02, α = 1.000, ΔJ = 2.074e-03\n",
      "Iter: 481, Cost:  13.70 →  13.70 ( 4.22e-04), res:  8.30e-02, β= 3.69e-02, α = 0.500, ΔJ = 7.406e-03\n",
      "Iter: 482, Cost:  13.70 →  13.70 ( 5.32e-03), res:  1.07e-01, β= 1.66e-02, α = 1.000, ΔJ = 2.479e-03\n"
     ]
    },
    {
     "output_type": "stream",
     "name": "stdout",
     "text": [
      "Iter: 483, Cost:  13.70 →  13.69 ( 1.28e-03), res:  4.26e-01, β= 7.47e-03, α = 0.250, ΔJ = 9.366e-03\n",
      "Iter: 484, Cost:  13.69 →  13.69 ( 6.00e-04), res:  4.47e-01, β= 3.36e-03, α = 0.062, ΔJ = 8.433e-03\n",
      "Iter: 485, Cost:  13.69 →  13.69 ( 2.76e-04), res:  9.44e-01, β= 1.51e-03, α = 0.016, ΔJ = 1.649e-02\n",
      "Iter: 486, Cost:  13.69 →  13.69 ( 7.00e-05), res:  1.96e+00, β= 6.81e-04, α = 0.002, ΔJ = 3.459e-02\n",
      "Iter: 487, Cost:  13.69 →  13.70 (-4.99e-03), res:  3.90e+00, β= 9.00e-01, α = 0.000, ΔJ = 7.340e-02\n",
      "Iter: 488, Cost:  13.70 →  13.70 ( 8.01e-04), res:  7.90e-03, β= 4.05e-01, α = 1.000, ΔJ = 8.767e-04\n"
     ]
    },
    {
     "output_type": "stream",
     "name": "stdout",
     "text": [
      "Total Time: 7495.491043 ms\n"
     ]
    }
   ],
   "metadata": {}
  },
  {
   "cell_type": "code",
   "execution_count": 26,
   "source": [
    "@testset \"Part f\" begin                                                                     # POINTS = 3\n",
    "    @test norm(RBState(prob.model,Xfull[end]) ⊖ RBState(prob.model,Xref_full[end])) < 0.5\n",
    "    @test cost(prob.obj, Xfull, Ufull) < 14.5\n",
    "    let prob = prob, X=Xfull, U=Ufull\n",
    "        n,m,N = size(prob)\n",
    "        p = [zeros(n-1) for k = 1:N]              # ctg gradient\n",
    "        P = [zeros(n-1,n-1) for k = 1:N]          # ctg hessian\n",
    "        d = [zeros(m) for k = 1:N-1]              # feedforward gains\n",
    "        K = [zeros(m,n-1) for k = 1:N-1]          # feedback gains\n",
    "        ΔJ, = backwardpass!(prob, P, p, K, d, X, U, β=1.0)\n",
    "        @test ΔJ < 1.0                                                                      # POINTS = 1\n",
    "        @test norm(d) < 1.0                                                                 # POINTS = 2\n",
    "    end\n",
    "end;"
   ],
   "outputs": [
    {
     "output_type": "stream",
     "name": "stdout",
     "text": [
      "\u001b[0m\u001b[1mTest Summary: | \u001b[22m\u001b[32m\u001b[1mPass  \u001b[22m\u001b[39m\u001b[36m\u001b[1mTotal\u001b[22m\u001b[39m\n",
      "Part f        | \u001b[32m   4  \u001b[39m\u001b[36m    4\u001b[39m\n"
     ]
    }
   ],
   "metadata": {}
  }
 ],
 "metadata": {
  "@webio": {
   "lastCommId": null,
   "lastKernelId": null
  },
  "kernelspec": {
   "display_name": "Julia 1.6.5",
   "language": "julia",
   "name": "julia-1.6"
  },
  "language_info": {
   "name": "julia",
   "version": "1.6.5",
   "mimetype": "application/julia",
   "file_extension": ".jl"
  }
 },
 "nbformat": 4,
 "nbformat_minor": 4
}