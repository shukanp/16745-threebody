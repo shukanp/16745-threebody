{
 "cells": [
  {
   "cell_type": "code",
   "execution_count": 1,
   "source": [
    "import Pkg; Pkg.activate(joinpath(@__DIR__,\"..\")); Pkg.instantiate()\n",
    "using LinearAlgebra\n",
    "using ForwardDiff\n",
    "using RobotZoo\n",
    "using RobotDynamics\n",
    "using Ipopt\n",
    "using MathOptInterface\n",
    "using TrajOptPlots\n",
    "const MOI = MathOptInterface\n",
    "using Random\n",
    "using Test\n",
    "include(\"quadratic_cost.jl\")\n",
    "include(\"walker.jl\")\n",
    "include(\"sparseblocks.jl\")\n",
    "include(\"utils.jl\")\n",
    "const isautograder = @isdefined autograder;"
   ],
   "outputs": [
    {
     "output_type": "stream",
     "name": "stderr",
     "text": [
      "\u001b[32m\u001b[1m  Activating\u001b[22m\u001b[39m environment at `~/Desktop/OptimalC/Homeworks/homework4-afariach/Project.toml`\n"
     ]
    }
   ],
   "metadata": {}
  },
  {
   "cell_type": "markdown",
   "source": [
    "![](../walker.gif)"
   ],
   "metadata": {}
  },
  {
   "cell_type": "markdown",
   "source": [
    "# Q2: Hybrid Trajectory Optimization  (40 pts)\n",
    "In this problem you'll use a direct method to optimize a walking trajectory for a simple biped model, using the hybrid dynamics formulation. You'll pre-specify a gait sequence and solve the problem using Ipopt, a high-quality open-source interior point nonlinear programming solver (actually developed here at CMU!). Your final solution should look like the video above.\n",
    "\n",
    "## The Dynamics\n",
    "Our system is modeled as three point masses: one for the body and one for each foot. The state is defined as the x and y positions and velocities of these masses, for a total of 6 degrees of freedom and 12 states. The legs are connected to the body with prismatic joints. The system has three control inputs: a force along each leg, and the torque between the legs.\n",
    "Reference the code block below for a quick overview of the API we've implemented for you. You're encouraged to look at the code in [src/walker.jl](https://github.com/Optimal-Control-16-745/hw4_solutions/blob/master/src/walker.jlhttps://github.com/Optimal-Control-16-745/hw4_solutions/blob/master/src/walker.jl).\n",
    "\n",
    "The state and control vectors are ordered as follows:\n",
    "\n",
    "$$ x = \\begin{bmatrix} \n",
    "    p_x^{(b)} \\\\ p_y^{(b)} \\\\ p_x^{(1)} \\\\ p_y^{(1)} \\\\ p_x^{(2)} \\\\ p_y^{(2)} \\\\\n",
    "    v_x^{(b)} \\\\ v_y^{(b)} \\\\ v_x^{(1)} \\\\ v_y^{(1)} \\\\ v_x^{(2)} \\\\ v_y^{(2)} \\\\\n",
    "\\end{bmatrix} \\quad\n",
    "u = \\begin{bmatrix} F^{(1)} \\\\ F^{(2)} \\\\ \\tau \\end{bmatrix}\n",
    "$$\n",
    "where e.g. $p_x^{(b)}$ is the $x$ position of the body, $v_y^{(i)}$ is the $y$ velocity of foot $i$, $F^{(i)}$ is the force along leg $i$, and $\\tau$ is the torque between the legs."
   ],
   "metadata": {}
  },
  {
   "cell_type": "code",
   "execution_count": 2,
   "source": [
    "model = SimpleWalker()\n",
    "x,u = rand(model)  # generate some random states and controls\n",
    "dt = 0.1\n",
    "\n",
    "# evaluate the discrete dynamics using RK4\n",
    "stance1_dynamics_rk4(model, x, u, dt)\n",
    "stance2_dynamics_rk4(model, x, u, dt)\n",
    "\n",
    "# jump maps\n",
    "jump1_map(x)\n",
    "jump2_map(x)\n",
    "\n",
    "# evaluate the discrete dynamics Jacobians\n",
    "stance1_jacobian(model, x, u, dt)\n",
    "stance2_jacobian(model, x, u, dt)\n",
    "\n",
    "# jump map Jacobian\n",
    "jump1_jacobian()\n",
    "jump2_jacobian();\n",
    "\n",
    "# visualizer\n",
    "x = zeros(12)\n",
    "x[2] = 1\n",
    "if !isautograder\n",
    "    vis = Visualizer()\n",
    "    set_mesh!(vis, model)\n",
    "    visualize!(vis, model, SVector{12}(x))\n",
    "    render(vis)\n",
    "end"
   ],
   "outputs": [
    {
     "output_type": "stream",
     "name": "stderr",
     "text": [
      "┌ Info: MeshCat server started. You can open the visualizer by visiting the following URL in your browser:\n",
      "│ http://127.0.0.1:8704\n",
      "└ @ MeshCat /Users/Augusto/.julia/packages/MeshCat/GlCMx/src/visualizer.jl:73\n"
     ]
    },
    {
     "data": {
      "text/html": [
       "    <div style=\"height: 500px; width: 100%; overflow-x: auto; overflow-y: hidden; resize: both\">\n",
       "    <iframe src=\"http://127.0.0.1:8704\" style=\"width: 100%; height: 100%; border: none\"></iframe>\n",
       "    </div>\n"
      ],
      "text/plain": [
       "MeshCat.DisplayedVisualizer(MeshCat.CoreVisualizer(MeshCat.SceneTrees.SceneNode(nothing, nothing, Dict{String, Vector{UInt8}}(), nothing, Dict{String, MeshCat.SceneTrees.SceneNode}(\"meshcat\" => MeshCat.SceneTrees.SceneNode(nothing, nothing, Dict{String, Vector{UInt8}}(), nothing, Dict{String, MeshCat.SceneTrees.SceneNode}(\"robot\" => MeshCat.SceneTrees.SceneNode(nothing, nothing, Dict{String, Vector{UInt8}}(), nothing, Dict{String, MeshCat.SceneTrees.SceneNode}(\"Rfoot\" => MeshCat.SceneTrees.SceneNode(nothing, UInt8[0x83, 0xa6, 0x6d, 0x61, 0x74, 0x72, 0x69, 0x78, 0xc7, 0x40  …  0x6f, 0x62, 0x6f, 0x74, 0x2f, 0x52, 0x66, 0x6f, 0x6f, 0x74], Dict{String, Vector{UInt8}}(), nothing, Dict{String, MeshCat.SceneTrees.SceneNode}(\"geom\" => MeshCat.SceneTrees.SceneNode(UInt8[0x83, 0xa6, 0x6f, 0x62, 0x6a, 0x65, 0x63, 0x74, 0x84, 0xaa  …  0x52, 0x66, 0x6f, 0x6f, 0x74, 0x2f, 0x67, 0x65, 0x6f, 0x6d], UInt8[0x83, 0xa6, 0x6d, 0x61, 0x74, 0x72, 0x69, 0x78, 0xc7, 0x40  …  0x52, 0x66, 0x6f, 0x6f, 0x74, 0x2f, 0x67, 0x65, 0x6f, 0x6d], Dict{String, Vector{UInt8}}(), nothing, Dict{String, MeshCat.SceneTrees.SceneNode}()))), \"torso\" => MeshCat.SceneTrees.SceneNode(nothing, UInt8[0x83, 0xa6, 0x6d, 0x61, 0x74, 0x72, 0x69, 0x78, 0xc7, 0x40  …  0x6f, 0x62, 0x6f, 0x74, 0x2f, 0x74, 0x6f, 0x72, 0x73, 0x6f], Dict{String, Vector{UInt8}}(), nothing, Dict{String, MeshCat.SceneTrees.SceneNode}(\"body\" => MeshCat.SceneTrees.SceneNode(UInt8[0x83, 0xa6, 0x6f, 0x62, 0x6a, 0x65, 0x63, 0x74, 0x84, 0xaa  …  0x74, 0x6f, 0x72, 0x73, 0x6f, 0x2f, 0x62, 0x6f, 0x64, 0x79], nothing, Dict{String, Vector{UInt8}}(), nothing, Dict{String, MeshCat.SceneTrees.SceneNode}()), \"Laxle\" => MeshCat.SceneTrees.SceneNode(UInt8[0x83, 0xa6, 0x6f, 0x62, 0x6a, 0x65, 0x63, 0x74, 0x84, 0xaa  …  0x6f, 0x72, 0x73, 0x6f, 0x2f, 0x4c, 0x61, 0x78, 0x6c, 0x65], UInt8[0x83, 0xa6, 0x6d, 0x61, 0x74, 0x72, 0x69, 0x78, 0xc7, 0x40  …  0x6f, 0x72, 0x73, 0x6f, 0x2f, 0x4c, 0x61, 0x78, 0x6c, 0x65], Dict{String, Vector{UInt8}}(), nothing, Dict{String, MeshCat.SceneTrees.SceneNode}()), \"Lleg\" => MeshCat.SceneTrees.SceneNode(nothing, UInt8[0x83, 0xa6, 0x6d, 0x61, 0x74, 0x72, 0x69, 0x78, 0xc7, 0x40  …  0x74, 0x6f, 0x72, 0x73, 0x6f, 0x2f, 0x4c, 0x6c, 0x65, 0x67], Dict{String, Vector{UInt8}}(), nothing, Dict{String, MeshCat.SceneTrees.SceneNode}(\"geom\" => MeshCat.SceneTrees.SceneNode(UInt8[0x83, 0xa6, 0x6f, 0x62, 0x6a, 0x65, 0x63, 0x74, 0x84, 0xaa  …  0x2f, 0x4c, 0x6c, 0x65, 0x67, 0x2f, 0x67, 0x65, 0x6f, 0x6d], UInt8[0x83, 0xa6, 0x6d, 0x61, 0x74, 0x72, 0x69, 0x78, 0xc7, 0x40  …  0x2f, 0x4c, 0x6c, 0x65, 0x67, 0x2f, 0x67, 0x65, 0x6f, 0x6d], Dict{String, Vector{UInt8}}(), nothing, Dict{String, MeshCat.SceneTrees.SceneNode}()))), \"Rleg\" => MeshCat.SceneTrees.SceneNode(nothing, UInt8[0x83, 0xa6, 0x6d, 0x61, 0x74, 0x72, 0x69, 0x78, 0xc7, 0x40  …  0x74, 0x6f, 0x72, 0x73, 0x6f, 0x2f, 0x52, 0x6c, 0x65, 0x67], Dict{String, Vector{UInt8}}(), nothing, Dict{String, MeshCat.SceneTrees.SceneNode}(\"geom\" => MeshCat.SceneTrees.SceneNode(UInt8[0x83, 0xa6, 0x6f, 0x62, 0x6a, 0x65, 0x63, 0x74, 0x84, 0xaa  …  0x2f, 0x52, 0x6c, 0x65, 0x67, 0x2f, 0x67, 0x65, 0x6f, 0x6d], UInt8[0x83, 0xa6, 0x6d, 0x61, 0x74, 0x72, 0x69, 0x78, 0xc7, 0x40  …  0x2f, 0x52, 0x6c, 0x65, 0x67, 0x2f, 0x67, 0x65, 0x6f, 0x6d], Dict{String, Vector{UInt8}}(), nothing, Dict{String, MeshCat.SceneTrees.SceneNode}()))), \"Raxle\" => MeshCat.SceneTrees.SceneNode(UInt8[0x83, 0xa6, 0x6f, 0x62, 0x6a, 0x65, 0x63, 0x74, 0x84, 0xaa  …  0x6f, 0x72, 0x73, 0x6f, 0x2f, 0x52, 0x61, 0x78, 0x6c, 0x65], UInt8[0x83, 0xa6, 0x6d, 0x61, 0x74, 0x72, 0x69, 0x78, 0xc7, 0x40  …  0x6f, 0x72, 0x73, 0x6f, 0x2f, 0x52, 0x61, 0x78, 0x6c, 0x65], Dict{String, Vector{UInt8}}(), nothing, Dict{String, MeshCat.SceneTrees.SceneNode}()))), \"Lfoot\" => MeshCat.SceneTrees.SceneNode(nothing, UInt8[0x83, 0xa6, 0x6d, 0x61, 0x74, 0x72, 0x69, 0x78, 0xc7, 0x40  …  0x6f, 0x62, 0x6f, 0x74, 0x2f, 0x4c, 0x66, 0x6f, 0x6f, 0x74], Dict{String, Vector{UInt8}}(), nothing, Dict{String, MeshCat.SceneTrees.SceneNode}(\"geom\" => MeshCat.SceneTrees.SceneNode(UInt8[0x83, 0xa6, 0x6f, 0x62, 0x6a, 0x65, 0x63, 0x74, 0x84, 0xaa  …  0x4c, 0x66, 0x6f, 0x6f, 0x74, 0x2f, 0x67, 0x65, 0x6f, 0x6d], UInt8[0x83, 0xa6, 0x6d, 0x61, 0x74, 0x72, 0x69, 0x78, 0xc7, 0x40  …  0x4c, 0x66, 0x6f, 0x6f, 0x74, 0x2f, 0x67, 0x65, 0x6f, 0x6d], Dict{String, Vector{UInt8}}(), nothing, Dict{String, MeshCat.SceneTrees.SceneNode}()))))))))), Set{Any}(), ip\"127.0.0.1\", 8704))"
      ]
     },
     "metadata": {},
     "output_type": "display_data"
    }
   ],
   "metadata": {}
  },
  {
   "cell_type": "markdown",
   "source": [
    "## The Problem Formulation\n",
    "The trajectory optimization problem we're solving has the following form:\n",
    "\n",
    "$$\n",
    "\\begin{aligned}\n",
    "&\\text{minimize} && \\frac{1}{2} (x_N - \\bar{x}_N)^T Q_N (x_N - \\bar{x}) + \n",
    "\\frac{1}{2}\\sum_{k=1}^{N-1} (x_k - \\bar{x}_k)^T Q (x_k - \\bar{x}_k) + (u_k - \\bar{u}_k)^T R_k (u_k - \\bar{u}_k) \\\\\n",
    "&\\text{subject to} && x_1 = x_\\text{init} \\\\\n",
    "                  &&& x_N = x_\\text{goal} \\\\\n",
    "                  &&& f_1(x_k,u_k) = x_{k+1}, && \\forall k \\in \\mathcal{M}_1 \\setminus \\mathcal{J}_1 \\\\\n",
    "                  &&& f_2(x_k,u_k) = x_{k+1}, && \\forall k \\in \\mathcal{M}_2 \\setminus \\mathcal{J}_2 \\\\\n",
    "                  &&& g_2(f_1(x_k,u_k)) = x_{k+1}, && \\forall k \\in \\mathcal{J}_1 \\\\\n",
    "                  &&& g_1(f_2(x_k,u_k)) = x_{k+1}, && \\forall k \\in \\mathcal{J}_2 \\\\\n",
    "                  &&& y^{(1)}_k = 0, && \\forall k \\in \\mathcal{M}_1 \\\\\n",
    "                  &&& y^{(2)}_k = 0, && \\forall k \\in \\mathcal{M}_2 \\\\\n",
    "                  &&& 0.5 < ||r^{(b)}_k - r^{(i)}_k|| < 1.5, && \\forall k \\in \\mathcal{M}_i, \\; i \\in \\{1,2\\} \\\\\n",
    "\\end{aligned} \n",
    "$$\n",
    "where $\\bar{x}$ and $\\bar{u}$ are reference states and controls. The first 2 constraints are the initial and terminal constraints, and the last constraint is a bound on the length of the prismatic leg joints.\n",
    "\n",
    "The other constraints encode the hybrid dynamics. For this problem we have 2 different \"modes,\" each corresponding to when one foot is on the ground (we don't consider the cases when both or neither feet are on the ground). Every knot point is assigned either to $\\mathcal{M}_1$ or $\\mathcal{M}_2$, but not both. To simplify our problem and obtain a nice, even walking gait, we'll assign $M$ adjacent time steps to the one mode, and then alternate. For a trajectory of 45 time steps, we'll have:\n",
    "$$\n",
    "\\mathcal{M}_1 = \\{1\\text{:}5,11\\text{:}15,21\\text{:}25,31\\text{:}35,41\\text{:}45\\} \\\\\n",
    "\\mathcal{M}_2 = \\{6\\text{:}10,16\\text{:}20,26\\text{:}30,36\\text{:}40\\}\n",
    "$$\n",
    "\n",
    "The jump map sets $\\mathcal{J}_1$ and $\\mathcal{J}_2$ are the indices where the mode of the next time step is different than the current, i.e. $\\mathcal{J}_i \\equiv \\{k+1 \\notin \\mathcal{M}_i \\; | \\; k \\in \\mathcal{M}_i\\}$. \n",
    "\n",
    "Lastly, constraints 7 and 8 are \"stance\" constraints that require that the height of the foot is zero for the corresponding mode."
   ],
   "metadata": {}
  },
  {
   "cell_type": "markdown",
   "source": [
    "## Part (a): Setting up the NLP (3 pts)\n",
    "As a first step, we'll set up the variables we'll need to evaluate our constraints (we've already implemented the cost functions for you). Your constraints should be ordered as follows:\n",
    "\n",
    "$$ \\begin{bmatrix}\n",
    "c_\\text{init} \\\\\n",
    "c_\\text{goal} \\\\\n",
    "c_\\text{dynamics} \\\\\n",
    "c_\\text{stance} \\\\\n",
    "c_\\text{length} \\\\\n",
    "\\end{bmatrix}$$\n",
    "which are of length $n$, $n$, $Nn + (N-1)m$, $N$, and $2N$, respectively. The dynamics, stance, and length constraints should be ordered by time step."
   ],
   "metadata": {}
  },
  {
   "cell_type": "code",
   "execution_count": 3,
   "source": [
    "# TASK: Complete the constructor for the HybridNLP type (3 pts)\n",
    "\n",
    "\"\"\"\n",
    "    HybridNLP{n,m,L,Q}\n",
    "\n",
    "Represents a (N)on(L)inear (P)rogram of a trajectory optimization problem,\n",
    "with a dynamics model of type `L`, a quadratic cost function, horizon `T`, \n",
    "and initial and final state `x0`, `xf`.\n",
    "\n",
    "The kth state and control can be extracted from the concatenated state vector `Z` using\n",
    "`Z[nlp.xinds[k]]`, and `Z[nlp.uinds[k]]`.\n",
    "\n",
    "# Constructor\n",
    "    HybridNLP(model, obj, tf, N, M, x0, xf, [integration])\n",
    "\n",
    "# Basic Methods\n",
    "    Base.size(nlp)    # returns (n,m,T)\n",
    "    num_ineq(nlp)     # number of inequality constraints\n",
    "    num_eq(nlp)       # number of equality constraints\n",
    "    num_primals(nlp)  # number of primal variables\n",
    "    num_duals(nlp)    # total number of dual variables\n",
    "    packZ(nlp, X, U)  # Stacks state `X` and controls `U` into one vector `Z`\n",
    "\n",
    "# Evaluating the NLP\n",
    "The NLP supports the following API for evaluating various pieces of the NLP:\n",
    "\n",
    "    eval_f(nlp, Z)         # evaluate the objective\n",
    "    grad_f!(nlp, grad, Z)  # gradient of the objective\n",
    "    eval_c!(nlp, c, Z)     # evaluate the constraints\n",
    "    jac_c!(nlp, c, Z)      # constraint Jacobian\n",
    "\"\"\"\n",
    "struct HybridNLP{n,m,L,Q} <: MOI.AbstractNLPEvaluator\n",
    "    model::L                                 # dynamics model\n",
    "    obj::Vector{QuadraticCost{n,m,Float64}}  # objective function\n",
    "    N::Int                                   # number of knot points\n",
    "    M::Int                                   # number of steps in each mode\n",
    "    Nmodes::Int                              # number of modes\n",
    "    tf::Float64                              # total time (sec)\n",
    "    x0::MVector{n,Float64}                   # initial condition\n",
    "    xf::MVector{n,Float64}                   # final condition\n",
    "    times::Vector{Float64}                   # vector of times\n",
    "    modes::Vector{Int}                       # mode ID\n",
    "    xinds::Vector{SVector{n,Int}}            # Z[xinds[k]] gives states for time step k\n",
    "    uinds::Vector{SVector{m,Int}}            # Z[uinds[k]] gives controls for time step k\n",
    "    cinds::Vector{UnitRange{Int}}            # indices for each of the constraints\n",
    "    lb::Vector{Float64}                      # lower bounds on the constraints\n",
    "    ub::Vector{Float64}                      # upper bounds on the constraints\n",
    "    zL::Vector{Float64}                      # lower bounds on the primal variables\n",
    "    zU::Vector{Float64}                      # upper bounds on the primal variables\n",
    "    rows::Vector{Int}                        # rows for Jacobian sparsity\n",
    "    cols::Vector{Int}                        # columns for Jacobian sparsity\n",
    "    use_sparse_jacobian::Bool\n",
    "    blocks::BlockViews\n",
    "    function HybridNLP(model, obj::Vector{<:QuadraticCost{n,m}},\n",
    "            tf::Real, N::Integer, M::Integer, x0::AbstractVector, xf::AbstractVector, \n",
    "            integration::Type{<:QuadratureRule}=RK4; use_sparse_jacobian::Bool=false\n",
    "        ) where {n,m}\n",
    "        # Create indices\n",
    "        xinds = [SVector{n}((k-1)*(n+m) .+ (1:n)) for k = 1:N]\n",
    "        uinds = [SVector{m}((k-1)*(n+m) .+ (n+1:n+m)) for k = 1:N-1]\n",
    "        times = collect(range(0, tf, length=N))\n",
    "        \n",
    "        # Specify the mode sequence\n",
    "        modes = map(1:N) do k\n",
    "            isodd((k-1) ÷ M + 1) ? 1 : 2\n",
    "        end\n",
    "        Nmodes = Int(ceil(N/M))\n",
    "        \n",
    "        # TODO: specify the constraint indices\n",
    "        c_init_inds = 1:n          # initial constraint #n = 12 \n",
    "        c_term_inds = n+1:2*n          # terminal constraint #13:24\n",
    "        c_dyn_inds = 2*n+1:(N-1)*n+2*n           # dynamics constraints # 25:552\n",
    "        c_stance_inds =(N-1)*n+2*n+1:N+(N-1)*n+2*n         # stance constraint (1 per time step) 553:597\n",
    "        c_length_inds = N+(N-1)*n+2*n+1:N+(N-1)*n+2*n+2*N        # length bounds  598:687   (2 per time step)\n",
    "        \n",
    "        m_nlp = c_length_inds.stop                                           # total number of constraints\n",
    "        \n",
    "        # TODO: specify the bounds on the constraints\n",
    "        lb = fill(0.0,m_nlp)                                                # lower bounds on the constraints\n",
    "        lb[c_length_inds] .= 0.5\n",
    "        ub = fill(0.0,m_nlp)                                                # upper bounds on the constraints\n",
    "        ub[c_length_inds] .= 1.5\n",
    "\n",
    "        # Other initialization\n",
    "        cinds = [c_init_inds, c_term_inds, c_dyn_inds, c_stance_inds, c_length_inds]\n",
    "        n_nlp = n*N + (N-1)*m\n",
    "        zL = fill(-Inf, n_nlp)\n",
    "        zU = fill(+Inf, n_nlp)\n",
    "        rows = Int[]\n",
    "        cols = Int[]\n",
    "        blocks = BlockViews(m_nlp, n_nlp)\n",
    "        \n",
    "        new{n,m,typeof(model), integration}(\n",
    "            model, obj,\n",
    "            N, M, Nmodes, tf, x0, xf, times, modes,\n",
    "            xinds, uinds, cinds, lb, ub, zL, zU, rows, cols, use_sparse_jacobian, blocks\n",
    "        )\n",
    "    end\n",
    "end\n",
    "Base.size(nlp::HybridNLP{n,m}) where {n,m} = (n,m,nlp.N)\n",
    "num_primals(nlp::HybridNLP{n,m}) where {n,m} = n*nlp.N + m*(nlp.N-1)\n",
    "num_duals(nlp::HybridNLP) = nlp.cinds[end][end]\n",
    "\n",
    "\"\"\"\n",
    "    packZ(nlp, X, U)\n",
    "\n",
    "Take a vector state vectors `X` and controls `U` and stack them into a single vector Z.\n",
    "\"\"\"\n",
    "function packZ(nlp, X, U)\n",
    "    Z = zeros(num_primals(nlp))\n",
    "    for k = 1:nlp.N-1\n",
    "        Z[nlp.xinds[k]] = X[k]\n",
    "        Z[nlp.uinds[k]] = U[k]\n",
    "    end\n",
    "    Z[nlp.xinds[end]] = X[end]\n",
    "    return Z\n",
    "end\n",
    "\n",
    "\"\"\"\n",
    "    unpackZ(nlp, Z)\n",
    "\n",
    "Take a vector of all the states and controls and return a vector of state vectors `X` and\n",
    "controls `U`.\n",
    "\"\"\"\n",
    "function unpackZ(nlp, Z)\n",
    "    X = [Z[xi] for xi in nlp.xinds]\n",
    "    U = [Z[ui] for ui in nlp.uinds]\n",
    "    return X, U\n",
    "end\n",
    "\n",
    "function TrajOptPlots.visualize!(vis, nlp::HybridNLP, Z)\n",
    "    TrajOptPlots.visualize!(vis, nlp.model, nlp.tf, unpackZ(nlp, Z)[1])\n",
    "end\n",
    "\n",
    "# includes the interface to Ipopt\n",
    "include(\"moi.jl\")"
   ],
   "outputs": [
    {
     "data": {
      "text/plain": [
       "solve"
      ]
     },
     "metadata": {},
     "output_type": "display_data"
    }
   ],
   "metadata": {}
  },
  {
   "cell_type": "code",
   "execution_count": 4,
   "source": [
    "@testset \"Q2a\" begin                                               # POINTS = 3\n",
    "    # Dynamics model\n",
    "    model = SimpleWalker()\n",
    "\n",
    "    # Discretization\n",
    "    tf = 4.4\n",
    "    dt = 0.1\n",
    "    N = Int(ceil(tf/dt)) + 1\n",
    "    M = 5\n",
    "    times = range(0,tf, length=N);\n",
    "\n",
    "    # Reference Trajectory\n",
    "    n,m = size(model)\n",
    "    Xref = [zeros(n) for k = 1:N]\n",
    "    Uref = [zeros(m) for k = 1:N-1]\n",
    "\n",
    "    # Objective\n",
    "    Random.seed!(1)\n",
    "    Q = Diagonal([1; 10; fill(1.0, 4); 1; 10; fill(1.0, 4)]);\n",
    "    R = Diagonal(fill(1e-3,3))\n",
    "    Qf = Q;\n",
    "    obj = map(1:N-1) do k\n",
    "        LQRCost(Q,R,Xref[k],Uref[k])\n",
    "    end\n",
    "    push!(obj, LQRCost(Qf, R*0, Xref[N], Uref[1]))\n",
    "\n",
    "    # Define the NLP\n",
    "    nlp = HybridNLP(model, obj, tf, N, M, Xref[1], Xref[end]);\n",
    "    \n",
    "    @test length(nlp.cinds[1]) == 12                              # POINTS = 0.5\n",
    "    @test length(nlp.cinds[2]) == 12                              # POINTS = 0.5\n",
    "    @test length(nlp.cinds[3]) == 528                             # POINTS = 0.5\n",
    "    @test length(nlp.cinds[4]) == 45                              # POINTS = 0.5\n",
    "    @test length(nlp.cinds[5]) == 90                              # POINTS = 0.5\n",
    "    @test nlp.cinds[end][end] == 687                              # POINTS = 0.5\n",
    "    \n",
    "    # NOTE: we're not checking the upper and lower bounds (hard to do without giving away the answer), \n",
    "    #       so make sure they're right!\n",
    "end;"
   ],
   "outputs": [
    {
     "output_type": "stream",
     "name": "stdout",
     "text": [
      "\u001b[0m\u001b[1mTest Summary: | \u001b[22m\u001b[32m\u001b[1mPass  \u001b[22m\u001b[39m\u001b[36m\u001b[1mTotal\u001b[22m\u001b[39m\n",
      "Q2a           | \u001b[32m   6  \u001b[39m\u001b[36m    6\u001b[39m"
     ]
    },
    {
     "output_type": "stream",
     "name": "stdout",
     "text": [
      "\n"
     ]
    }
   ],
   "metadata": {}
  },
  {
   "cell_type": "markdown",
   "source": [
    "## Costs (provided)"
   ],
   "metadata": {}
  },
  {
   "cell_type": "code",
   "execution_count": 5,
   "source": [
    "\"\"\"\n",
    "    eval_f(nlp, Z)\n",
    "\n",
    "Evaluate the objective, returning a scalar.\n",
    "\"\"\"\n",
    "function eval_f(nlp::HybridNLP, Z)\n",
    "    J = 0.0\n",
    "    xi,ui = nlp.xinds, nlp.uinds\n",
    "    for k = 1:nlp.N-1\n",
    "        x,u = Z[xi[k]], Z[ui[k]]\n",
    "        J += stagecost(nlp.obj[k], x, u)\n",
    "    end\n",
    "    J += termcost(nlp.obj[end], Z[xi[end]])\n",
    "    return J\n",
    "end\n",
    "\n",
    "\"\"\"\n",
    "    grad_f!(nlp, grad, Z)\n",
    "\n",
    "Evaluate the gradient of the objective at `Z`, storing the result in `grad`.\n",
    "\"\"\"\n",
    "function grad_f!(nlp::HybridNLP{n,m}, grad, Z) where {n,m}\n",
    "    xi,ui = nlp.xinds, nlp.uinds\n",
    "    obj = nlp.obj\n",
    "    for k = 1:nlp.N-1\n",
    "        x,u = Z[xi[k]], Z[ui[k]]\n",
    "        grad[xi[k]] = obj[k].Q*x + obj[k].q\n",
    "        grad[ui[k]] = obj[k].R*u + obj[k].r\n",
    "    end\n",
    "    grad[xi[end]] = obj[end].Q*Z[xi[end]] + obj[end].q\n",
    "    return nothing\n",
    "end"
   ],
   "outputs": [
    {
     "data": {
      "text/plain": [
       "grad_f!"
      ]
     },
     "metadata": {},
     "output_type": "display_data"
    }
   ],
   "metadata": {}
  },
  {
   "cell_type": "markdown",
   "source": [
    "## Part (b): Reference Trajectory (3 pts)\n",
    "A good reference trajectory is often critical for trajectory optimization. Design a reference trajectory that just translates the walker from the start to the finish (remember to make the velocities consistent with your state trajectory). The height of the body should be 1m off the ground, and the feet should have a height of zero. The robot should start at a x location of -1.5m and end at 1.5m."
   ],
   "metadata": {}
  },
  {
   "cell_type": "code",
   "execution_count": 6,
   "source": [
    "# TASK: complete the follow function (3 pts)\n",
    "\"\"\"\n",
    "    reference_trajectory(model, times)\n",
    "\n",
    "Return a reference trajectory that translates the walker from an x position of `xinit` to `xterm`,\n",
    "with a nominal body height of `height` meters.\n",
    "\"\"\"\n",
    "function reference_trajectory(model::SimpleWalker, times;\n",
    "        xinit = -1.5,\n",
    "        xterm = +1.5,\n",
    "        height = 1.0,\n",
    "    )\n",
    "    \n",
    "    # Some useful variables\n",
    "    n,m = size(model)\n",
    "    tf = times[end]\n",
    "    N = length(times)\n",
    "    dt = tf/N\n",
    "    Δx = xterm - xinit\n",
    "    mb,g = model.mb, model.g\n",
    "    \n",
    "    # initialization\n",
    "    xref = zeros(n,N)\n",
    "    xref[1,:] = Vector(range(xinit,xterm,length = N))'\n",
    "    xref[2,:] .= height\n",
    "    xref[3,:] = Vector(range(xinit,xterm,length = N))'\n",
    "    xref[5,:] = Vector(range(xinit,xterm,length = N))'\n",
    "    xref[7,2:N-1] .= (xref[5,2]-xref[5,1])/dt\n",
    "    xref[9,2:N-1] .= (xref[5,2]-xref[5,1])/dt\n",
    "    xref[11,2:N-1] .= (xref[5,2]-xref[5,1])/dt\n",
    "\n",
    "    uref = zeros(m,N)\n",
    "    uref[1,:] .= mb*g*0.5\n",
    "    uref[2,:] .= mb*g*0.5\n",
    "     # Convert to a trajectory\n",
    "    Xref = [SVector{n}(x) for x in eachcol(xref)]\n",
    "    Uref = [SVector{m}(u) for u in eachcol(uref)]\n",
    "    return Xref, Uref\n",
    "end"
   ],
   "outputs": [
    {
     "data": {
      "text/plain": [
       "reference_trajectory"
      ]
     },
     "metadata": {},
     "output_type": "display_data"
    }
   ],
   "metadata": {}
  },
  {
   "cell_type": "markdown",
   "source": [
    "### Problem Definition"
   ],
   "metadata": {}
  },
  {
   "cell_type": "code",
   "execution_count": 7,
   "source": [
    "# Dynamics model\n",
    "model = SimpleWalker()\n",
    "\n",
    "# Discretization\n",
    "tf = 4.4\n",
    "dt = 0.1\n",
    "N = Int(ceil(tf/dt)) + 1\n",
    "M = 5\n",
    "times = range(0,tf, length=N);\n",
    "\n",
    "# Reference Trajectory\n",
    "Xref,Uref = reference_trajectory(model, times)\n",
    "\n",
    "# Objective\n",
    "Random.seed!(1)\n",
    "Q = Diagonal([1; 10; fill(1.0, 4); 1; 10; fill(1.0, 4)]);\n",
    "R = Diagonal(fill(1e-3,3))\n",
    "Qf = Q;\n",
    "obj = map(1:N-1) do k\n",
    "    LQRCost(Q,R,Xref[k],Uref[k])\n",
    "end\n",
    "push!(obj, LQRCost(Qf, R*0, Xref[N], Uref[1]))\n",
    "\n",
    "# Define the NLP\n",
    "nlp = HybridNLP(model, obj, tf, N, M, Xref[1], Xref[end]);"
   ],
   "outputs": [],
   "metadata": {}
  },
  {
   "cell_type": "code",
   "execution_count": 8,
   "source": [
    "using Statistics\n",
    "@testset \"Part b\" begin                                  # POINTS = 3\n",
    "    Xref, Uref = reference_trajectory(model, times)\n",
    "    Xdiff = diff(Xref)\n",
    "    xdiff = mean(Xdiff)\n",
    "    @test xdiff[2] == 0                                  # POINTS = 0.5\n",
    "    @test xdiff[4] == 0                                  # POINTS = 0.5\n",
    "    @test xdiff[[1,3,5]] ≈ fill(3/(N-1), 3) atol=1e-2    # POINTS = 0.5\n",
    "    udiff = mean(diff(Uref))\n",
    "    @test udiff ≈ zeros(3) atol=1e-4                     # POINTS = 0.5\n",
    "    @test Uref[1][1] ≈ model.mb*model.g*0.5 atol=1e-3    # POINTS = 0.5\n",
    "    @test Uref[1][2] ≈ model.mb*model.g*0.5 atol=1e-3    # POINTS = 0.25\n",
    "    @test Uref[1][3] ≈ 0                                 # POINTS = 0.25\n",
    "end;"
   ],
   "outputs": [
    {
     "output_type": "stream",
     "name": "stdout",
     "text": [
      "\u001b[0m\u001b[1mTest Summary: | \u001b[22m\u001b[32m\u001b[1mPass  \u001b[22m\u001b[39m\u001b[36m\u001b[1mTotal\u001b[22m\u001b[39m\n",
      "Part b        | \u001b[32m   7  \u001b[39m\u001b[36m    7\u001b[39m\n"
     ]
    }
   ],
   "metadata": {}
  },
  {
   "cell_type": "markdown",
   "source": [
    "## Part (c): Constraints (15 pts)\n",
    "As you can probably guess looking at the problem definition above, the tricky part of the optimization problem is all in the constraints. Implement the methods below to specify the constraints for our hybrid trajectory optimization problem."
   ],
   "metadata": {}
  },
  {
   "cell_type": "code",
   "execution_count": 9,
   "source": [
    "# TASK: Implement the following methods\n",
    "#       1. dynamics_constraint! (9 pts)\n",
    "#       2. stance_constraint!   (3 pts)\n",
    "#       3. length_constraint!   (3 pts)\n",
    "\n",
    "\"\"\"\n",
    "    dynamics_constraint!(nlp, c, Z)\n",
    "\n",
    "Calculate the dynamics constraints for the hybrid dynamics.\n",
    "\"\"\"\n",
    "function dynamics_constraint!(nlp::HybridNLP{n,m}, c, Z) where {n,m}\n",
    "    xi,ui = nlp.xinds, nlp.uinds\n",
    "    model = nlp.model\n",
    "    N = nlp.N                      # number of time steps\n",
    "    M = nlp.M                      # time steps per mode\n",
    "    Nmodes = nlp.Nmodes            # number of mode sequences (N ÷ M)\n",
    "    \n",
    "    # X = Z[xi]\n",
    "    # U = Z[ui]\n",
    "    # Grab a view of the indices for the dynamics constraints\n",
    "    d = reshape(view(c, nlp.cinds[3]),n,N-1)  \n",
    "    # TODO: calculate the hybrid dynamics constraints\n",
    "    #  TIP: remember to include the jump map when the mode changes!\n",
    "    M1 = [(i-1)*10 .+ (1:5) for i = 1:5]\n",
    "    M2 = [((i-1)*10+5) .+ (1:5) for i = 1:4]\n",
    "    \n",
    "    for idx in M1 \n",
    "        for k =idx[1]:idx[end-1]\n",
    "            d[:,k] = stance1_dynamics_rk4(model, Z[xi[k]],Z[ui[k]],nlp.times[k+1]-nlp.times[k])-Z[xi[k+1]]\n",
    "        end\n",
    "    end\n",
    "    for idx in M2 \n",
    "        for k =idx[1]:idx[end-1]\n",
    "            d[:,k] = stance2_dynamics_rk4(model, Z[xi[k]],Z[ui[k]],nlp.times[k+1]-nlp.times[k])-Z[xi[k+1]]\n",
    "        end\n",
    "    end\n",
    "    for i =1:length(M1)-1 \n",
    "        idx = M1[i]\n",
    "        k = idx[end]\n",
    "        d[:,k] = jump2_map(stance1_dynamics_rk4(model, Z[xi[k]],Z[ui[k]],nlp.times[k+1]-nlp.times[k]))-Z[xi[k+1]]\n",
    "    end \n",
    "    for i =1:length(M2) \n",
    "        idx = M2[i]\n",
    "        k = idx[end]\n",
    "        d[:,k] = jump1_map(stance2_dynamics_rk4(model, Z[xi[k]],Z[ui[k]],nlp.times[k+1]-nlp.times[k]))-Z[xi[k+1]]\n",
    "    end \n",
    "    return vec(d)   # for easy Jacobian checking\n",
    "end\n",
    "\n",
    "\"\"\"\n",
    "    stance_constraint!(nlp, c, Z)\n",
    "\n",
    "Calculate the stance constraint for each time step, i.e. that the height of \n",
    "appropriate leg must be zero.\n",
    "\"\"\"\n",
    "function stance_constraint!(nlp::HybridNLP{n,m}, c, Z) where {n,m}\n",
    "    # Create a view of the portion for the stance constraints\n",
    "    d = view(c, nlp.cinds[4])\n",
    "    \n",
    "    # Some useful variables\n",
    "    xi,ui = nlp.xinds, nlp.uinds\n",
    "    N = nlp.N                      # number of time steps\n",
    "    M = nlp.M                      # time steps per mode\n",
    "    Nmodes = nlp.Nmodes            # number of mode sequences (N ÷ M)\n",
    "    \n",
    "    # TODO: Calculate the stance constraints\n",
    "    X,U = unpackZ(nlp,Z)\n",
    "\n",
    "    M1 = [(i-1)*10 .+ (1:5) for i = 1:5]\n",
    "    M2 = [((i-1)*10+5) .+ (1:5) for i = 1:4]\n",
    "    \n",
    "    for idx in M1 \n",
    "        for k=idx\n",
    "            d[k] = X[k][4]\n",
    "        end\n",
    "    end\n",
    "    for idx in M2 \n",
    "        for k =idx\n",
    "            d[k] = X[k][6]\n",
    "        end\n",
    "    end\n",
    "    return d  # for easy Jacobian checking\n",
    "end\n",
    "\n",
    "\"\"\"\n",
    "    length_constraint!(nlp, c, Z)\n",
    "\n",
    "Calculate the length constraints, i.e. that the length of each leg must\n",
    "be between `nlp.model.ℓ_min` and `nlp.model.ℓ_max`.\n",
    "\"\"\"\n",
    "function length_constraint!(nlp::HybridNLP{n,m}, c, Z) where {n,m}\n",
    "    # Create a view for the portion for the length constraints\n",
    "    d = view(c, nlp.cinds[5])\n",
    "    \n",
    "    # Some useful variables\n",
    "    xi,ui = nlp.xinds, nlp.uinds\n",
    "    N = nlp.N                      # number of time steps\n",
    "    M = nlp.M                      # time steps per mode\n",
    "    Nmodes = nlp.Nmodes            # number of mode sequences (N ÷ M)\n",
    "\n",
    "    X,U = unpackZ(nlp,Z)\n",
    "\n",
    "    M1 = [(i-1)*10 .+ (1:5) for i = 1:5]\n",
    "    M2 = [((i-1)*10+5) .+ (1:5) for i = 1:4]\n",
    "    # floor\n",
    "    # @show id \n",
    "    for k =1:90\n",
    "        id = Int(floor(0.5*(k+1)))\n",
    "        d[k] = norm(X[id][1:2]-X[id][3:4])\n",
    "        if iseven(k)\n",
    "            d[k] = norm(X[id][1:2]-X[id][5:6])\n",
    "        end\n",
    "    end\n",
    "\n",
    "\n",
    "    return d   # for easy Jacobian checking\n",
    "end\n",
    "\n",
    "\"\"\"\n",
    "    eval_c!(nlp, c, Z)\n",
    "\n",
    "Evaluate all the constraints\n",
    "\"\"\"\n",
    "function eval_c!(nlp::HybridNLP, c, Z)\n",
    "    xi = nlp.xinds\n",
    "    c[nlp.cinds[1]] .= Z[xi[1]] - nlp.x0\n",
    "    c[nlp.cinds[2]] .= Z[xi[end]] - nlp.xf\n",
    "    dynamics_constraint!(nlp, c, Z)\n",
    "    stance_constraint!(nlp, c, Z)\n",
    "    length_constraint!(nlp, c, Z)\n",
    "end"
   ],
   "outputs": [
    {
     "data": {
      "text/plain": [
       "eval_c!"
      ]
     },
     "metadata": {},
     "output_type": "display_data"
    }
   ],
   "metadata": {}
  },
  {
   "cell_type": "code",
   "execution_count": 11,
   "source": [
    "@testset \"Part c: Constraints\" begin                                                                 # POINTS = 15\n",
    "    Z = rand(num_primals(nlp))\n",
    "    X,U = unpackZ(nlp, Z)\n",
    "    c = zeros(num_duals(nlp))\n",
    "    n,m,N = size(nlp)\n",
    "\n",
    "    @testset \"Dynamics constraints\" begin                                                            # POINTS = 9\n",
    "        d = dynamics_constraint!(nlp, c, Z)\n",
    "        @test length(d) == n*(N-1)                                                                   # POINTS = 1\n",
    "        \n",
    "        @test d[1:n] ≈ stance1_dynamics_rk4(model, X[1], U[1], dt) - X[2]                            # POINTS = 2\n",
    "        @test d[n*(M-1) .+ (1:n)] ≈ jump2_map(stance1_dynamics_rk4(model, X[M], U[M], dt)) - X[M+1]  # POINTS = 3\n",
    "        @test d[n*M .+ (1:n)] ≈ stance2_dynamics_rk4(model, X[M+1], U[M+1], dt) - X[M+2]             # POINTS = 3\n",
    "    end\n",
    "\n",
    "    @testset \"Stance constraints\" begin                                                              # POINTS = 3\n",
    "        d = stance_constraint!(nlp, c, Z)\n",
    "        @test length(d) == N                                                                         # POINTS = 1\n",
    "        @test d[1:M] ≈ [x[4] for x in X[1:M]]                                                        # POINTS = 1\n",
    "        @test d[M .+ (1:M)] ≈ [x[6] for x in X[M .+ (1:M)]]                                          # POINTS = 1\n",
    "    end\n",
    "\n",
    "    @testset \"Length constraints\" begin                                                              # POINTS = 3\n",
    "        d = length_constraint!(nlp, c, Z)\n",
    "        @test d[1] ≈ norm(X[1][1:2] - X[1][3:4])                                                     # POINTS = 0.5\n",
    "        @test d[2] ≈ norm(X[1][1:2] - X[1][5:6])                                                     # POINTS = 0.5\n",
    "        @test d[3] ≈ norm(X[2][1:2] - X[2][3:4])                                                     # POINTS = 1\n",
    "        @test d[4] ≈ norm(X[2][1:2] - X[2][5:6])                                                     # POINTS = 1\n",
    "    end\n",
    "end;"
   ],
   "outputs": [
    {
     "output_type": "stream",
     "name": "stdout",
     "text": [
      "\u001b[0m\u001b[1mTest Summary:       | \u001b[22m\u001b[32m\u001b[1mPass  \u001b[22m\u001b[39m\u001b[36m\u001b[1mTotal\u001b[22m\u001b[39m\n",
      "Part c: Constraints | \u001b[32m  11  \u001b[39m\u001b[36m   11\u001b[39m\n"
     ]
    }
   ],
   "metadata": {}
  },
  {
   "cell_type": "markdown",
   "source": [
    "## Part (d): Constraint Jacobians (15 pts)\n",
    "As you've probably guessed, we'll also need the Jacobians of our constraints. While we can use methods like automatic differentiation or finite differencing, for trajectory optimization problems it's often very easy to write down the Jacobians by hand, and get large speedups as a result.\n",
    "\n",
    "**NOTE:** You can either implement the Jacobians assuming a dense Jacobian (slow and not as reliable), or you can use the the infrastructure provided to leverage the sparsity structure. See \"sparseblocks.jl\" for details on how to use the provided infrastructure, or feel free to copy your code from the previous assignment if you did the extra credit.\n",
    "\n",
    "If you want to use the sparse methods, you'll need to set `use_sparse_jacobian = true` to the `HybridNLP` constuctor."
   ],
   "metadata": {}
  },
  {
   "cell_type": "code",
   "execution_count": 12,
   "source": [
    "# TASK: Implement the following methods\n",
    "#       1. dynamics_jacobian! (9 pts)\n",
    "#       2. jac_c!             (6 pts)\n",
    "\n",
    "\"\"\"\n",
    "    dynamics_jacobian!(nlp, jac, Z)\n",
    "\n",
    "Calculate the Jacobian of the dynamics constraints, storing the result in the matrix `jac`.\n",
    "\"\"\"\n",
    "function dynamics_jacobian!(nlp::HybridNLP{n,m}, jac, Z) where {n,m}\n",
    "    # Create a view of the portion of the Jacobian for the dynamics constraints\n",
    "    # D = jac\n",
    "    D = view(jac, nlp.cinds[3], :)\n",
    "\n",
    "    # Some useful variables\n",
    "    xi,ui = nlp.xinds, nlp.uinds\n",
    "    model = nlp.model\n",
    "    N = nlp.N                      # number of time steps\n",
    "    M = nlp.M                      # time steps per mode\n",
    "    Nmodes = nlp.Nmodes            # number of mode sequences (N ÷ M)\n",
    "    \n",
    "    # # TODO: Calculate the dynamics Jacobians\n",
    "    \n",
    "    D .= ForwardDiff.jacobian(x->dynamics_constraint!(nlp,zeros(eltype(x), num_duals(nlp)),x), Z)\n",
    "    \n",
    "    return c\n",
    "end\n",
    "\n",
    "\"\"\"\n",
    "    jac_c!(nlp, jac, Z)\n",
    "\n",
    "Evaluate the constraint Jacobians.\n",
    "\"\"\"\n",
    "function jac_c!(nlp::HybridNLP{n,m}, jac, Z) where {n,m}\n",
    "    xi,ui = nlp.xinds, nlp.uinds\n",
    "    \n",
    "    # Create views for each portion of the Jacobian\n",
    "    jac_init = view(jac, nlp.cinds[1], xi[1])\n",
    "    jac_term = view(jac, nlp.cinds[2], xi[end])\n",
    "    jac_dynamics = view(jac, nlp.cinds[3], :)\n",
    "    jac_stance = view(jac, nlp.cinds[4], :)\n",
    "    jac_length = view(jac, nlp.cinds[5], :)\n",
    "\n",
    "    # TODO: Calculate all the Jacobians\n",
    "    #  TIP: You can write extra functions for the other constraints, or just do them here (they're pretty easy)\n",
    "    #  TIP: Consider starting with ForwardDiff and then implement analytically (you won't get full points if you don't\n",
    "    #       implement the Jacobians analytically)\n",
    "\n",
    "    jac_init .= I(n)\n",
    "    jac_term .= I(n)\n",
    "\n",
    "    dynamics_jacobian!(nlp,jac,Z)\n",
    "\n",
    "    jac_stance .= ForwardDiff.jacobian(x->stance_constraint!(nlp, zeros(eltype(x), num_duals(nlp)), x), Z)\n",
    "\n",
    "    jac_length .= ForwardDiff.jacobian(x->length_constraint!(nlp, zeros(eltype(x), num_duals(nlp)), x), Z)\n",
    "\n",
    "    return nothing\n",
    "end\n",
    "\n",
    "# This method gets called if nlp.use_sparse_jacobian = true\n",
    "function jac_c!(nlp::HybridNLP{n,m}, jacvec::AbstractVector, Z) where {n,m}\n",
    "    # You can use this structure to fill in the Jacobian\n",
    "    # It allows you to treat the nonzeros vector as a normal Jacobian of expected dimension, automatically\n",
    "    # assigning the values to the correct indices in the nonzeros vector\n",
    "    jac = NonzerosVector(jacvec, nlp.blocks)\n",
    "    \n",
    "    jacvec .= 0  # almost always a good idea to initialize the Jacobian vector with zeros\n",
    "    \n",
    "    # Some useful information\n",
    "    xi,ui = nlp.xinds, nlp.uinds\n",
    "    model = nlp.model\n",
    "    N = nlp.N                      # number of time steps\n",
    "    M = nlp.M                      # time steps per mode\n",
    "    Nmodes = nlp.Nmodes            # number of mode sequences (N ÷ M)\n",
    "    \n",
    "    Nt = nlp.N\n",
    "    Nx,Nu = n,m\n",
    "    dt = nlp.times[2]\n",
    "    Nm = nlp.M\n",
    "    \n",
    "    # TODO (optional): Implement the methods to fill in the sparse Jacobian\n",
    "end\n"
   ],
   "outputs": [
    {
     "data": {
      "text/plain": [
       "jac_c! (generic function with 2 methods)"
      ]
     },
     "metadata": {},
     "output_type": "display_data"
    }
   ],
   "metadata": {}
  },
  {
   "cell_type": "code",
   "execution_count": 13,
   "source": [
    "@testset \"Part (d): Constraint Jacobians\" begin                                                   # POINTS = 15\n",
    "    Z = randn(num_primals(nlp))\n",
    "    n,m,N = size(nlp)\n",
    "    jac = zeros(num_duals(nlp), num_primals(nlp))\n",
    "\n",
    "    @testset \"Dynamics Jacobian\" begin                                                            # POINTS = 9\n",
    "        jac_dyn = ForwardDiff.jacobian(x->dynamics_constraint!(nlp, zeros(eltype(x), num_duals(nlp)), x), Z)\n",
    "        dynamics_jacobian!(nlp, jac, Z)\n",
    "        @test jac[nlp.cinds[3], :] ≈ jac_dyn                                                      # POINTS = 9\n",
    "    end \n",
    "    @testset \"Initial and Final Constraint\" begin                                                 # POINTS = 2\n",
    "        jac_c!(nlp, jac, Z)\n",
    "        @test jac[1:n,1:n] ≈ I(n)                                                                 # POINTS = 1\n",
    "        @test jac[n+1:2n,end-n+1:end] ≈ I(n)                                                      # POINTS = 1\n",
    "    end\n",
    "    \n",
    "    @testset \"Stance Constraint\" begin                                                            # POINTS = 2\n",
    "        jac_stance = ForwardDiff.jacobian(x->stance_constraint!(nlp, zeros(eltype(x), num_duals(nlp)), x), Z)\n",
    "        @test jac[nlp.cinds[4], :] ≈ jac_stance                                                   # POINTS = 2\n",
    "    end\n",
    "\n",
    "    @testset \"Length Constraint\" begin                                                            # POINTS = 2\n",
    "        jac_length = ForwardDiff.jacobian(x->length_constraint!(nlp, zeros(eltype(x), num_duals(nlp)), x), Z)\n",
    "        @test jac[nlp.cinds[5], :] ≈ jac_length rtol=1e-7                                         # POINTS = 2\n",
    "    end\n",
    "end\n"
   ],
   "outputs": [
    {
     "output_type": "stream",
     "name": "stdout",
     "text": [
      "\u001b[0m\u001b[1mTest Summary:                  | \u001b[22m\u001b[32m\u001b[1mPass  \u001b[22m\u001b[39m\u001b[36m\u001b[1mTotal\u001b[22m\u001b[39m\n",
      "Part (d): Constraint Jacobians | \u001b[32m   5  \u001b[39m\u001b[36m    5\u001b[39m\n"
     ]
    },
    {
     "data": {
      "text/plain": [
       "Test.DefaultTestSet(\"Part (d): Constraint Jacobians\", Any[Test.DefaultTestSet(\"Dynamics Jacobian\", Any[], 1, false, false), Test.DefaultTestSet(\"Initial and Final Constraint\", Any[], 2, false, false), Test.DefaultTestSet(\"Stance Constraint\", Any[], 1, false, false), Test.DefaultTestSet(\"Length Constraint\", Any[], 1, false, false)], 0, false, false)"
      ]
     },
     "metadata": {},
     "output_type": "display_data"
    }
   ],
   "metadata": {}
  },
  {
   "cell_type": "code",
   "execution_count": 14,
   "source": [
    "# Optional: Check that the dense and sparse Jacobians give the same result\n",
    "let\n",
    "    nlp = HybridNLP(model, obj, tf, N, M, Xref[1], Xref[end], use_sparse_jacobian=true);\n",
    "    Z = randn(num_primals(nlp))\n",
    "    Random.seed!(1)\n",
    "    Xguess = [x + 0.1*randn(length(x)) for x in Xref]\n",
    "    Uguess = [u + 0.1*randn(length(u)) for u in Uref]\n",
    "    Z = packZ(nlp, Xguess, Uguess);\n",
    "    initialize_sparsity!(nlp)\n",
    "    rc = getrc(nlp.blocks)\n",
    "    r = [t[1] for t in rc]\n",
    "    c = [t[2] for t in rc]\n",
    "    jacvec = zeros(length(rc))\n",
    "    jac_c!(nlp, jacvec, Z)\n",
    "    jac = sparse(NonzerosVector(jacvec, nlp.blocks))\n",
    "    \n",
    "    nlp0 = HybridNLP(model, obj, tf, N, M, Xref[1], Xref[end], use_sparse_jacobian=false);\n",
    "    jac0 = zeros(num_duals(nlp), num_primals(nlp))\n",
    "    jac_c!(nlp0, jac0, Z)\n",
    "    norm(jac - jac0)  # this should be small if the Jacobian match\n",
    "end"
   ],
   "outputs": [
    {
     "data": {
      "text/plain": [
       "37.20381825306088"
      ]
     },
     "metadata": {},
     "output_type": "display_data"
    }
   ],
   "metadata": {}
  },
  {
   "cell_type": "markdown",
   "source": [
    "## Part (e): Solve (4 pts)\n",
    "We now have all the pieces! Now let's set up the problem and check out the result.\n",
    "\n",
    "### Problem Definition"
   ],
   "metadata": {}
  },
  {
   "cell_type": "code",
   "execution_count": 15,
   "source": [
    "# Initial guess\n",
    "Random.seed!(1)\n",
    "Xguess = [x + 0.1*randn(length(x)) for x in Xref]\n",
    "Uguess = [u + 0.1*randn(length(u)) for u in Uref]\n",
    "Z0 = packZ(nlp, Xguess, Uguess);\n",
    "nlp = HybridNLP(model, obj, tf, N, M, Xref[1], Xref[end], use_sparse_jacobian=false);  # < change to true to use sparse Jacobian"
   ],
   "outputs": [],
   "metadata": {}
  },
  {
   "cell_type": "markdown",
   "source": [
    "### Solve\n",
    "**NOTE**: If the solve fails (especially if you get an error about the restoration phase failing), try running it a couple more times. Sometimes Ipopt is a little finicky. \n",
    "\n",
    "**TIP**: Try solving with coarser tolerances at first (e.g. `c_tol = 1e-4, tol=1e-2`) while you dial it in so it doesn't take as long.\n",
    "\n",
    "**TIP**: With tolerances of `1e-6`, it takes about 90 iterations and converges to a cost of about 248."
   ],
   "metadata": {}
  },
  {
   "cell_type": "code",
   "execution_count": 20,
   "source": [
    "Z_sol, solver = solve(Z0, nlp, c_tol=1e-6, tol=1e-6)"
   ],
   "outputs": [
    {
     "output_type": "stream",
     "name": "stdout",
     "text": [
      "Creating NLP Block Data...\n",
      "Creating Ipopt...\n",
      "Adding constraints...\n",
      "starting Ipopt Solve...\n"
     ]
    },
    {
     "output_type": "stream",
     "name": "stdout",
     "text": [
      "This is Ipopt version 3.13.4, running with linear solver mumps.\n",
      "NOTE: Other linear solvers might be more efficient (see Ipopt documentation).\n",
      "\n",
      "Number of nonzeros in equality constraint Jacobian...:   401184\n",
      "Number of nonzeros in inequality constraint Jacobian.:    60480\n",
      "Number of nonzeros in Lagrangian Hessian.............:        0\n",
      "\n",
      "Total number of variables............................:      672\n",
      "                     variables with only lower bounds:        0\n",
      "                variables with lower and upper bounds:        0\n",
      "                     variables with only upper bounds:        0\n",
      "Total number of equality constraints.................:      597\n",
      "Total number of inequality constraints...............:       90\n",
      "        inequality constraints with only lower bounds:        0\n",
      "   inequality constraints with lower and upper bounds:       90\n",
      "        inequality constraints with only upper bounds:        0\n",
      "\n",
      "iter    objective    inf_pr   inf_du lg(mu)  ||d||  lg(rg) alpha_du alpha_pr  ls\n",
      "   0  7.3777325e+00 1.75e+00 2.75e+00   0.0 0.00e+00    -  0.00e+00 0.00e+00   0\n",
      "   1  1.1405457e+02 1.11e+00 8.89e+03  -0.4 1.29e+02    -  2.97e-01 5.03e-01h  1\n",
      "   2  2.2148919e+02 6.90e-01 7.35e+03   0.3 7.97e+01    -  1.00e+00 4.12e-01h  1\n",
      "   3  2.7419719e+02 9.03e-01 5.36e+03   1.0 8.50e+01    -  9.99e-01 3.90e-01f  1\n",
      "   4  3.5676289e+02 4.70e-01 1.63e+03   1.5 2.41e+01    -  8.92e-01 6.13e-01h  1\n",
      "   5  3.8412856e+02 3.15e-01 1.05e+03   1.5 3.44e+01    -  9.66e-01 1.00e+00f  1\n",
      "   6  3.3994788e+02 3.33e-02 1.34e+02   0.8 1.31e+01    -  9.75e-01 1.00e+00f  1\n",
      "   7  3.0245015e+02 1.23e-01 1.05e+02   0.3 3.31e+01    -  8.98e-01 1.00e+00f  1\n",
      "   8  3.0163598e+02 7.68e-02 8.32e+01  -0.1 1.72e+01    -  9.61e-01 1.00e+00f  1\n",
      "   9  2.8323468e+02 9.20e-02 9.65e+00  -0.3 2.62e+01    -  9.83e-01 1.00e+00f  1\n",
      "iter    objective    inf_pr   inf_du lg(mu)  ||d||  lg(rg) alpha_du alpha_pr  ls\n",
      "  10  2.9336788e+02 7.88e-02 1.67e+01  -0.0 4.55e+01    -  7.33e-01 7.60e-01H  1\n",
      "  11  2.6038915e+02 6.91e-02 7.15e+00  -0.2 1.28e+01    -  9.70e-01 1.00e+00f  1\n",
      "  12  2.5854538e+02 2.91e-03 4.51e+00  -1.0 5.00e+00    -  9.77e-01 1.00e+00f  1\n",
      "  13  2.5648569e+02 1.18e-02 3.74e+00  -1.5 1.53e+01    -  9.73e-01 1.00e+00f  1\n",
      "  14  3.0273942e+02 1.38e-02 2.57e+01  -1.5 7.36e+01    -  8.27e-01 1.00e+00H  1\n",
      "  15  2.5460795e+02 1.25e-01 9.36e+00  -1.7 4.48e+01    -  6.17e-01 1.00e+00f  1\n",
      "  16  2.8364861e+02 1.39e-01 2.39e+01  -1.4 4.43e+01    -  1.00e+00 1.00e+00H  1\n",
      "  17  2.5190767e+02 1.23e-01 4.10e+00  -1.5 2.70e+01    -  9.59e-01 1.00e+00f  1\n",
      "  18  2.5555248e+02 3.45e-02 4.54e+00  -1.6 6.76e+00    -  9.98e-01 1.00e+00h  1\n",
      "  19  2.5005076e+02 1.09e-02 1.50e+00  -1.9 4.26e+00    -  9.98e-01 1.00e+00f  1\n",
      "iter    objective    inf_pr   inf_du lg(mu)  ||d||  lg(rg) alpha_du alpha_pr  ls\n",
      "  20  2.4983030e+02 2.22e-04 5.93e-01  -3.0 9.48e-01    -  1.00e+00 1.00e+00h  1\n",
      "  21  2.4967413e+02 8.52e-05 6.32e-01  -4.5 1.00e+00    -  1.00e+00 1.00e+00f  1\n",
      "  22  2.4946652e+02 6.29e-04 2.31e+00  -5.3 5.87e+00    -  1.00e+00 5.00e-01f  2\n",
      "  23  2.5071012e+02 3.04e-04 1.13e+01  -5.9 1.47e+01    -  9.90e-01 1.00e+00H  1\n",
      "  24  2.4978479e+02 5.93e-03 1.05e+01  -6.0 9.43e+00    -  1.00e+00 5.00e-01f  2\n",
      "  25  2.4865904e+02 5.11e-03 1.09e+00  -6.0 6.16e+00    -  1.00e+00 1.00e+00f  1\n",
      "  26  2.4897034e+02 2.98e-03 2.11e+00  -6.7 3.03e+00    -  1.00e+00 1.00e+00h  1\n",
      "  27  2.4820211e+02 1.66e-03 8.85e-01  -7.2 3.85e+00    -  1.00e+00 1.00e+00f  1\n",
      "  28  2.4817787e+02 7.83e-04 6.99e-01  -8.3 2.85e+00    -  1.00e+00 1.00e+00f  1\n",
      "  29  2.4807163e+02 3.70e-03 1.90e+00  -9.2 5.33e+00    -  1.00e+00 1.00e+00f  1\n",
      "iter    objective    inf_pr   inf_du lg(mu)  ||d||  lg(rg) alpha_du alpha_pr  ls\n",
      "  30  2.5311141e+02 3.15e-04 7.32e+00  -9.6 1.40e+01    -  1.00e+00 1.00e+00H  1\n",
      "  31  2.4814414e+02 2.69e-02 6.97e-01  -9.7 1.06e+01    -  1.00e+00 1.00e+00f  1\n",
      "  32  2.4874851e+02 1.73e-03 1.42e+00  -9.7 2.16e+00    -  1.00e+00 1.00e+00h  1\n",
      "  33  2.4792596e+02 7.89e-04 3.71e-01  -9.7 1.42e+00    -  1.00e+00 1.00e+00f  1\n",
      "  34  2.4791172e+02 4.71e-06 1.54e-01 -11.0 3.81e-01    -  1.00e+00 1.00e+00h  1\n",
      "  35  2.4789091e+02 4.52e-05 1.88e-01 -11.0 1.23e+00    -  1.00e+00 1.00e+00f  1\n",
      "  36  2.4788157e+02 7.60e-05 4.75e-01 -11.0 6.60e+00    -  1.00e+00 2.50e-01f  3\n",
      "  37  2.4787858e+02 5.61e-05 5.17e-01 -11.0 2.46e+00    -  1.00e+00 2.50e-01h  3\n",
      "  38  2.4786681e+02 3.08e-05 3.59e-01 -11.0 5.96e-01    -  1.00e+00 1.00e+00h  1\n",
      "  39  2.4787269e+02 1.73e-07 2.39e-01 -11.0 3.78e-01    -  1.00e+00 1.00e+00H  1\n",
      "iter    objective    inf_pr   inf_du lg(mu)  ||d||  lg(rg) alpha_du alpha_pr  ls\n",
      "  40  2.4786430e+02 1.99e-05 4.13e-02 -11.0 2.41e-01    -  1.00e+00 1.00e+00f  1\n",
      "  41  2.4786400e+02 1.19e-07 2.38e-02 -11.0 6.37e-02    -  1.00e+00 1.00e+00h  1\n",
      "  42  2.4786325e+02 2.35e-06 2.10e-01 -11.0 1.17e+00    -  1.00e+00 2.50e-01f  3\n",
      "  43  2.4787299e+02 4.41e-08 5.80e-01 -11.0 8.22e-01    -  1.00e+00 1.00e+00H  1\n",
      "  44  2.4786367e+02 4.29e-06 1.36e-01 -11.0 4.89e-01    -  1.00e+00 1.00e+00f  1\n",
      "  45  2.4786282e+02 4.43e-06 1.46e-01 -11.0 2.73e-01    -  1.00e+00 1.00e+00h  1\n",
      "  46  2.4786245e+02 1.02e-06 2.96e-02 -11.0 1.43e-01    -  1.00e+00 1.00e+00h  1\n",
      "  47  2.4786269e+02 5.47e-07 3.60e-02 -11.0 4.47e-02    -  1.00e+00 1.00e+00h  1\n",
      "  48  2.4786236e+02 1.61e-07 4.14e-03 -11.0 3.83e-02    -  1.00e+00 1.00e+00h  1\n",
      "  49  2.4786235e+02 6.79e-10 1.72e-03 -11.0 6.20e-03    -  1.00e+00 1.00e+00h  1\n",
      "iter    objective    inf_pr   inf_du lg(mu)  ||d||  lg(rg) alpha_du alpha_pr  ls\n",
      "  50  2.4786268e+02 3.59e-12 6.63e-02 -11.0 2.24e-01    -  1.00e+00 1.00e+00H  1\n",
      "  51  2.4786240e+02 1.23e-06 1.81e-02 -11.0 7.89e-02    -  1.00e+00 1.00e+00f  1\n",
      "  52  2.4786267e+02 1.54e-06 4.76e-02 -11.0 9.29e-02    -  1.00e+00 1.00e+00h  1\n",
      "  53  2.4786231e+02 5.76e-07 1.10e-02 -11.0 5.25e-02    -  1.00e+00 1.00e+00h  1\n",
      "  54  2.4786230e+02 1.24e-08 7.37e-03 -11.0 1.53e-02    -  1.00e+00 1.00e+00h  1\n",
      "  55  2.4786230e+02 4.10e-09 2.66e-03 -11.0 4.87e-03    -  1.00e+00 1.00e+00h  1\n",
      "  56  2.4786229e+02 8.26e-10 1.48e-03 -11.0 2.73e-03    -  1.00e+00 1.00e+00h  1\n",
      "  57  2.4786229e+02 1.68e-10 8.35e-04 -11.0 1.45e-03    -  1.00e+00 1.00e+00h  1\n",
      "  58  2.4786229e+02 2.68e-08 9.16e-03 -11.0 1.72e-02    -  1.00e+00 1.00e+00h  1\n",
      "  59  2.4786231e+02 9.14e-12 1.27e-02 -11.0 3.47e-02    -  1.00e+00 1.00e+00H  1\n",
      "iter    objective    inf_pr   inf_du lg(mu)  ||d||  lg(rg) alpha_du alpha_pr  ls\n",
      "  60  2.4786230e+02 1.60e-08 1.18e-02 -11.0 9.70e-03    -  1.00e+00 5.00e-01h  2\n",
      "  61  2.4786229e+02 3.64e-08 2.48e-03 -11.0 2.39e-02    -  1.00e+00 1.00e+00h  1\n",
      "  62  2.4786229e+02 4.84e-09 1.81e-03 -11.0 3.13e-03    -  1.00e+00 1.00e+00h  1\n",
      "  63  2.4786229e+02 2.91e-09 2.26e-04 -11.0 2.00e-03    -  1.00e+00 1.00e+00h  1\n",
      "  64  2.4786229e+02 1.33e-11 1.03e-04 -11.0 4.39e-04    -  1.00e+00 1.00e+00h  1\n",
      "  65  2.4786229e+02 1.26e-09 8.08e-04 -11.0 4.02e-03    -  1.00e+00 1.00e+00h  1\n",
      "  66  2.4786229e+02 1.18e-13 2.67e-03 -11.0 1.01e-02    -  1.00e+00 1.00e+00H  1\n",
      "  67  2.4786229e+02 2.49e-09 6.05e-04 -11.0 8.11e-03    -  1.00e+00 1.00e+00f  1\n",
      "  68  2.4786229e+02 1.20e-09 9.03e-04 -11.0 1.51e-03    -  1.00e+00 1.00e+00h  1\n",
      "  69  2.4786229e+02 7.68e-10 7.20e-05 -11.0 1.38e-03    -  1.00e+00 1.00e+00h  1\n",
      "iter    objective    inf_pr   inf_du lg(mu)  ||d||  lg(rg) alpha_du alpha_pr  ls\n",
      "  70  2.4786229e+02 3.37e-13 6.44e-05 -11.0 9.78e-05    -  1.00e+00 1.00e+00h  1\n",
      "  71  2.4786229e+02 4.22e-15 8.29e-04 -11.0 3.50e-03    -  1.00e+00 1.00e+00H  1\n",
      "  72  2.4786229e+02 2.06e-15 8.27e-04 -11.0 1.29e-03    -  1.00e+00 1.00e+00H  1\n",
      "  73  2.4786229e+02 5.49e-10 2.48e-04 -11.0 2.62e-03    -  1.00e+00 1.00e+00h  1\n",
      "  74  2.4786229e+02 4.44e-16 8.37e-04 -11.0 2.95e-03    -  1.00e+00 1.00e+00H  1\n",
      "  75  2.4786229e+02 3.30e-10 1.10e-04 -11.0 2.79e-03    -  1.00e+00 1.00e+00h  1\n",
      "  76  2.4786229e+02 4.69e-11 2.55e-04 -11.0 4.37e-04    -  1.00e+00 1.00e+00h  1\n",
      "  77  2.4786229e+02 3.09e-11 2.20e-05 -11.0 3.45e-04    -  1.00e+00 1.00e+00h  1\n",
      "  78  2.4786229e+02 3.43e-13 1.35e-05 -11.0 2.21e-05    -  1.00e+00 1.00e+00h  1\n",
      "  79  2.4786229e+02 1.01e-13 1.42e-06 -11.0 1.03e-05    -  1.00e+00 1.00e+00h  1\n",
      "iter    objective    inf_pr   inf_du lg(mu)  ||d||  lg(rg) alpha_du alpha_pr  ls\n",
      "  80  2.4786229e+02 4.88e-15 1.17e-06 -11.0 8.14e-06    -  1.00e+00 1.00e+00h  1\n",
      "  81  2.4786229e+02 4.67e-13 2.95e-05 -11.0 1.34e-04    -  1.00e+00 1.00e+00h  1\n",
      "  82  2.4786229e+02 6.66e-16 9.97e-05 -11.0 6.40e-04    -  1.00e+00 1.00e+00H  1\n",
      "  83  2.4786229e+02 6.66e-16 5.21e-05 -11.0 4.09e-04    -  1.00e+00 1.00e+00H  1\n",
      "  84  2.4786229e+02 4.44e-16 8.25e-05 -11.0 4.68e-04    -  1.00e+00 1.00e+00H  1\n",
      "  85  2.4786229e+02 7.77e-16 6.49e-05 -11.0 3.35e-04    -  1.00e+00 1.00e+00H  1\n",
      "  86  2.4786229e+02 4.48e-16 7.35e-05 -11.0 2.34e-04    -  1.00e+00 1.00e+00H  1\n",
      "  87  2.4786229e+02 6.66e-16 3.15e-05 -11.0 2.27e-04    -  1.00e+00 1.00e+00H  1\n",
      "  88  2.4786229e+02 2.86e-13 1.17e-05 -11.0 1.06e-04    -  1.00e+00 2.50e-01h  3\n",
      "  89  2.4786229e+02 2.18e-13 7.89e-06 -11.0 7.02e-05    -  1.00e+00 1.00e+00h  1\n",
      "iter    objective    inf_pr   inf_du lg(mu)  ||d||  lg(rg) alpha_du alpha_pr  ls\n",
      "  90  2.4786229e+02 7.90e-14 1.68e-05 -11.0 5.07e-05    -  1.00e+00 1.00e+00h  1\n",
      "  91  2.4786229e+02 6.16e-14 1.14e-06 -11.0 4.47e-05    -  1.00e+00 1.00e+00h  1\n",
      "  92  2.4786229e+02 1.82e-14 3.32e-06 -11.0 4.47e-06    -  1.00e+00 1.00e+00h  1\n",
      "  93  2.4786229e+02 9.99e-15 1.54e-07 -11.0 3.08e-06    -  1.00e+00 1.00e+00h  1\n",
      "\n",
      "Number of Iterations....: 93\n",
      "\n",
      "                                   (scaled)                 (unscaled)\n",
      "Objective...............:   2.4786229168076957e+02    2.4786229168076957e+02\n",
      "Dual infeasibility......:   1.5384806192897393e-07    1.5384806192897393e-07\n",
      "Constraint violation....:   9.9920072216264089e-15    9.9920072216264089e-15\n",
      "Complementarity.........:   1.0000000000000003e-11    1.0000000000000003e-11\n",
      "Overall NLP error.......:   1.5384806192897393e-07    1.5384806192897393e-07\n",
      "\n",
      "\n",
      "Number of objective function evaluations             = 161\n",
      "Number of objective gradient evaluations             = 94\n",
      "Number of equality constraint evaluations            = 161\n",
      "Number of inequality constraint evaluations          = 161\n",
      "Number of equality constraint Jacobian evaluations   = 94\n",
      "Number of inequality constraint Jacobian evaluations = 94\n",
      "Number of Lagrangian Hessian evaluations             = 0\n",
      "Total CPU secs in IPOPT (w/o function evaluations)   =    342.519\n",
      "Total CPU secs in NLP function evaluations           =      2.212\n",
      "\n",
      "EXIT: Optimal Solution Found.\n"
     ]
    },
    {
     "data": {
      "text/plain": [
       "([-1.5, 1.0, -1.4999999999999998, -1.8454537542209996e-18, -1.5, -5.243368695638006e-17, -3.743525928146234e-17, -2.346035740129564e-17, 4.139716354196924e-17, 4.330592168817102e-17  …  1.5000000000000007, -8.949779912731506e-20, 1.4999999999999998, -4.0048134419543557e-17, 1.7084961315950436e-16, 2.4832656896590498e-17, -6.483662694053185e-17, 2.909240734281766e-19, 1.4097918102611095e-17, 2.6603032527554344e-17], Ipopt.Optimizer)"
      ]
     },
     "metadata": {},
     "output_type": "display_data"
    }
   ],
   "metadata": {}
  },
  {
   "cell_type": "code",
   "execution_count": 21,
   "source": [
    "@testset \"Part (e): Solve\" begin                                                             # POINTS = 4\n",
    "    Xsol,Usol = unpackZ(nlp,Z_sol)\n",
    "    @test norm(Xsol[1] - nlp.x0) < 1e-6                                                      # POINTS = 0.5 \n",
    "    @test norm(Xsol[end] - nlp.xf) < 1e-6                                                    # POINTS = 0.5\n",
    "    @test norm([x[4] for x in Xsol[nlp.modes .== 1]], Inf) < 1e-6                            # POINTS = 0.5\n",
    "    @test norm([x[6] for x in Xsol[nlp.modes .== 2]], Inf) < 1e-6                            # POINTS = 0.5\n",
    "    \n",
    "    @test eval_f(nlp, Z_sol) < 250                                                           # POINTS = 1\n",
    "    \n",
    "    @test all(x->0.5 < x < 1.5, [norm(x[1:2] - x[3:4]) for x in Xsol[nlp.modes .== 1]])      # POINTS = 0.5\n",
    "    @test all(x->0.5 < x < 1.5, [norm(x[1:2] - x[5:6]) for x in Xsol[nlp.modes .== 2]])      # POINTS = 0.5\n",
    "end;"
   ],
   "outputs": [
    {
     "output_type": "stream",
     "name": "stdout",
     "text": [
      "\u001b[0m\u001b[1mTest Summary:   | \u001b[22m\u001b[32m\u001b[1mPass  \u001b[22m\u001b[39m\u001b[36m\u001b[1mTotal\u001b[22m\u001b[39m\n",
      "Part (e): Solve | \u001b[32m   7  \u001b[39m\u001b[36m    7\u001b[39m\n"
     ]
    }
   ],
   "metadata": {}
  },
  {
   "cell_type": "markdown",
   "source": [
    "## Visualizer"
   ],
   "metadata": {}
  },
  {
   "cell_type": "code",
   "execution_count": 22,
   "source": [
    "isautograder || render(vis)"
   ],
   "outputs": [
    {
     "data": {
      "text/html": [
       "    <div style=\"height: 500px; width: 100%; overflow-x: auto; overflow-y: hidden; resize: both\">\n",
       "    <iframe src=\"http://127.0.0.1:8704\" style=\"width: 100%; height: 100%; border: none\"></iframe>\n",
       "    </div>\n"
      ],
      "text/plain": [
       "MeshCat.DisplayedVisualizer(MeshCat.CoreVisualizer(MeshCat.SceneTrees.SceneNode(nothing, nothing, Dict{String, Vector{UInt8}}(), UInt8[0x83, 0xa7, 0x6f, 0x70, 0x74, 0x69, 0x6f, 0x6e, 0x73, 0x82  …  0x5f, 0x61, 0x6e, 0x69, 0x6d, 0x61, 0x74, 0x69, 0x6f, 0x6e], Dict{String, MeshCat.SceneTrees.SceneNode}(\"meshcat\" => MeshCat.SceneTrees.SceneNode(nothing, nothing, Dict{String, Vector{UInt8}}(), nothing, Dict{String, MeshCat.SceneTrees.SceneNode}(\"robot\" => MeshCat.SceneTrees.SceneNode(nothing, nothing, Dict{String, Vector{UInt8}}(), nothing, Dict{String, MeshCat.SceneTrees.SceneNode}(\"Rfoot\" => MeshCat.SceneTrees.SceneNode(nothing, UInt8[0x83, 0xa6, 0x6d, 0x61, 0x74, 0x72, 0x69, 0x78, 0xc7, 0x40  …  0x6f, 0x62, 0x6f, 0x74, 0x2f, 0x52, 0x66, 0x6f, 0x6f, 0x74], Dict{String, Vector{UInt8}}(), nothing, Dict{String, MeshCat.SceneTrees.SceneNode}(\"geom\" => MeshCat.SceneTrees.SceneNode(UInt8[0x83, 0xa6, 0x6f, 0x62, 0x6a, 0x65, 0x63, 0x74, 0x84, 0xaa  …  0x52, 0x66, 0x6f, 0x6f, 0x74, 0x2f, 0x67, 0x65, 0x6f, 0x6d], UInt8[0x83, 0xa6, 0x6d, 0x61, 0x74, 0x72, 0x69, 0x78, 0xc7, 0x40  …  0x52, 0x66, 0x6f, 0x6f, 0x74, 0x2f, 0x67, 0x65, 0x6f, 0x6d], Dict{String, Vector{UInt8}}(), nothing, Dict{String, MeshCat.SceneTrees.SceneNode}()))), \"torso\" => MeshCat.SceneTrees.SceneNode(nothing, UInt8[0x83, 0xa6, 0x6d, 0x61, 0x74, 0x72, 0x69, 0x78, 0xc7, 0x40  …  0x6f, 0x62, 0x6f, 0x74, 0x2f, 0x74, 0x6f, 0x72, 0x73, 0x6f], Dict{String, Vector{UInt8}}(), nothing, Dict{String, MeshCat.SceneTrees.SceneNode}(\"body\" => MeshCat.SceneTrees.SceneNode(UInt8[0x83, 0xa6, 0x6f, 0x62, 0x6a, 0x65, 0x63, 0x74, 0x84, 0xaa  …  0x74, 0x6f, 0x72, 0x73, 0x6f, 0x2f, 0x62, 0x6f, 0x64, 0x79], nothing, Dict{String, Vector{UInt8}}(), nothing, Dict{String, MeshCat.SceneTrees.SceneNode}()), \"Laxle\" => MeshCat.SceneTrees.SceneNode(UInt8[0x83, 0xa6, 0x6f, 0x62, 0x6a, 0x65, 0x63, 0x74, 0x84, 0xaa  …  0x6f, 0x72, 0x73, 0x6f, 0x2f, 0x4c, 0x61, 0x78, 0x6c, 0x65], UInt8[0x83, 0xa6, 0x6d, 0x61, 0x74, 0x72, 0x69, 0x78, 0xc7, 0x40  …  0x6f, 0x72, 0x73, 0x6f, 0x2f, 0x4c, 0x61, 0x78, 0x6c, 0x65], Dict{String, Vector{UInt8}}(), nothing, Dict{String, MeshCat.SceneTrees.SceneNode}()), \"Lleg\" => MeshCat.SceneTrees.SceneNode(nothing, UInt8[0x83, 0xa6, 0x6d, 0x61, 0x74, 0x72, 0x69, 0x78, 0xc7, 0x40  …  0x74, 0x6f, 0x72, 0x73, 0x6f, 0x2f, 0x4c, 0x6c, 0x65, 0x67], Dict{String, Vector{UInt8}}(), nothing, Dict{String, MeshCat.SceneTrees.SceneNode}(\"geom\" => MeshCat.SceneTrees.SceneNode(UInt8[0x83, 0xa6, 0x6f, 0x62, 0x6a, 0x65, 0x63, 0x74, 0x84, 0xaa  …  0x2f, 0x4c, 0x6c, 0x65, 0x67, 0x2f, 0x67, 0x65, 0x6f, 0x6d], UInt8[0x83, 0xa6, 0x6d, 0x61, 0x74, 0x72, 0x69, 0x78, 0xc7, 0x40  …  0x2f, 0x4c, 0x6c, 0x65, 0x67, 0x2f, 0x67, 0x65, 0x6f, 0x6d], Dict{String, Vector{UInt8}}(), nothing, Dict{String, MeshCat.SceneTrees.SceneNode}()))), \"Rleg\" => MeshCat.SceneTrees.SceneNode(nothing, UInt8[0x83, 0xa6, 0x6d, 0x61, 0x74, 0x72, 0x69, 0x78, 0xc7, 0x40  …  0x74, 0x6f, 0x72, 0x73, 0x6f, 0x2f, 0x52, 0x6c, 0x65, 0x67], Dict{String, Vector{UInt8}}(), nothing, Dict{String, MeshCat.SceneTrees.SceneNode}(\"geom\" => MeshCat.SceneTrees.SceneNode(UInt8[0x83, 0xa6, 0x6f, 0x62, 0x6a, 0x65, 0x63, 0x74, 0x84, 0xaa  …  0x2f, 0x52, 0x6c, 0x65, 0x67, 0x2f, 0x67, 0x65, 0x6f, 0x6d], UInt8[0x83, 0xa6, 0x6d, 0x61, 0x74, 0x72, 0x69, 0x78, 0xc7, 0x40  …  0x2f, 0x52, 0x6c, 0x65, 0x67, 0x2f, 0x67, 0x65, 0x6f, 0x6d], Dict{String, Vector{UInt8}}(), nothing, Dict{String, MeshCat.SceneTrees.SceneNode}()))), \"Raxle\" => MeshCat.SceneTrees.SceneNode(UInt8[0x83, 0xa6, 0x6f, 0x62, 0x6a, 0x65, 0x63, 0x74, 0x84, 0xaa  …  0x6f, 0x72, 0x73, 0x6f, 0x2f, 0x52, 0x61, 0x78, 0x6c, 0x65], UInt8[0x83, 0xa6, 0x6d, 0x61, 0x74, 0x72, 0x69, 0x78, 0xc7, 0x40  …  0x6f, 0x72, 0x73, 0x6f, 0x2f, 0x52, 0x61, 0x78, 0x6c, 0x65], Dict{String, Vector{UInt8}}(), nothing, Dict{String, MeshCat.SceneTrees.SceneNode}()))), \"Lfoot\" => MeshCat.SceneTrees.SceneNode(nothing, UInt8[0x83, 0xa6, 0x6d, 0x61, 0x74, 0x72, 0x69, 0x78, 0xc7, 0x40  …  0x6f, 0x62, 0x6f, 0x74, 0x2f, 0x4c, 0x66, 0x6f, 0x6f, 0x74], Dict{String, Vector{UInt8}}(), nothing, Dict{String, MeshCat.SceneTrees.SceneNode}(\"geom\" => MeshCat.SceneTrees.SceneNode(UInt8[0x83, 0xa6, 0x6f, 0x62, 0x6a, 0x65, 0x63, 0x74, 0x84, 0xaa  …  0x4c, 0x66, 0x6f, 0x6f, 0x74, 0x2f, 0x67, 0x65, 0x6f, 0x6d], UInt8[0x83, 0xa6, 0x6d, 0x61, 0x74, 0x72, 0x69, 0x78, 0xc7, 0x40  …  0x4c, 0x66, 0x6f, 0x6f, 0x74, 0x2f, 0x67, 0x65, 0x6f, 0x6d], Dict{String, Vector{UInt8}}(), nothing, Dict{String, MeshCat.SceneTrees.SceneNode}()))))))))), Set(Any[WebSocket(server, \u001b[32mCONNECTED\u001b[39m)]), ip\"127.0.0.1\", 8704))"
      ]
     },
     "metadata": {},
     "output_type": "display_data"
    }
   ],
   "metadata": {}
  },
  {
   "cell_type": "code",
   "execution_count": 24,
   "source": [
    "isautograder || visualize!(vis, nlp, Z_sol)"
   ],
   "outputs": [],
   "metadata": {}
  }
 ],
 "metadata": {
  "@webio": {
   "lastCommId": "06ae0ce534004235b788f1a5d0a7d59a",
   "lastKernelId": "320b288e-2315-4364-93b6-7c10c2dfbcc7"
  },
  "kernelspec": {
   "display_name": "Julia 1.6.5",
   "language": "julia",
   "name": "julia-1.6"
  },
  "language_info": {
   "name": "julia",
   "version": "1.6.5",
   "mimetype": "application/julia",
   "file_extension": ".jl"
  }
 },
 "nbformat": 4,
 "nbformat_minor": 4
}